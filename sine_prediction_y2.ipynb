{
 "cells": [
  {
   "cell_type": "markdown",
   "metadata": {},
   "source": [
    "\n",
    "# Special Topics in Astrodynamics | ae4889\n",
    "\n",
    "## Time-series prediction on a simple function"
   ]
  },
  {
   "cell_type": "markdown",
   "metadata": {},
   "source": [
    "#### Import the required packages"
   ]
  },
  {
   "cell_type": "code",
   "execution_count": 2,
   "metadata": {},
   "outputs": [],
   "source": [
    "import matplotlib.pyplot as plt\n",
    "import numpy as np\n",
    "import pandas as pd"
   ]
  },
  {
   "cell_type": "code",
   "execution_count": 3,
   "metadata": {},
   "outputs": [
    {
     "name": "stderr",
     "output_type": "stream",
     "text": [
      "C:\\Users\\pedro\\Anaconda3\\envs\\specialTopics\\lib\\site-packages\\tensorflow\\python\\framework\\dtypes.py:526: FutureWarning: Passing (type, 1) or '1type' as a synonym of type is deprecated; in a future version of numpy, it will be understood as (type, (1,)) / '(1,)type'.\n",
      "  _np_qint8 = np.dtype([(\"qint8\", np.int8, 1)])\n",
      "C:\\Users\\pedro\\Anaconda3\\envs\\specialTopics\\lib\\site-packages\\tensorflow\\python\\framework\\dtypes.py:527: FutureWarning: Passing (type, 1) or '1type' as a synonym of type is deprecated; in a future version of numpy, it will be understood as (type, (1,)) / '(1,)type'.\n",
      "  _np_quint8 = np.dtype([(\"quint8\", np.uint8, 1)])\n",
      "C:\\Users\\pedro\\Anaconda3\\envs\\specialTopics\\lib\\site-packages\\tensorflow\\python\\framework\\dtypes.py:528: FutureWarning: Passing (type, 1) or '1type' as a synonym of type is deprecated; in a future version of numpy, it will be understood as (type, (1,)) / '(1,)type'.\n",
      "  _np_qint16 = np.dtype([(\"qint16\", np.int16, 1)])\n",
      "C:\\Users\\pedro\\Anaconda3\\envs\\specialTopics\\lib\\site-packages\\tensorflow\\python\\framework\\dtypes.py:529: FutureWarning: Passing (type, 1) or '1type' as a synonym of type is deprecated; in a future version of numpy, it will be understood as (type, (1,)) / '(1,)type'.\n",
      "  _np_quint16 = np.dtype([(\"quint16\", np.uint16, 1)])\n",
      "C:\\Users\\pedro\\Anaconda3\\envs\\specialTopics\\lib\\site-packages\\tensorflow\\python\\framework\\dtypes.py:530: FutureWarning: Passing (type, 1) or '1type' as a synonym of type is deprecated; in a future version of numpy, it will be understood as (type, (1,)) / '(1,)type'.\n",
      "  _np_qint32 = np.dtype([(\"qint32\", np.int32, 1)])\n",
      "C:\\Users\\pedro\\Anaconda3\\envs\\specialTopics\\lib\\site-packages\\tensorflow\\python\\framework\\dtypes.py:535: FutureWarning: Passing (type, 1) or '1type' as a synonym of type is deprecated; in a future version of numpy, it will be understood as (type, (1,)) / '(1,)type'.\n",
      "  np_resource = np.dtype([(\"resource\", np.ubyte, 1)])\n"
     ]
    },
    {
     "name": "stdout",
     "output_type": "stream",
     "text": [
      "1.13.1\n"
     ]
    }
   ],
   "source": [
    "import tensorflow as tf\n",
    "\n",
    "from tensorflow import keras\n",
    "from tensorflow.keras import layers\n",
    "\n",
    "print(tf.__version__)\n",
    "\n",
    "from IPython.core.interactiveshell import InteractiveShell\n",
    "\n",
    "InteractiveShell.ast_node_interactivity = \"all\""
   ]
  },
  {
   "cell_type": "markdown",
   "metadata": {},
   "source": [
    "## Generate a dataset for training & validation"
   ]
  },
  {
   "cell_type": "markdown",
   "metadata": {},
   "source": [
    "Generate your data\n",
    "* Examine sine waves with a few different amplitudes and frequencies to assess peformance and robustness.\n",
    "* Start with `sin(x)`."
   ]
  },
  {
   "cell_type": "code",
   "execution_count": 92,
   "metadata": {
    "scrolled": false
   },
   "outputs": [],
   "source": [
    "nPoints = 5000\n",
    "A = 1\n",
    "T = 12*2*np.pi\n",
    "nPast = 5\n",
    "\n",
    "data = []\n",
    "for x in np.arange(0,nPoints):\n",
    "    y = A*np.sin(float(x)*(2*np.pi)/T)\n",
    "    x = (x%(T))/(T)\n",
    "#     data.append([x,y])\n",
    "    data.append([y,x])\n",
    "data = np.array(data)\n",
    "\n",
    "past = np.zeros((int(nPoints), int(nPast)))\n",
    "\n",
    "for i in np.arange(int(nPast),int(nPoints)):\n",
    "    past[i,:] = data[i-int(nPast):i,0]\n",
    "# np.vsplit(past,nPoints)"
   ]
  },
  {
   "cell_type": "markdown",
   "metadata": {},
   "source": [
    "Create a `pandas` dataframe for it"
   ]
  },
  {
   "cell_type": "code",
   "execution_count": 99,
   "metadata": {},
   "outputs": [
    {
     "data": {
      "text/html": [
       "<div>\n",
       "<style scoped>\n",
       "    .dataframe tbody tr th:only-of-type {\n",
       "        vertical-align: middle;\n",
       "    }\n",
       "\n",
       "    .dataframe tbody tr th {\n",
       "        vertical-align: top;\n",
       "    }\n",
       "\n",
       "    .dataframe thead th {\n",
       "        text-align: right;\n",
       "    }\n",
       "</style>\n",
       "<table border=\"1\" class=\"dataframe\">\n",
       "  <thead>\n",
       "    <tr style=\"text-align: right;\">\n",
       "      <th></th>\n",
       "      <th>-5</th>\n",
       "      <th>-4</th>\n",
       "      <th>-3</th>\n",
       "      <th>-2</th>\n",
       "      <th>-1</th>\n",
       "      <th>y</th>\n",
       "    </tr>\n",
       "  </thead>\n",
       "  <tbody>\n",
       "    <tr>\n",
       "      <th>5</th>\n",
       "      <td>0.000000</td>\n",
       "      <td>0.083237</td>\n",
       "      <td>0.165896</td>\n",
       "      <td>0.247404</td>\n",
       "      <td>0.327195</td>\n",
       "      <td>0.404715</td>\n",
       "    </tr>\n",
       "    <tr>\n",
       "      <th>6</th>\n",
       "      <td>0.083237</td>\n",
       "      <td>0.165896</td>\n",
       "      <td>0.247404</td>\n",
       "      <td>0.327195</td>\n",
       "      <td>0.404715</td>\n",
       "      <td>0.479426</td>\n",
       "    </tr>\n",
       "    <tr>\n",
       "      <th>7</th>\n",
       "      <td>0.165896</td>\n",
       "      <td>0.247404</td>\n",
       "      <td>0.327195</td>\n",
       "      <td>0.404715</td>\n",
       "      <td>0.479426</td>\n",
       "      <td>0.550809</td>\n",
       "    </tr>\n",
       "    <tr>\n",
       "      <th>8</th>\n",
       "      <td>0.247404</td>\n",
       "      <td>0.327195</td>\n",
       "      <td>0.404715</td>\n",
       "      <td>0.479426</td>\n",
       "      <td>0.550809</td>\n",
       "      <td>0.618370</td>\n",
       "    </tr>\n",
       "    <tr>\n",
       "      <th>9</th>\n",
       "      <td>0.327195</td>\n",
       "      <td>0.404715</td>\n",
       "      <td>0.479426</td>\n",
       "      <td>0.550809</td>\n",
       "      <td>0.618370</td>\n",
       "      <td>0.681639</td>\n",
       "    </tr>\n",
       "    <tr>\n",
       "      <th>...</th>\n",
       "      <td>...</td>\n",
       "      <td>...</td>\n",
       "      <td>...</td>\n",
       "      <td>...</td>\n",
       "      <td>...</td>\n",
       "      <td>...</td>\n",
       "    </tr>\n",
       "    <tr>\n",
       "      <th>4995</th>\n",
       "      <td>0.909925</td>\n",
       "      <td>0.941292</td>\n",
       "      <td>0.966126</td>\n",
       "      <td>0.984254</td>\n",
       "      <td>0.995551</td>\n",
       "      <td>0.999939</td>\n",
       "    </tr>\n",
       "    <tr>\n",
       "      <th>4996</th>\n",
       "      <td>0.941292</td>\n",
       "      <td>0.966126</td>\n",
       "      <td>0.984254</td>\n",
       "      <td>0.995551</td>\n",
       "      <td>0.999939</td>\n",
       "      <td>0.997387</td>\n",
       "    </tr>\n",
       "    <tr>\n",
       "      <th>4997</th>\n",
       "      <td>0.966126</td>\n",
       "      <td>0.984254</td>\n",
       "      <td>0.995551</td>\n",
       "      <td>0.999939</td>\n",
       "      <td>0.997387</td>\n",
       "      <td>0.987913</td>\n",
       "    </tr>\n",
       "    <tr>\n",
       "      <th>4998</th>\n",
       "      <td>0.984254</td>\n",
       "      <td>0.995551</td>\n",
       "      <td>0.999939</td>\n",
       "      <td>0.997387</td>\n",
       "      <td>0.987913</td>\n",
       "      <td>0.971581</td>\n",
       "    </tr>\n",
       "    <tr>\n",
       "      <th>4999</th>\n",
       "      <td>0.995551</td>\n",
       "      <td>0.999939</td>\n",
       "      <td>0.997387</td>\n",
       "      <td>0.987913</td>\n",
       "      <td>0.971581</td>\n",
       "      <td>0.948507</td>\n",
       "    </tr>\n",
       "  </tbody>\n",
       "</table>\n",
       "<p>4995 rows × 6 columns</p>\n",
       "</div>"
      ],
      "text/plain": [
       "            -5        -4        -3        -2        -1         y\n",
       "5     0.000000  0.083237  0.165896  0.247404  0.327195  0.404715\n",
       "6     0.083237  0.165896  0.247404  0.327195  0.404715  0.479426\n",
       "7     0.165896  0.247404  0.327195  0.404715  0.479426  0.550809\n",
       "8     0.247404  0.327195  0.404715  0.479426  0.550809  0.618370\n",
       "9     0.327195  0.404715  0.479426  0.550809  0.618370  0.681639\n",
       "...        ...       ...       ...       ...       ...       ...\n",
       "4995  0.909925  0.941292  0.966126  0.984254  0.995551  0.999939\n",
       "4996  0.941292  0.966126  0.984254  0.995551  0.999939  0.997387\n",
       "4997  0.966126  0.984254  0.995551  0.999939  0.997387  0.987913\n",
       "4998  0.984254  0.995551  0.999939  0.997387  0.987913  0.971581\n",
       "4999  0.995551  0.999939  0.997387  0.987913  0.971581  0.948507\n",
       "\n",
       "[4995 rows x 6 columns]"
      ]
     },
     "execution_count": 99,
     "metadata": {},
     "output_type": "execute_result"
    }
   ],
   "source": [
    "pdata2 = pd.DataFrame(past, columns=np.arange(-nPast,0))\n",
    "pdata2['y'] = data[:,0]\n",
    "pdata2 = pdata2.drop(np.arange(nPast))\n",
    "pdata2"
   ]
  },
  {
   "cell_type": "markdown",
   "metadata": {},
   "source": [
    "Visual check of the dataset"
   ]
  },
  {
   "cell_type": "code",
   "execution_count": 62,
   "metadata": {},
   "outputs": [
    {
     "data": {
      "text/plain": [
       "<matplotlib.collections.PathCollection at 0x2a5621b7e48>"
      ]
     },
     "execution_count": 62,
     "metadata": {},
     "output_type": "execute_result"
    },
    {
     "data": {
      "image/png": "[encoded data removed]",
      "text/plain": [
       "<Figure size 432x288 with 1 Axes>"
      ]
     },
     "metadata": {
      "needs_background": "light"
     },
     "output_type": "display_data"
    }
   ],
   "source": [
    "%matplotlib inline\n",
    "plt.scatter(data[nPast:,1],pdata2['y'])"
   ]
  },
  {
   "cell_type": "markdown",
   "metadata": {},
   "source": [
    "Split the dataset into training and testing sets"
   ]
  },
  {
   "cell_type": "code",
   "execution_count": 63,
   "metadata": {
    "scrolled": true
   },
   "outputs": [],
   "source": [
    "train_dataset = pdata.sample(frac=0.8, random_state=0)\n",
    "test_dataset = pdata.drop(train_dataset.index)\n",
    "\n",
    "train_dataset2 = pdata2.sample(frac=0.8, random_state=0)\n",
    "test_dataset2 = pdata2.drop(train_dataset2.index)"
   ]
  },
  {
   "cell_type": "markdown",
   "metadata": {},
   "source": [
    "Split features from labels"
   ]
  },
  {
   "cell_type": "code",
   "execution_count": 64,
   "metadata": {
    "scrolled": true
   },
   "outputs": [],
   "source": [
    "train_labels2 = train_dataset2.pop('y')\n",
    "test_labels2 = test_dataset2.pop('y')"
   ]
  },
  {
   "cell_type": "code",
   "execution_count": 65,
   "metadata": {},
   "outputs": [
    {
     "data": {
      "text/plain": [
       "1290    0.633331\n",
       "3595   -0.905277\n",
       "4383    0.734719\n",
       "391     0.919736\n",
       "3822   -0.931728\n",
       "          ...   \n",
       "2340    0.219455\n",
       "71     -0.358367\n",
       "3315   -0.208610\n",
       "1450    0.993048\n",
       "4480    0.493572\n",
       "Name: y, Length: 3988, dtype: float64"
      ]
     },
     "execution_count": 65,
     "metadata": {},
     "output_type": "execute_result"
    }
   ],
   "source": [
    "train_labels2"
   ]
  },
  {
   "cell_type": "markdown",
   "metadata": {},
   "source": [
    "##### Create a model"
   ]
  },
  {
   "cell_type": "code",
   "execution_count": 66,
   "metadata": {
    "colab": {},
    "colab_type": "code",
    "id": "c26juK7ZG8j-"
   },
   "outputs": [],
   "source": [
    "def build_model():\n",
    "    model = keras.Sequential([\n",
    "        layers.Dense(25, activation='relu', input_shape=[len(train_dataset.keys())]),\n",
    "        layers.Dense(25, activation='relu'),\n",
    "        layers.Dense(1)\n",
    "    ])\n",
    "\n",
    "    model.compile(loss='mse',\n",
    "                optimizer='adam',\n",
    "                metrics=['accuracy'])\n",
    "    return model\n",
    "\n",
    "def build_model2():\n",
    "    model = keras.Sequential([\n",
    "        layers.Dense(25, activation='relu', input_shape=[len(train_dataset2.keys())]),\n",
    "        layers.Dense(25, activation='relu'),\n",
    "        layers.Dense(1)\n",
    "    ])\n",
    "\n",
    "    model.compile(loss='mse',\n",
    "                optimizer='adam',\n",
    "                metrics=['accuracy'])\n",
    "    return model"
   ]
  },
  {
   "cell_type": "code",
   "execution_count": 67,
   "metadata": {},
   "outputs": [],
   "source": [
    "model = build_model()\n",
    "model2 = build_model2()"
   ]
  },
  {
   "cell_type": "code",
   "execution_count": 68,
   "metadata": {
    "scrolled": false
   },
   "outputs": [
    {
     "name": "stdout",
     "output_type": "stream",
     "text": [
      "_________________________________________________________________\n",
      "Layer (type)                 Output Shape              Param #   \n",
      "=================================================================\n",
      "dense_15 (Dense)             (None, 25)                400       \n",
      "_________________________________________________________________\n",
      "dense_16 (Dense)             (None, 25)                650       \n",
      "_________________________________________________________________\n",
      "dense_17 (Dense)             (None, 1)                 26        \n",
      "=================================================================\n",
      "Total params: 1,076\n",
      "Trainable params: 1,076\n",
      "Non-trainable params: 0\n",
      "_________________________________________________________________\n"
     ]
    }
   ],
   "source": [
    "model2.summary()"
   ]
  },
  {
   "cell_type": "markdown",
   "metadata": {},
   "source": [
    "#### Train the model"
   ]
  },
  {
   "cell_type": "code",
   "execution_count": null,
   "metadata": {},
   "outputs": [],
   "source": []
  },
  {
   "cell_type": "code",
   "execution_count": 69,
   "metadata": {
    "scrolled": true
   },
   "outputs": [
    {
     "name": "stdout",
     "output_type": "stream",
     "text": [
      "Train on 3190 samples, validate on 798 samples\n",
      "Epoch 1/4\n",
      "3190/3190 [==============================] - 1s 188us/sample - loss: 0.1094 - acc: 3.1348e-04 - val_loss: 0.0017 - val_acc: 0.0000e+00\n",
      "Epoch 2/4\n",
      "3190/3190 [==============================] - 0s 78us/sample - loss: 5.4391e-04 - acc: 3.1348e-04 - val_loss: 1.9423e-04 - val_acc: 0.0000e+00\n",
      "Epoch 3/4\n",
      "3190/3190 [==============================] - 0s 77us/sample - loss: 1.4129e-04 - acc: 3.1348e-04 - val_loss: 9.7096e-05 - val_acc: 0.0000e+00\n",
      "Epoch 4/4\n",
      "3190/3190 [==============================] - 0s 66us/sample - loss: 7.5792e-05 - acc: 3.1348e-04 - val_loss: 6.1381e-05 - val_acc: 0.0000e+00\n"
     ]
    }
   ],
   "source": [
    "history = model2.fit(train_dataset2, train_labels2, validation_split=0.2, epochs=4)"
   ]
  },
  {
   "cell_type": "markdown",
   "metadata": {},
   "source": [
    "Visualize the model's training progress via the history object"
   ]
  },
  {
   "cell_type": "code",
   "execution_count": 70,
   "metadata": {},
   "outputs": [
    {
     "data": {
      "text/html": [
       "<div>\n",
       "<style scoped>\n",
       "    .dataframe tbody tr th:only-of-type {\n",
       "        vertical-align: middle;\n",
       "    }\n",
       "\n",
       "    .dataframe tbody tr th {\n",
       "        vertical-align: top;\n",
       "    }\n",
       "\n",
       "    .dataframe thead th {\n",
       "        text-align: right;\n",
       "    }\n",
       "</style>\n",
       "<table border=\"1\" class=\"dataframe\">\n",
       "  <thead>\n",
       "    <tr style=\"text-align: right;\">\n",
       "      <th></th>\n",
       "      <th>loss</th>\n",
       "      <th>acc</th>\n",
       "      <th>val_loss</th>\n",
       "      <th>val_acc</th>\n",
       "      <th>epoch</th>\n",
       "    </tr>\n",
       "  </thead>\n",
       "  <tbody>\n",
       "    <tr>\n",
       "      <th>0</th>\n",
       "      <td>0.109428</td>\n",
       "      <td>0.000313</td>\n",
       "      <td>0.001672</td>\n",
       "      <td>0.0</td>\n",
       "      <td>0</td>\n",
       "    </tr>\n",
       "    <tr>\n",
       "      <th>1</th>\n",
       "      <td>0.000544</td>\n",
       "      <td>0.000313</td>\n",
       "      <td>0.000194</td>\n",
       "      <td>0.0</td>\n",
       "      <td>1</td>\n",
       "    </tr>\n",
       "    <tr>\n",
       "      <th>2</th>\n",
       "      <td>0.000141</td>\n",
       "      <td>0.000313</td>\n",
       "      <td>0.000097</td>\n",
       "      <td>0.0</td>\n",
       "      <td>2</td>\n",
       "    </tr>\n",
       "    <tr>\n",
       "      <th>3</th>\n",
       "      <td>0.000076</td>\n",
       "      <td>0.000313</td>\n",
       "      <td>0.000061</td>\n",
       "      <td>0.0</td>\n",
       "      <td>3</td>\n",
       "    </tr>\n",
       "  </tbody>\n",
       "</table>\n",
       "</div>"
      ],
      "text/plain": [
       "       loss       acc  val_loss  val_acc  epoch\n",
       "0  0.109428  0.000313  0.001672      0.0      0\n",
       "1  0.000544  0.000313  0.000194      0.0      1\n",
       "2  0.000141  0.000313  0.000097      0.0      2\n",
       "3  0.000076  0.000313  0.000061      0.0      3"
      ]
     },
     "execution_count": 70,
     "metadata": {},
     "output_type": "execute_result"
    }
   ],
   "source": [
    "hist = pd.DataFrame(history.history)\n",
    "hist['epoch'] = history.epoch\n",
    "hist.tail()"
   ]
  },
  {
   "cell_type": "markdown",
   "metadata": {
    "colab_type": "text",
    "id": "EIdT9iu_Z4Rb"
   },
   "source": [
    "## Basic regression: predict future values of the sine function"
   ]
  },
  {
   "cell_type": "markdown",
   "metadata": {},
   "source": [
    "#### Predict with the model"
   ]
  },
  {
   "cell_type": "markdown",
   "metadata": {},
   "source": [
    "If you trained on `n` points (eg. `n = 49`), now predict the value of point `n+1`"
   ]
  },
  {
   "cell_type": "markdown",
   "metadata": {},
   "source": [
    "Once you have predicted a single future point, develop a 'rolling' predictor which drops the first point and predicts point `n+2` based on the set of points `[2,n+1]`."
   ]
  },
  {
   "cell_type": "markdown",
   "metadata": {},
   "source": [
    "Examine the quality of the results for the mechanism to predict points into the future."
   ]
  },
  {
   "cell_type": "markdown",
   "metadata": {},
   "source": [
    "____"
   ]
  },
  {
   "cell_type": "markdown",
   "metadata": {},
   "source": [
    "#### Plot the history"
   ]
  },
  {
   "cell_type": "code",
   "execution_count": 71,
   "metadata": {
    "scrolled": true
   },
   "outputs": [
    {
     "data": {
      "text/plain": [
       "[<matplotlib.lines.Line2D at 0x2a563a571c8>]"
      ]
     },
     "execution_count": 71,
     "metadata": {},
     "output_type": "execute_result"
    },
    {
     "data": {
      "text/plain": [
       "[<matplotlib.lines.Line2D at 0x2a562a437c8>]"
      ]
     },
     "execution_count": 71,
     "metadata": {},
     "output_type": "execute_result"
    },
    {
     "data": {
      "text/plain": [
       "Text(0.5, 1.0, 'model loss')"
      ]
     },
     "execution_count": 71,
     "metadata": {},
     "output_type": "execute_result"
    },
    {
     "data": {
      "text/plain": [
       "Text(0, 0.5, 'loss')"
      ]
     },
     "execution_count": 71,
     "metadata": {},
     "output_type": "execute_result"
    },
    {
     "data": {
      "text/plain": [
       "Text(0.5, 0, 'epoch')"
      ]
     },
     "execution_count": 71,
     "metadata": {},
     "output_type": "execute_result"
    },
    {
     "data": {
      "text/plain": [
       "<matplotlib.legend.Legend at 0x2a563a57e88>"
      ]
     },
     "execution_count": 71,
     "metadata": {},
     "output_type": "execute_result"
    },
    {
     "data": {
      "image/png": "[encoded data removed]",
      "text/plain": [
       "<Figure size 432x288 with 1 Axes>"
      ]
     },
     "metadata": {
      "needs_background": "light"
     },
     "output_type": "display_data"
    }
   ],
   "source": [
    "plt.plot(history.history['loss'])\n",
    "plt.plot(history.history['val_loss'])\n",
    "plt.title('model loss')\n",
    "plt.ylabel('loss')\n",
    "plt.xlabel('epoch')\n",
    "plt.legend(['loss','val_loss'],loc='upper right')\n",
    "plt.show()"
   ]
  },
  {
   "cell_type": "markdown",
   "metadata": {},
   "source": [
    "Are `10` epochs too few? If so, try training for more epochs."
   ]
  },
  {
   "cell_type": "code",
   "execution_count": 72,
   "metadata": {},
   "outputs": [],
   "source": [
    "test_predictions2 = model2.predict(test_dataset2).flatten()"
   ]
  },
  {
   "cell_type": "markdown",
   "metadata": {
    "colab_type": "text",
    "id": "ft603OzXuEZC"
   },
   "source": [
    "### Make predictions\n",
    "\n",
    "Finally, predict values using data in the test set:"
   ]
  },
  {
   "cell_type": "code",
   "execution_count": 73,
   "metadata": {
    "colab": {},
    "colab_type": "code",
    "id": "Xe7RXH3N3CWU"
   },
   "outputs": [
    {
     "data": {
      "text/plain": [
       "<matplotlib.collections.PathCollection at 0x2a562120148>"
      ]
     },
     "execution_count": 73,
     "metadata": {},
     "output_type": "execute_result"
    },
    {
     "data": {
      "text/plain": [
       "Text(0.5, 0, 'True Values')"
      ]
     },
     "execution_count": 73,
     "metadata": {},
     "output_type": "execute_result"
    },
    {
     "data": {
      "text/plain": [
       "Text(0, 0.5, 'Predictions')"
      ]
     },
     "execution_count": 73,
     "metadata": {},
     "output_type": "execute_result"
    },
    {
     "data": {
      "text/plain": [
       "(-2.0, 2.0)"
      ]
     },
     "execution_count": 73,
     "metadata": {},
     "output_type": "execute_result"
    },
    {
     "data": {
      "text/plain": [
       "(-2.0, 2.0)"
      ]
     },
     "execution_count": 73,
     "metadata": {},
     "output_type": "execute_result"
    },
    {
     "data": {
      "image/png": "[encoded data removed]",
      "text/plain": [
       "<Figure size 432x288 with 1 Axes>"
      ]
     },
     "metadata": {
      "needs_background": "light"
     },
     "output_type": "display_data"
    }
   ],
   "source": [
    "test_predictions2 = model2.predict(test_dataset2).flatten()\n",
    "\n",
    "a = plt.axes(aspect='equal')\n",
    "plt.scatter(test_labels2, test_predictions2)\n",
    "plt.xlabel('True Values')\n",
    "plt.ylabel('Predictions')\n",
    "plt.xlim([-2,2])\n",
    "plt.ylim([-2,2])\n",
    "_ = plt.plot([-2,2], [-2,2])"
   ]
  },
  {
   "cell_type": "code",
   "execution_count": 74,
   "metadata": {},
   "outputs": [
    {
     "ename": "KeyError",
     "evalue": "'x'",
     "output_type": "error",
     "traceback": [
      "\u001b[1;31m---------------------------------------------------------------------------\u001b[0m",
      "\u001b[1;31mKeyError\u001b[0m                                  Traceback (most recent call last)",
      "\u001b[1;32m~\\Anaconda3\\envs\\specialTopics\\lib\\site-packages\\pandas\\core\\indexes\\base.py\u001b[0m in \u001b[0;36mget_loc\u001b[1;34m(self, key, method, tolerance)\u001b[0m\n\u001b[0;32m   2645\u001b[0m             \u001b[1;32mtry\u001b[0m\u001b[1;33m:\u001b[0m\u001b[1;33m\u001b[0m\u001b[1;33m\u001b[0m\u001b[0m\n\u001b[1;32m-> 2646\u001b[1;33m                 \u001b[1;32mreturn\u001b[0m \u001b[0mself\u001b[0m\u001b[1;33m.\u001b[0m\u001b[0m_engine\u001b[0m\u001b[1;33m.\u001b[0m\u001b[0mget_loc\u001b[0m\u001b[1;33m(\u001b[0m\u001b[0mkey\u001b[0m\u001b[1;33m)\u001b[0m\u001b[1;33m\u001b[0m\u001b[1;33m\u001b[0m\u001b[0m\n\u001b[0m\u001b[0;32m   2647\u001b[0m             \u001b[1;32mexcept\u001b[0m \u001b[0mKeyError\u001b[0m\u001b[1;33m:\u001b[0m\u001b[1;33m\u001b[0m\u001b[1;33m\u001b[0m\u001b[0m\n",
      "\u001b[1;32mpandas\\_libs\\index.pyx\u001b[0m in \u001b[0;36mpandas._libs.index.IndexEngine.get_loc\u001b[1;34m()\u001b[0m\n",
      "\u001b[1;32mpandas\\_libs\\index.pyx\u001b[0m in \u001b[0;36mpandas._libs.index.IndexEngine.get_loc\u001b[1;34m()\u001b[0m\n",
      "\u001b[1;32mpandas\\_libs\\hashtable_class_helper.pxi\u001b[0m in \u001b[0;36mpandas._libs.hashtable.PyObjectHashTable.get_item\u001b[1;34m()\u001b[0m\n",
      "\u001b[1;32mpandas\\_libs\\hashtable_class_helper.pxi\u001b[0m in \u001b[0;36mpandas._libs.hashtable.PyObjectHashTable.get_item\u001b[1;34m()\u001b[0m\n",
      "\u001b[1;31mKeyError\u001b[0m: 'x'",
      "\nDuring handling of the above exception, another exception occurred:\n",
      "\u001b[1;31mKeyError\u001b[0m                                  Traceback (most recent call last)",
      "\u001b[1;32m<ipython-input-74-2301ceb46acc>\u001b[0m in \u001b[0;36m<module>\u001b[1;34m\u001b[0m\n\u001b[0;32m      1\u001b[0m \u001b[0mget_ipython\u001b[0m\u001b[1;33m(\u001b[0m\u001b[1;33m)\u001b[0m\u001b[1;33m.\u001b[0m\u001b[0mrun_line_magic\u001b[0m\u001b[1;33m(\u001b[0m\u001b[1;34m'matplotlib'\u001b[0m\u001b[1;33m,\u001b[0m \u001b[1;34m'inline'\u001b[0m\u001b[1;33m)\u001b[0m\u001b[1;33m\u001b[0m\u001b[1;33m\u001b[0m\u001b[0m\n\u001b[1;32m----> 2\u001b[1;33m \u001b[0mplt\u001b[0m\u001b[1;33m.\u001b[0m\u001b[0mscatter\u001b[0m\u001b[1;33m(\u001b[0m\u001b[0mtest_dataset2\u001b[0m\u001b[1;33m[\u001b[0m\u001b[1;34m'x'\u001b[0m\u001b[1;33m]\u001b[0m\u001b[1;33m,\u001b[0m\u001b[0mtest_predictions2\u001b[0m\u001b[1;33m)\u001b[0m\u001b[1;33m\u001b[0m\u001b[1;33m\u001b[0m\u001b[0m\n\u001b[0m",
      "\u001b[1;32m~\\Anaconda3\\envs\\specialTopics\\lib\\site-packages\\pandas\\core\\frame.py\u001b[0m in \u001b[0;36m__getitem__\u001b[1;34m(self, key)\u001b[0m\n\u001b[0;32m   2798\u001b[0m             \u001b[1;32mif\u001b[0m \u001b[0mself\u001b[0m\u001b[1;33m.\u001b[0m\u001b[0mcolumns\u001b[0m\u001b[1;33m.\u001b[0m\u001b[0mnlevels\u001b[0m \u001b[1;33m>\u001b[0m \u001b[1;36m1\u001b[0m\u001b[1;33m:\u001b[0m\u001b[1;33m\u001b[0m\u001b[1;33m\u001b[0m\u001b[0m\n\u001b[0;32m   2799\u001b[0m                 \u001b[1;32mreturn\u001b[0m \u001b[0mself\u001b[0m\u001b[1;33m.\u001b[0m\u001b[0m_getitem_multilevel\u001b[0m\u001b[1;33m(\u001b[0m\u001b[0mkey\u001b[0m\u001b[1;33m)\u001b[0m\u001b[1;33m\u001b[0m\u001b[1;33m\u001b[0m\u001b[0m\n\u001b[1;32m-> 2800\u001b[1;33m             \u001b[0mindexer\u001b[0m \u001b[1;33m=\u001b[0m \u001b[0mself\u001b[0m\u001b[1;33m.\u001b[0m\u001b[0mcolumns\u001b[0m\u001b[1;33m.\u001b[0m\u001b[0mget_loc\u001b[0m\u001b[1;33m(\u001b[0m\u001b[0mkey\u001b[0m\u001b[1;33m)\u001b[0m\u001b[1;33m\u001b[0m\u001b[1;33m\u001b[0m\u001b[0m\n\u001b[0m\u001b[0;32m   2801\u001b[0m             \u001b[1;32mif\u001b[0m \u001b[0mis_integer\u001b[0m\u001b[1;33m(\u001b[0m\u001b[0mindexer\u001b[0m\u001b[1;33m)\u001b[0m\u001b[1;33m:\u001b[0m\u001b[1;33m\u001b[0m\u001b[1;33m\u001b[0m\u001b[0m\n\u001b[0;32m   2802\u001b[0m                 \u001b[0mindexer\u001b[0m \u001b[1;33m=\u001b[0m \u001b[1;33m[\u001b[0m\u001b[0mindexer\u001b[0m\u001b[1;33m]\u001b[0m\u001b[1;33m\u001b[0m\u001b[1;33m\u001b[0m\u001b[0m\n",
      "\u001b[1;32m~\\Anaconda3\\envs\\specialTopics\\lib\\site-packages\\pandas\\core\\indexes\\base.py\u001b[0m in \u001b[0;36mget_loc\u001b[1;34m(self, key, method, tolerance)\u001b[0m\n\u001b[0;32m   2646\u001b[0m                 \u001b[1;32mreturn\u001b[0m \u001b[0mself\u001b[0m\u001b[1;33m.\u001b[0m\u001b[0m_engine\u001b[0m\u001b[1;33m.\u001b[0m\u001b[0mget_loc\u001b[0m\u001b[1;33m(\u001b[0m\u001b[0mkey\u001b[0m\u001b[1;33m)\u001b[0m\u001b[1;33m\u001b[0m\u001b[1;33m\u001b[0m\u001b[0m\n\u001b[0;32m   2647\u001b[0m             \u001b[1;32mexcept\u001b[0m \u001b[0mKeyError\u001b[0m\u001b[1;33m:\u001b[0m\u001b[1;33m\u001b[0m\u001b[1;33m\u001b[0m\u001b[0m\n\u001b[1;32m-> 2648\u001b[1;33m                 \u001b[1;32mreturn\u001b[0m \u001b[0mself\u001b[0m\u001b[1;33m.\u001b[0m\u001b[0m_engine\u001b[0m\u001b[1;33m.\u001b[0m\u001b[0mget_loc\u001b[0m\u001b[1;33m(\u001b[0m\u001b[0mself\u001b[0m\u001b[1;33m.\u001b[0m\u001b[0m_maybe_cast_indexer\u001b[0m\u001b[1;33m(\u001b[0m\u001b[0mkey\u001b[0m\u001b[1;33m)\u001b[0m\u001b[1;33m)\u001b[0m\u001b[1;33m\u001b[0m\u001b[1;33m\u001b[0m\u001b[0m\n\u001b[0m\u001b[0;32m   2649\u001b[0m         \u001b[0mindexer\u001b[0m \u001b[1;33m=\u001b[0m \u001b[0mself\u001b[0m\u001b[1;33m.\u001b[0m\u001b[0mget_indexer\u001b[0m\u001b[1;33m(\u001b[0m\u001b[1;33m[\u001b[0m\u001b[0mkey\u001b[0m\u001b[1;33m]\u001b[0m\u001b[1;33m,\u001b[0m \u001b[0mmethod\u001b[0m\u001b[1;33m=\u001b[0m\u001b[0mmethod\u001b[0m\u001b[1;33m,\u001b[0m \u001b[0mtolerance\u001b[0m\u001b[1;33m=\u001b[0m\u001b[0mtolerance\u001b[0m\u001b[1;33m)\u001b[0m\u001b[1;33m\u001b[0m\u001b[1;33m\u001b[0m\u001b[0m\n\u001b[0;32m   2650\u001b[0m         \u001b[1;32mif\u001b[0m \u001b[0mindexer\u001b[0m\u001b[1;33m.\u001b[0m\u001b[0mndim\u001b[0m \u001b[1;33m>\u001b[0m \u001b[1;36m1\u001b[0m \u001b[1;32mor\u001b[0m \u001b[0mindexer\u001b[0m\u001b[1;33m.\u001b[0m\u001b[0msize\u001b[0m \u001b[1;33m>\u001b[0m \u001b[1;36m1\u001b[0m\u001b[1;33m:\u001b[0m\u001b[1;33m\u001b[0m\u001b[1;33m\u001b[0m\u001b[0m\n",
      "\u001b[1;32mpandas\\_libs\\index.pyx\u001b[0m in \u001b[0;36mpandas._libs.index.IndexEngine.get_loc\u001b[1;34m()\u001b[0m\n",
      "\u001b[1;32mpandas\\_libs\\index.pyx\u001b[0m in \u001b[0;36mpandas._libs.index.IndexEngine.get_loc\u001b[1;34m()\u001b[0m\n",
      "\u001b[1;32mpandas\\_libs\\hashtable_class_helper.pxi\u001b[0m in \u001b[0;36mpandas._libs.hashtable.PyObjectHashTable.get_item\u001b[1;34m()\u001b[0m\n",
      "\u001b[1;32mpandas\\_libs\\hashtable_class_helper.pxi\u001b[0m in \u001b[0;36mpandas._libs.hashtable.PyObjectHashTable.get_item\u001b[1;34m()\u001b[0m\n",
      "\u001b[1;31mKeyError\u001b[0m: 'x'"
     ]
    }
   ],
   "source": [
    "%matplotlib inline\n",
    "plt.scatter(test_dataset2['x'],test_predictions2)"
   ]
  },
  {
   "cell_type": "markdown",
   "metadata": {
    "colab_type": "text",
    "id": "19wyogbOSU5t"
   },
   "source": [
    "Take a look at the error distribution."
   ]
  },
  {
   "cell_type": "code",
   "execution_count": 75,
   "metadata": {
    "colab": {},
    "colab_type": "code",
    "id": "f-OHX4DiXd8x"
   },
   "outputs": [
    {
     "data": {
      "text/plain": [
       "(array([ 10.,   8.,   6.,   9.,  10.,  13.,  30.,  25.,  25.,  19.,  21.,\n",
       "         41.,  63., 102., 195., 112.,  94.,  65.,  41.,  34.,  25.,  23.,\n",
       "         10.,  10.,   6.]),\n",
       " array([-0.02216752, -0.02051102, -0.01885452, -0.01719801, -0.01554151,\n",
       "        -0.01388501, -0.01222851, -0.010572  , -0.0089155 , -0.007259  ,\n",
       "        -0.0056025 , -0.00394599, -0.00228949, -0.00063299,  0.00102351,\n",
       "         0.00268002,  0.00433652,  0.00599302,  0.00764952,  0.00930602,\n",
       "         0.01096253,  0.01261903,  0.01427553,  0.01593203,  0.01758854,\n",
       "         0.01924504]),\n",
       " <a list of 25 Patch objects>)"
      ]
     },
     "execution_count": 75,
     "metadata": {},
     "output_type": "execute_result"
    },
    {
     "data": {
      "text/plain": [
       "Text(0.5, 0, 'Prediction Error')"
      ]
     },
     "execution_count": 75,
     "metadata": {},
     "output_type": "execute_result"
    },
    {
     "data": {
      "image/png": "[encoded data removed]",
      "text/plain": [
       "<Figure size 432x288 with 1 Axes>"
      ]
     },
     "metadata": {
      "needs_background": "light"
     },
     "output_type": "display_data"
    }
   ],
   "source": [
    "error = test_predictions2 - test_labels2\n",
    "plt.hist(error, bins = 25)\n",
    "plt.xlabel(\"Prediction Error\")\n",
    "_ = plt.ylabel(\"Count\")"
   ]
  },
  {
   "cell_type": "code",
   "execution_count": 90,
   "metadata": {},
   "outputs": [
    {
     "data": {
      "text/html": [
       "<div>\n",
       "<style scoped>\n",
       "    .dataframe tbody tr th:only-of-type {\n",
       "        vertical-align: middle;\n",
       "    }\n",
       "\n",
       "    .dataframe tbody tr th {\n",
       "        vertical-align: top;\n",
       "    }\n",
       "\n",
       "    .dataframe thead th {\n",
       "        text-align: right;\n",
       "    }\n",
       "</style>\n",
       "<table border=\"1\" class=\"dataframe\">\n",
       "  <thead>\n",
       "    <tr style=\"text-align: right;\">\n",
       "      <th></th>\n",
       "      <th>-15</th>\n",
       "      <th>-14</th>\n",
       "      <th>-13</th>\n",
       "      <th>-12</th>\n",
       "      <th>-11</th>\n",
       "      <th>-10</th>\n",
       "      <th>-9</th>\n",
       "      <th>-8</th>\n",
       "      <th>-7</th>\n",
       "      <th>-6</th>\n",
       "      <th>-5</th>\n",
       "      <th>-4</th>\n",
       "      <th>-3</th>\n",
       "      <th>-2</th>\n",
       "      <th>-1</th>\n",
       "      <th>y</th>\n",
       "    </tr>\n",
       "  </thead>\n",
       "  <tbody>\n",
       "    <tr>\n",
       "      <th>0</th>\n",
       "      <td>0.000000</td>\n",
       "      <td>0.083237</td>\n",
       "      <td>0.165896</td>\n",
       "      <td>0.247404</td>\n",
       "      <td>0.327195</td>\n",
       "      <td>0.404715</td>\n",
       "      <td>0.479426</td>\n",
       "      <td>0.550809</td>\n",
       "      <td>0.618370</td>\n",
       "      <td>0.681639</td>\n",
       "      <td>0.740177</td>\n",
       "      <td>0.793578</td>\n",
       "      <td>0.841471</td>\n",
       "      <td>0.883524</td>\n",
       "      <td>0.919445</td>\n",
       "      <td>0.953557</td>\n",
       "    </tr>\n",
       "    <tr>\n",
       "      <th>1</th>\n",
       "      <td>0.083237</td>\n",
       "      <td>0.165896</td>\n",
       "      <td>0.247404</td>\n",
       "      <td>0.327195</td>\n",
       "      <td>0.404715</td>\n",
       "      <td>0.479426</td>\n",
       "      <td>0.550809</td>\n",
       "      <td>0.618370</td>\n",
       "      <td>0.681639</td>\n",
       "      <td>0.740177</td>\n",
       "      <td>0.793578</td>\n",
       "      <td>0.841471</td>\n",
       "      <td>0.883524</td>\n",
       "      <td>0.919445</td>\n",
       "      <td>0.953557</td>\n",
       "      <td>0.967329</td>\n",
       "    </tr>\n",
       "    <tr>\n",
       "      <th>2</th>\n",
       "      <td>0.165896</td>\n",
       "      <td>0.247404</td>\n",
       "      <td>0.327195</td>\n",
       "      <td>0.404715</td>\n",
       "      <td>0.479426</td>\n",
       "      <td>0.550809</td>\n",
       "      <td>0.618370</td>\n",
       "      <td>0.681639</td>\n",
       "      <td>0.740177</td>\n",
       "      <td>0.793578</td>\n",
       "      <td>0.841471</td>\n",
       "      <td>0.883524</td>\n",
       "      <td>0.919445</td>\n",
       "      <td>0.953557</td>\n",
       "      <td>0.967329</td>\n",
       "      <td>0.976033</td>\n",
       "    </tr>\n",
       "    <tr>\n",
       "      <th>3</th>\n",
       "      <td>0.247404</td>\n",
       "      <td>0.327195</td>\n",
       "      <td>0.404715</td>\n",
       "      <td>0.479426</td>\n",
       "      <td>0.550809</td>\n",
       "      <td>0.618370</td>\n",
       "      <td>0.681639</td>\n",
       "      <td>0.740177</td>\n",
       "      <td>0.793578</td>\n",
       "      <td>0.841471</td>\n",
       "      <td>0.883524</td>\n",
       "      <td>0.919445</td>\n",
       "      <td>0.953557</td>\n",
       "      <td>0.967329</td>\n",
       "      <td>0.976033</td>\n",
       "      <td>0.988208</td>\n",
       "    </tr>\n",
       "    <tr>\n",
       "      <th>4</th>\n",
       "      <td>0.327195</td>\n",
       "      <td>0.404715</td>\n",
       "      <td>0.479426</td>\n",
       "      <td>0.550809</td>\n",
       "      <td>0.618370</td>\n",
       "      <td>0.681639</td>\n",
       "      <td>0.740177</td>\n",
       "      <td>0.793578</td>\n",
       "      <td>0.841471</td>\n",
       "      <td>0.883524</td>\n",
       "      <td>0.919445</td>\n",
       "      <td>0.953557</td>\n",
       "      <td>0.967329</td>\n",
       "      <td>0.976033</td>\n",
       "      <td>0.988208</td>\n",
       "      <td>0.997227</td>\n",
       "    </tr>\n",
       "    <tr>\n",
       "      <th>...</th>\n",
       "      <td>...</td>\n",
       "      <td>...</td>\n",
       "      <td>...</td>\n",
       "      <td>...</td>\n",
       "      <td>...</td>\n",
       "      <td>...</td>\n",
       "      <td>...</td>\n",
       "      <td>...</td>\n",
       "      <td>...</td>\n",
       "      <td>...</td>\n",
       "      <td>...</td>\n",
       "      <td>...</td>\n",
       "      <td>...</td>\n",
       "      <td>...</td>\n",
       "      <td>...</td>\n",
       "      <td>...</td>\n",
       "    </tr>\n",
       "    <tr>\n",
       "      <th>730</th>\n",
       "      <td>-0.824578</td>\n",
       "      <td>-0.852448</td>\n",
       "      <td>-0.888714</td>\n",
       "      <td>-0.932549</td>\n",
       "      <td>-0.962363</td>\n",
       "      <td>-0.968472</td>\n",
       "      <td>-0.957514</td>\n",
       "      <td>-0.951236</td>\n",
       "      <td>-0.944535</td>\n",
       "      <td>-0.933378</td>\n",
       "      <td>-0.917410</td>\n",
       "      <td>-0.893517</td>\n",
       "      <td>-0.859399</td>\n",
       "      <td>-0.812195</td>\n",
       "      <td>-0.758815</td>\n",
       "      <td>-0.710369</td>\n",
       "    </tr>\n",
       "    <tr>\n",
       "      <th>731</th>\n",
       "      <td>-0.852448</td>\n",
       "      <td>-0.888714</td>\n",
       "      <td>-0.932549</td>\n",
       "      <td>-0.962363</td>\n",
       "      <td>-0.968472</td>\n",
       "      <td>-0.957514</td>\n",
       "      <td>-0.951236</td>\n",
       "      <td>-0.944535</td>\n",
       "      <td>-0.933378</td>\n",
       "      <td>-0.917410</td>\n",
       "      <td>-0.893517</td>\n",
       "      <td>-0.859399</td>\n",
       "      <td>-0.812195</td>\n",
       "      <td>-0.758815</td>\n",
       "      <td>-0.710369</td>\n",
       "      <td>-0.660831</td>\n",
       "    </tr>\n",
       "    <tr>\n",
       "      <th>732</th>\n",
       "      <td>-0.888714</td>\n",
       "      <td>-0.932549</td>\n",
       "      <td>-0.962363</td>\n",
       "      <td>-0.968472</td>\n",
       "      <td>-0.957514</td>\n",
       "      <td>-0.951236</td>\n",
       "      <td>-0.944535</td>\n",
       "      <td>-0.933378</td>\n",
       "      <td>-0.917410</td>\n",
       "      <td>-0.893517</td>\n",
       "      <td>-0.859399</td>\n",
       "      <td>-0.812195</td>\n",
       "      <td>-0.758815</td>\n",
       "      <td>-0.710369</td>\n",
       "      <td>-0.660831</td>\n",
       "      <td>-0.604258</td>\n",
       "    </tr>\n",
       "    <tr>\n",
       "      <th>733</th>\n",
       "      <td>-0.932549</td>\n",
       "      <td>-0.962363</td>\n",
       "      <td>-0.968472</td>\n",
       "      <td>-0.957514</td>\n",
       "      <td>-0.951236</td>\n",
       "      <td>-0.944535</td>\n",
       "      <td>-0.933378</td>\n",
       "      <td>-0.917410</td>\n",
       "      <td>-0.893517</td>\n",
       "      <td>-0.859399</td>\n",
       "      <td>-0.812195</td>\n",
       "      <td>-0.758815</td>\n",
       "      <td>-0.710369</td>\n",
       "      <td>-0.660831</td>\n",
       "      <td>-0.604258</td>\n",
       "      <td>-0.538900</td>\n",
       "    </tr>\n",
       "    <tr>\n",
       "      <th>734</th>\n",
       "      <td>-0.962363</td>\n",
       "      <td>-0.968472</td>\n",
       "      <td>-0.957514</td>\n",
       "      <td>-0.951236</td>\n",
       "      <td>-0.944535</td>\n",
       "      <td>-0.933378</td>\n",
       "      <td>-0.917410</td>\n",
       "      <td>-0.893517</td>\n",
       "      <td>-0.859399</td>\n",
       "      <td>-0.812195</td>\n",
       "      <td>-0.758815</td>\n",
       "      <td>-0.710369</td>\n",
       "      <td>-0.660831</td>\n",
       "      <td>-0.604258</td>\n",
       "      <td>-0.538900</td>\n",
       "      <td>-0.466111</td>\n",
       "    </tr>\n",
       "  </tbody>\n",
       "</table>\n",
       "<p>735 rows × 16 columns</p>\n",
       "</div>"
      ],
      "text/plain": [
       "          -15       -14       -13       -12       -11       -10        -9  \\\n",
       "0    0.000000  0.083237  0.165896  0.247404  0.327195  0.404715  0.479426   \n",
       "1    0.083237  0.165896  0.247404  0.327195  0.404715  0.479426  0.550809   \n",
       "2    0.165896  0.247404  0.327195  0.404715  0.479426  0.550809  0.618370   \n",
       "3    0.247404  0.327195  0.404715  0.479426  0.550809  0.618370  0.681639   \n",
       "4    0.327195  0.404715  0.479426  0.550809  0.618370  0.681639  0.740177   \n",
       "..        ...       ...       ...       ...       ...       ...       ...   \n",
       "730 -0.824578 -0.852448 -0.888714 -0.932549 -0.962363 -0.968472 -0.957514   \n",
       "731 -0.852448 -0.888714 -0.932549 -0.962363 -0.968472 -0.957514 -0.951236   \n",
       "732 -0.888714 -0.932549 -0.962363 -0.968472 -0.957514 -0.951236 -0.944535   \n",
       "733 -0.932549 -0.962363 -0.968472 -0.957514 -0.951236 -0.944535 -0.933378   \n",
       "734 -0.962363 -0.968472 -0.957514 -0.951236 -0.944535 -0.933378 -0.917410   \n",
       "\n",
       "           -8        -7        -6        -5        -4        -3        -2  \\\n",
       "0    0.550809  0.618370  0.681639  0.740177  0.793578  0.841471  0.883524   \n",
       "1    0.618370  0.681639  0.740177  0.793578  0.841471  0.883524  0.919445   \n",
       "2    0.681639  0.740177  0.793578  0.841471  0.883524  0.919445  0.953557   \n",
       "3    0.740177  0.793578  0.841471  0.883524  0.919445  0.953557  0.967329   \n",
       "4    0.793578  0.841471  0.883524  0.919445  0.953557  0.967329  0.976033   \n",
       "..        ...       ...       ...       ...       ...       ...       ...   \n",
       "730 -0.951236 -0.944535 -0.933378 -0.917410 -0.893517 -0.859399 -0.812195   \n",
       "731 -0.944535 -0.933378 -0.917410 -0.893517 -0.859399 -0.812195 -0.758815   \n",
       "732 -0.933378 -0.917410 -0.893517 -0.859399 -0.812195 -0.758815 -0.710369   \n",
       "733 -0.917410 -0.893517 -0.859399 -0.812195 -0.758815 -0.710369 -0.660831   \n",
       "734 -0.893517 -0.859399 -0.812195 -0.758815 -0.710369 -0.660831 -0.604258   \n",
       "\n",
       "           -1         y  \n",
       "0    0.919445  0.953557  \n",
       "1    0.953557  0.967329  \n",
       "2    0.967329  0.976033  \n",
       "3    0.976033  0.988208  \n",
       "4    0.988208  0.997227  \n",
       "..        ...       ...  \n",
       "730 -0.758815 -0.710369  \n",
       "731 -0.710369 -0.660831  \n",
       "732 -0.660831 -0.604258  \n",
       "733 -0.604258 -0.538900  \n",
       "734 -0.538900 -0.466111  \n",
       "\n",
       "[735 rows x 16 columns]"
      ]
     },
     "execution_count": 90,
     "metadata": {},
     "output_type": "execute_result"
    }
   ],
   "source": [
    "nMax = 750\n",
    "\n",
    "data = []\n",
    "for x in np.arange(0,nMax):\n",
    "    if x<nPast:\n",
    "        y = A*np.sin(float(x)*(2*np.pi)/T)\n",
    "    else:\n",
    "        y = 0\n",
    "    xn = (x%(T))/(T)\n",
    "    data.append([xn,x,y])\n",
    "data = np.array(data)\n",
    "\n",
    "# past = np.zeros((1, int(nPast)))\n",
    "past = data[0:int(nPast),2]\n",
    "\n",
    "test = pd.DataFrame([past], columns=np.arange(-nPast,0))\n",
    "# test.loc[:,'x'] = data[int(nPast),0]\n",
    "test.loc[:,'y'] = data[int(nPast),2]\n",
    "\n",
    "df1 = pd.DataFrame({'xn':data[:,0], 'x':data[:,1], 'y':data[:,2]})\n",
    "\n",
    "for i in np.arange(0,int(nMax-nPast)):\n",
    "    test.loc[i,'y'] = model2.predict(test.iloc[i:i+1,:].drop('y',axis=1))\n",
    "    if i != int(nMax-nPast-1):\n",
    "        test.loc[i+1,0:nPast] = test.iloc[i,:].shift(-1)\n",
    "test"
   ]
  },
  {
   "cell_type": "code",
   "execution_count": 91,
   "metadata": {},
   "outputs": [
    {
     "data": {
      "text/plain": [
       "<matplotlib.collections.PathCollection at 0x2a563ee7e08>"
      ]
     },
     "execution_count": 91,
     "metadata": {},
     "output_type": "execute_result"
    },
    {
     "data": {
      "image/png": "[encoded data removed]",
      "text/plain": [
       "<Figure size 432x288 with 1 Axes>"
      ]
     },
     "metadata": {
      "needs_background": "light"
     },
     "output_type": "display_data"
    }
   ],
   "source": [
    "ynew = np.append(df1.loc[:nPast-1,'y'], test.loc[:,'y'])\n",
    "\n",
    "%matplotlib inline\n",
    "plt.scatter(df1['x'],ynew)"
   ]
  },
  {
   "cell_type": "markdown",
   "metadata": {},
   "source": [
    "____"
   ]
  },
  {
   "cell_type": "markdown",
   "metadata": {
    "colab_type": "text",
    "id": "vgGQuV-yqYZH"
   },
   "source": [
    "## Questions to consider\n",
    "\n",
    "* How well does your ANN predict beyond the range of data it was trained on?\n",
    "\n",
    "See the Phase 1 assignment description for additional guidance."
   ]
  },
  {
   "cell_type": "markdown",
   "metadata": {},
   "source": [
    "____"
   ]
  },
  {
   "cell_type": "markdown",
   "metadata": {},
   "source": [
    "## Copyright & license details"
   ]
  },
  {
   "cell_type": "code",
   "execution_count": null,
   "metadata": {},
   "outputs": [],
   "source": []
  },
  {
   "cell_type": "code",
   "execution_count": null,
   "metadata": {},
   "outputs": [],
   "source": []
  },
  {
   "cell_type": "code",
   "execution_count": null,
   "metadata": {},
   "outputs": [],
   "source": []
  },
  {
   "cell_type": "code",
   "execution_count": null,
   "metadata": {},
   "outputs": [],
   "source": []
  },
  {
   "cell_type": "code",
   "execution_count": null,
   "metadata": {},
   "outputs": [],
   "source": []
  }
 ],
 "metadata": {
  "colab": {
   "collapsed_sections": [],
   "name": "regression.ipynb",
   "private_outputs": true,
   "provenance": [],
   "toc_visible": true
  },
  "kernelspec": {
   "display_name": "Python 3",
   "language": "python",
   "name": "python3"
  },
  "language_info": {
   "codemirror_mode": {
    "name": "ipython",
    "version": 3
   },
   "file_extension": ".py",
   "mimetype": "text/x-python",
   "name": "python",
   "nbconvert_exporter": "python",
   "pygments_lexer": "ipython3",
   "version": "3.7.6"
  }
 },
 "nbformat": 4,
 "nbformat_minor": 1
}
