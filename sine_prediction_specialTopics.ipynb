{
 "cells": [
  {
   "cell_type": "markdown",
   "metadata": {},
   "source": [
    "\n",
    "# Special Topics in Astrodynamics | ae4889\n",
    "\n",
    "## Time-series prediction on a simple function"
   ]
  },
  {
   "cell_type": "markdown",
   "metadata": {},
   "source": [
    "#### Import the required packages"
   ]
  },
  {
   "cell_type": "code",
   "execution_count": 1,
   "metadata": {},
   "outputs": [],
   "source": [
    "import matplotlib.pyplot as plt\n",
    "import numpy as np\n",
    "import pandas as pd\n",
    "import statistics as st"
   ]
  },
  {
   "cell_type": "code",
   "execution_count": 2,
   "metadata": {},
   "outputs": [
    {
     "name": "stderr",
     "output_type": "stream",
     "text": [
      "C:\\Users\\WORTEN\\Anaconda3\\envs\\specialTopics\\lib\\site-packages\\tensorflow\\python\\framework\\dtypes.py:526: FutureWarning: Passing (type, 1) or '1type' as a synonym of type is deprecated; in a future version of numpy, it will be understood as (type, (1,)) / '(1,)type'.\n",
      "  _np_qint8 = np.dtype([(\"qint8\", np.int8, 1)])\n",
      "C:\\Users\\WORTEN\\Anaconda3\\envs\\specialTopics\\lib\\site-packages\\tensorflow\\python\\framework\\dtypes.py:527: FutureWarning: Passing (type, 1) or '1type' as a synonym of type is deprecated; in a future version of numpy, it will be understood as (type, (1,)) / '(1,)type'.\n",
      "  _np_quint8 = np.dtype([(\"quint8\", np.uint8, 1)])\n",
      "C:\\Users\\WORTEN\\Anaconda3\\envs\\specialTopics\\lib\\site-packages\\tensorflow\\python\\framework\\dtypes.py:528: FutureWarning: Passing (type, 1) or '1type' as a synonym of type is deprecated; in a future version of numpy, it will be understood as (type, (1,)) / '(1,)type'.\n",
      "  _np_qint16 = np.dtype([(\"qint16\", np.int16, 1)])\n",
      "C:\\Users\\WORTEN\\Anaconda3\\envs\\specialTopics\\lib\\site-packages\\tensorflow\\python\\framework\\dtypes.py:529: FutureWarning: Passing (type, 1) or '1type' as a synonym of type is deprecated; in a future version of numpy, it will be understood as (type, (1,)) / '(1,)type'.\n",
      "  _np_quint16 = np.dtype([(\"quint16\", np.uint16, 1)])\n",
      "C:\\Users\\WORTEN\\Anaconda3\\envs\\specialTopics\\lib\\site-packages\\tensorflow\\python\\framework\\dtypes.py:530: FutureWarning: Passing (type, 1) or '1type' as a synonym of type is deprecated; in a future version of numpy, it will be understood as (type, (1,)) / '(1,)type'.\n",
      "  _np_qint32 = np.dtype([(\"qint32\", np.int32, 1)])\n",
      "C:\\Users\\WORTEN\\Anaconda3\\envs\\specialTopics\\lib\\site-packages\\tensorflow\\python\\framework\\dtypes.py:535: FutureWarning: Passing (type, 1) or '1type' as a synonym of type is deprecated; in a future version of numpy, it will be understood as (type, (1,)) / '(1,)type'.\n",
      "  np_resource = np.dtype([(\"resource\", np.ubyte, 1)])\n"
     ]
    },
    {
     "name": "stdout",
     "output_type": "stream",
     "text": [
      "1.13.1\n"
     ]
    }
   ],
   "source": [
    "import tensorflow as tf\n",
    "\n",
    "from tensorflow import keras\n",
    "from tensorflow.keras import layers\n",
    "\n",
    "print(tf.__version__)\n",
    "\n",
    "from IPython.core.interactiveshell import InteractiveShell\n",
    "\n",
    "InteractiveShell.ast_node_interactivity = \"all\""
   ]
  },
  {
   "cell_type": "markdown",
   "metadata": {},
   "source": [
    "## Generate a dataset for training & validation"
   ]
  },
  {
   "cell_type": "code",
   "execution_count": 3,
   "metadata": {},
   "outputs": [],
   "source": [
    "T = 12*2*np.pi\n",
    "nPast = 4\n",
    "nAmps = 1\n",
    "neurons = 25\n",
    "\n",
    "if nAmps == 1: \n",
    "    nPoints = 5000\n",
    "    \n",
    "if nAmps > 1:\n",
    "    nPoints = 500\n",
    "\n",
    "\n",
    "past = np.zeros((int(nAmps*(nPoints-nPast)), int(nPast)+2))\n",
    "data = np.zeros((int(nAmps*nPoints), 2))\n",
    "\n",
    "for currentAmp in np.arange(0,nAmps):\n",
    "    if nAmps > 1:\n",
    "        A = 1+0.0001*(currentAmp-1)**2\n",
    "    if nAmps == 1:\n",
    "        A = 1\n",
    "    cL = nPoints*currentAmp\n",
    "    for x in np.arange(0,nPoints):\n",
    "        y = A*np.sin(float(x)*(2*np.pi)/T)\n",
    "        data[x+cL,0] = (x%(T))/(T)\n",
    "        data[x+cL,1] = y\n",
    "    for i in np.arange(int(nPast+cL),int(nPoints+cL)):\n",
    "        past[i-nPast*(currentAmp+1),0:nPast] = data[i-int(nPast):i,1]\n",
    "        past[i-nPast*(currentAmp+1),nPast] = data[i,0]\n",
    "        past[i-nPast*(currentAmp+1),nPast+1] = data[i,1]"
   ]
  },
  {
   "cell_type": "markdown",
   "metadata": {},
   "source": [
    "Create a `pandas` dataframe for it"
   ]
  },
  {
   "cell_type": "code",
   "execution_count": 4,
   "metadata": {},
   "outputs": [
    {
     "data": {
      "text/html": [
       "<div>\n",
       "<style scoped>\n",
       "    .dataframe tbody tr th:only-of-type {\n",
       "        vertical-align: middle;\n",
       "    }\n",
       "\n",
       "    .dataframe tbody tr th {\n",
       "        vertical-align: top;\n",
       "    }\n",
       "\n",
       "    .dataframe thead th {\n",
       "        text-align: right;\n",
       "    }\n",
       "</style>\n",
       "<table border=\"1\" class=\"dataframe\">\n",
       "  <thead>\n",
       "    <tr style=\"text-align: right;\">\n",
       "      <th></th>\n",
       "      <th>-y4</th>\n",
       "      <th>-y3</th>\n",
       "      <th>-y2</th>\n",
       "      <th>-y1</th>\n",
       "      <th>x</th>\n",
       "      <th>y</th>\n",
       "    </tr>\n",
       "  </thead>\n",
       "  <tbody>\n",
       "    <tr>\n",
       "      <th>0</th>\n",
       "      <td>0.000000</td>\n",
       "      <td>0.083237</td>\n",
       "      <td>0.165896</td>\n",
       "      <td>0.247404</td>\n",
       "      <td>0.053052</td>\n",
       "      <td>0.327195</td>\n",
       "    </tr>\n",
       "    <tr>\n",
       "      <th>1</th>\n",
       "      <td>0.083237</td>\n",
       "      <td>0.165896</td>\n",
       "      <td>0.247404</td>\n",
       "      <td>0.327195</td>\n",
       "      <td>0.066315</td>\n",
       "      <td>0.404715</td>\n",
       "    </tr>\n",
       "    <tr>\n",
       "      <th>2</th>\n",
       "      <td>0.165896</td>\n",
       "      <td>0.247404</td>\n",
       "      <td>0.327195</td>\n",
       "      <td>0.404715</td>\n",
       "      <td>0.079577</td>\n",
       "      <td>0.479426</td>\n",
       "    </tr>\n",
       "    <tr>\n",
       "      <th>3</th>\n",
       "      <td>0.247404</td>\n",
       "      <td>0.327195</td>\n",
       "      <td>0.404715</td>\n",
       "      <td>0.479426</td>\n",
       "      <td>0.092840</td>\n",
       "      <td>0.550809</td>\n",
       "    </tr>\n",
       "    <tr>\n",
       "      <th>4</th>\n",
       "      <td>0.327195</td>\n",
       "      <td>0.404715</td>\n",
       "      <td>0.479426</td>\n",
       "      <td>0.550809</td>\n",
       "      <td>0.106103</td>\n",
       "      <td>0.618370</td>\n",
       "    </tr>\n",
       "    <tr>\n",
       "      <th>...</th>\n",
       "      <td>...</td>\n",
       "      <td>...</td>\n",
       "      <td>...</td>\n",
       "      <td>...</td>\n",
       "      <td>...</td>\n",
       "      <td>...</td>\n",
       "    </tr>\n",
       "    <tr>\n",
       "      <th>4991</th>\n",
       "      <td>0.941292</td>\n",
       "      <td>0.966126</td>\n",
       "      <td>0.984254</td>\n",
       "      <td>0.995551</td>\n",
       "      <td>0.248245</td>\n",
       "      <td>0.999939</td>\n",
       "    </tr>\n",
       "    <tr>\n",
       "      <th>4992</th>\n",
       "      <td>0.966126</td>\n",
       "      <td>0.984254</td>\n",
       "      <td>0.995551</td>\n",
       "      <td>0.999939</td>\n",
       "      <td>0.261508</td>\n",
       "      <td>0.997387</td>\n",
       "    </tr>\n",
       "    <tr>\n",
       "      <th>4993</th>\n",
       "      <td>0.984254</td>\n",
       "      <td>0.995551</td>\n",
       "      <td>0.999939</td>\n",
       "      <td>0.997387</td>\n",
       "      <td>0.274771</td>\n",
       "      <td>0.987913</td>\n",
       "    </tr>\n",
       "    <tr>\n",
       "      <th>4994</th>\n",
       "      <td>0.995551</td>\n",
       "      <td>0.999939</td>\n",
       "      <td>0.997387</td>\n",
       "      <td>0.987913</td>\n",
       "      <td>0.288034</td>\n",
       "      <td>0.971581</td>\n",
       "    </tr>\n",
       "    <tr>\n",
       "      <th>4995</th>\n",
       "      <td>0.999939</td>\n",
       "      <td>0.997387</td>\n",
       "      <td>0.987913</td>\n",
       "      <td>0.971581</td>\n",
       "      <td>0.301297</td>\n",
       "      <td>0.948507</td>\n",
       "    </tr>\n",
       "  </tbody>\n",
       "</table>\n",
       "<p>4996 rows × 6 columns</p>\n",
       "</div>"
      ],
      "text/plain": [
       "           -y4       -y3       -y2       -y1         x         y\n",
       "0     0.000000  0.083237  0.165896  0.247404  0.053052  0.327195\n",
       "1     0.083237  0.165896  0.247404  0.327195  0.066315  0.404715\n",
       "2     0.165896  0.247404  0.327195  0.404715  0.079577  0.479426\n",
       "3     0.247404  0.327195  0.404715  0.479426  0.092840  0.550809\n",
       "4     0.327195  0.404715  0.479426  0.550809  0.106103  0.618370\n",
       "...        ...       ...       ...       ...       ...       ...\n",
       "4991  0.941292  0.966126  0.984254  0.995551  0.248245  0.999939\n",
       "4992  0.966126  0.984254  0.995551  0.999939  0.261508  0.997387\n",
       "4993  0.984254  0.995551  0.999939  0.997387  0.274771  0.987913\n",
       "4994  0.995551  0.999939  0.997387  0.987913  0.288034  0.971581\n",
       "4995  0.999939  0.997387  0.987913  0.971581  0.301297  0.948507\n",
       "\n",
       "[4996 rows x 6 columns]"
      ]
     },
     "execution_count": 4,
     "metadata": {},
     "output_type": "execute_result"
    }
   ],
   "source": [
    "pdata = pd.DataFrame({'x':data[:,0],'y':data[:,1]})\n",
    "#pdata # This displays the DataFrame if uncommented.\n",
    "\n",
    "pdata2 = pd.DataFrame({'-y4':past[:,0],'-y3':past[:,1],'-y2':past[:,2],'-y1':past[:,3],'x':past[:,4],'y':past[:,5]})\n",
    "\n",
    "pdata2"
   ]
  },
  {
   "cell_type": "markdown",
   "metadata": {},
   "source": [
    "Visual check of the dataset"
   ]
  },
  {
   "cell_type": "code",
   "execution_count": 5,
   "metadata": {},
   "outputs": [
    {
     "data": {
      "text/plain": [
       "<matplotlib.collections.PathCollection at 0x1dc999cd288>"
      ]
     },
     "execution_count": 5,
     "metadata": {},
     "output_type": "execute_result"
    },
    {
     "data": {
      "image/png": "[encoded data removed]",
      "text/plain": [
       "<Figure size 432x288 with 1 Axes>"
      ]
     },
     "metadata": {
      "needs_background": "light"
     },
     "output_type": "display_data"
    }
   ],
   "source": [
    "#%matplotlib inline\n",
    "plt.scatter(pdata['x'],pdata['y'])"
   ]
  },
  {
   "cell_type": "markdown",
   "metadata": {},
   "source": [
    "Split the dataset into training and testing sets"
   ]
  },
  {
   "cell_type": "code",
   "execution_count": 6,
   "metadata": {
    "scrolled": true
   },
   "outputs": [],
   "source": [
    "train_dataset = pdata.sample(frac=0.8, random_state=0)\n",
    "test_dataset = pdata.drop(train_dataset.index)\n",
    "\n",
    "train_dataset2 = pdata2.sample(frac=0.8, random_state=0)\n",
    "test_dataset2 = pdata2.drop(train_dataset2.index)"
   ]
  },
  {
   "cell_type": "markdown",
   "metadata": {},
   "source": [
    "Split features from labels"
   ]
  },
  {
   "cell_type": "code",
   "execution_count": 7,
   "metadata": {
    "scrolled": true
   },
   "outputs": [],
   "source": [
    "train_labels = train_dataset.pop('y')\n",
    "test_labels = test_dataset.pop('y')\n",
    "\n",
    "train_labels2 = train_dataset2.pop('y')\n",
    "test_labels2 = test_dataset2.pop('y')"
   ]
  },
  {
   "cell_type": "markdown",
   "metadata": {},
   "source": [
    "##### Create a model"
   ]
  },
  {
   "cell_type": "code",
   "execution_count": 8,
   "metadata": {
    "colab": {},
    "colab_type": "code",
    "id": "c26juK7ZG8j-"
   },
   "outputs": [],
   "source": [
    "def build_model():\n",
    "    model = keras.Sequential([\n",
    "        layers.Dense(100, activation='relu', input_shape=[len(train_dataset.keys())]),\n",
    "        layers.Dense(100, activation='relu'),\n",
    "        layers.Dense(1)\n",
    "    ])\n",
    "\n",
    "    model.compile(loss='mse',\n",
    "                optimizer='adam',\n",
    "                metrics=['accuracy'])\n",
    "    return model\n",
    "\n",
    "def build_model2():\n",
    "    model = keras.Sequential([\n",
    "        layers.Dense(neurons, activation='relu', input_shape=[len(train_dataset2.keys())]),\n",
    "        layers.Dense(neurons, activation='relu'),\n",
    "        layers.Dense(1)\n",
    "    ])\n",
    "\n",
    "    model.compile(loss='mse',\n",
    "                optimizer='adam',\n",
    "                metrics=['accuracy'])\n",
    "    return model"
   ]
  },
  {
   "cell_type": "code",
   "execution_count": 9,
   "metadata": {},
   "outputs": [
    {
     "name": "stdout",
     "output_type": "stream",
     "text": [
      "WARNING:tensorflow:From C:\\Users\\WORTEN\\Anaconda3\\envs\\specialTopics\\lib\\site-packages\\tensorflow\\python\\ops\\resource_variable_ops.py:435: colocate_with (from tensorflow.python.framework.ops) is deprecated and will be removed in a future version.\n",
      "Instructions for updating:\n",
      "Colocations handled automatically by placer.\n",
      "WARNING:tensorflow:From C:\\Users\\WORTEN\\Anaconda3\\envs\\specialTopics\\lib\\site-packages\\tensorflow\\python\\keras\\utils\\losses_utils.py:170: to_float (from tensorflow.python.ops.math_ops) is deprecated and will be removed in a future version.\n",
      "Instructions for updating:\n",
      "Use tf.cast instead.\n"
     ]
    }
   ],
   "source": [
    "model = build_model()\n",
    "model2 = build_model2()"
   ]
  },
  {
   "cell_type": "code",
   "execution_count": 10,
   "metadata": {
    "scrolled": false
   },
   "outputs": [
    {
     "name": "stdout",
     "output_type": "stream",
     "text": [
      "_________________________________________________________________\n",
      "Layer (type)                 Output Shape              Param #   \n",
      "=================================================================\n",
      "dense_3 (Dense)              (None, 25)                150       \n",
      "_________________________________________________________________\n",
      "dense_4 (Dense)              (None, 25)                650       \n",
      "_________________________________________________________________\n",
      "dense_5 (Dense)              (None, 1)                 26        \n",
      "=================================================================\n",
      "Total params: 826\n",
      "Trainable params: 826\n",
      "Non-trainable params: 0\n",
      "_________________________________________________________________\n"
     ]
    }
   ],
   "source": [
    "model2.summary()"
   ]
  },
  {
   "cell_type": "markdown",
   "metadata": {},
   "source": [
    "#### Train the model"
   ]
  },
  {
   "cell_type": "code",
   "execution_count": 11,
   "metadata": {
    "scrolled": true
   },
   "outputs": [
    {
     "name": "stdout",
     "output_type": "stream",
     "text": [
      "Train on 3197 samples, validate on 800 samples\n",
      "WARNING:tensorflow:From C:\\Users\\WORTEN\\Anaconda3\\envs\\specialTopics\\lib\\site-packages\\tensorflow\\python\\ops\\math_ops.py:3066: to_int32 (from tensorflow.python.ops.math_ops) is deprecated and will be removed in a future version.\n",
      "Instructions for updating:\n",
      "Use tf.cast instead.\n",
      "Epoch 1/25\n",
      "3197/3197 [==============================] - 0s 147us/sample - loss: 0.0586 - acc: 3.1279e-04 - val_loss: 0.0062 - val_acc: 0.0000e+00\n",
      "Epoch 2/25\n",
      "3197/3197 [==============================] - 0s 75us/sample - loss: 0.0019 - acc: 3.1279e-04 - val_loss: 3.4667e-04 - val_acc: 0.0000e+00\n",
      "Epoch 3/25\n",
      "3197/3197 [==============================] - 0s 69us/sample - loss: 1.3332e-04 - acc: 3.1279e-04 - val_loss: 5.3515e-05 - val_acc: 0.0000e+00\n",
      "Epoch 4/25\n",
      "3197/3197 [==============================] - 0s 66us/sample - loss: 3.3465e-05 - acc: 3.1279e-04 - val_loss: 2.4135e-05 - val_acc: 0.0000e+00\n",
      "Epoch 5/25\n",
      "3197/3197 [==============================] - 0s 63us/sample - loss: 2.1282e-05 - acc: 3.1279e-04 - val_loss: 2.1616e-05 - val_acc: 0.0000e+00\n",
      "Epoch 6/25\n",
      "3197/3197 [==============================] - 0s 65us/sample - loss: 1.7493e-05 - acc: 3.1279e-04 - val_loss: 1.7764e-05 - val_acc: 0.0000e+00\n",
      "Epoch 7/25\n",
      "3197/3197 [==============================] - 0s 66us/sample - loss: 1.5283e-05 - acc: 3.1279e-04 - val_loss: 1.4875e-05 - val_acc: 0.0000e+00\n",
      "Epoch 8/25\n",
      "3197/3197 [==============================] - 0s 66us/sample - loss: 1.2839e-05 - acc: 3.1279e-04 - val_loss: 1.6953e-05 - val_acc: 0.0000e+00\n",
      "Epoch 9/25\n",
      "3197/3197 [==============================] - 0s 66us/sample - loss: 1.2362e-05 - acc: 3.1279e-04 - val_loss: 1.3849e-05 - val_acc: 0.0000e+00\n",
      "Epoch 10/25\n",
      "3197/3197 [==============================] - 0s 75us/sample - loss: 1.0676e-05 - acc: 3.1279e-04 - val_loss: 1.0404e-05 - val_acc: 0.0000e+00\n",
      "Epoch 11/25\n",
      "3197/3197 [==============================] - 0s 78us/sample - loss: 1.0239e-05 - acc: 3.1279e-04 - val_loss: 9.6327e-06 - val_acc: 0.0000e+00\n",
      "Epoch 12/25\n",
      "3197/3197 [==============================] - 0s 78us/sample - loss: 7.7422e-06 - acc: 3.1279e-04 - val_loss: 7.8636e-06 - val_acc: 0.0000e+00\n",
      "Epoch 13/25\n",
      "3197/3197 [==============================] - 0s 85us/sample - loss: 7.1263e-06 - acc: 3.1279e-04 - val_loss: 7.6648e-06 - val_acc: 0.0000e+00\n",
      "Epoch 14/25\n",
      "3197/3197 [==============================] - 0s 78us/sample - loss: 6.4355e-06 - acc: 3.1279e-04 - val_loss: 7.1362e-06 - val_acc: 0.0000e+00\n",
      "Epoch 15/25\n",
      "3197/3197 [==============================] - 0s 91us/sample - loss: 5.9191e-06 - acc: 3.1279e-04 - val_loss: 5.2265e-06 - val_acc: 0.0000e+00\n",
      "Epoch 16/25\n",
      "3197/3197 [==============================] - 0s 100us/sample - loss: 5.3489e-06 - acc: 3.1279e-04 - val_loss: 4.6443e-06 - val_acc: 0.0000e+00\n",
      "Epoch 17/25\n",
      "3197/3197 [==============================] - 0s 100us/sample - loss: 4.2807e-06 - acc: 3.1279e-04 - val_loss: 4.4735e-06 - val_acc: 0.0000e+00\n",
      "Epoch 18/25\n",
      "3197/3197 [==============================] - 0s 88us/sample - loss: 4.6159e-06 - acc: 3.1279e-04 - val_loss: 5.3873e-06 - val_acc: 0.0000e+00\n",
      "Epoch 19/25\n",
      "3197/3197 [==============================] - 0s 97us/sample - loss: 4.0652e-06 - acc: 3.1279e-04 - val_loss: 3.1198e-06 - val_acc: 0.0000e+00\n",
      "Epoch 20/25\n",
      "3197/3197 [==============================] - 0s 72us/sample - loss: 3.5739e-06 - acc: 3.1279e-04 - val_loss: 2.8156e-06 - val_acc: 0.0000e+00\n",
      "Epoch 21/25\n",
      "3197/3197 [==============================] - 0s 72us/sample - loss: 2.8049e-06 - acc: 3.1279e-04 - val_loss: 2.7339e-06 - val_acc: 0.0000e+00\n",
      "Epoch 22/25\n",
      "3197/3197 [==============================] - 0s 75us/sample - loss: 3.1761e-06 - acc: 3.1279e-04 - val_loss: 2.8410e-06 - val_acc: 0.0000e+00\n",
      "Epoch 23/25\n",
      "3197/3197 [==============================] - 0s 88us/sample - loss: 3.0921e-06 - acc: 3.1279e-04 - val_loss: 2.4272e-06 - val_acc: 0.0000e+00\n",
      "Epoch 24/25\n",
      "3197/3197 [==============================] - 0s 99us/sample - loss: 2.2511e-06 - acc: 3.1279e-04 - val_loss: 2.1806e-06 - val_acc: 0.0000e+00\n",
      "Epoch 25/25\n",
      "3197/3197 [==============================] - 0s 81us/sample - loss: 2.4048e-06 - acc: 3.1279e-04 - val_loss: 2.0284e-06 - val_acc: 0.0000e+00\n"
     ]
    }
   ],
   "source": [
    "history = model2.fit(train_dataset2, train_labels2, validation_split=0.2, epochs=25)"
   ]
  },
  {
   "cell_type": "markdown",
   "metadata": {},
   "source": [
    "Visualize the model's training progress via the history object"
   ]
  },
  {
   "cell_type": "code",
   "execution_count": 12,
   "metadata": {},
   "outputs": [
    {
     "data": {
      "text/html": [
       "<div>\n",
       "<style scoped>\n",
       "    .dataframe tbody tr th:only-of-type {\n",
       "        vertical-align: middle;\n",
       "    }\n",
       "\n",
       "    .dataframe tbody tr th {\n",
       "        vertical-align: top;\n",
       "    }\n",
       "\n",
       "    .dataframe thead th {\n",
       "        text-align: right;\n",
       "    }\n",
       "</style>\n",
       "<table border=\"1\" class=\"dataframe\">\n",
       "  <thead>\n",
       "    <tr style=\"text-align: right;\">\n",
       "      <th></th>\n",
       "      <th>loss</th>\n",
       "      <th>acc</th>\n",
       "      <th>val_loss</th>\n",
       "      <th>val_acc</th>\n",
       "      <th>epoch</th>\n",
       "    </tr>\n",
       "  </thead>\n",
       "  <tbody>\n",
       "    <tr>\n",
       "      <th>20</th>\n",
       "      <td>0.000003</td>\n",
       "      <td>0.000313</td>\n",
       "      <td>0.000003</td>\n",
       "      <td>0.0</td>\n",
       "      <td>20</td>\n",
       "    </tr>\n",
       "    <tr>\n",
       "      <th>21</th>\n",
       "      <td>0.000003</td>\n",
       "      <td>0.000313</td>\n",
       "      <td>0.000003</td>\n",
       "      <td>0.0</td>\n",
       "      <td>21</td>\n",
       "    </tr>\n",
       "    <tr>\n",
       "      <th>22</th>\n",
       "      <td>0.000003</td>\n",
       "      <td>0.000313</td>\n",
       "      <td>0.000002</td>\n",
       "      <td>0.0</td>\n",
       "      <td>22</td>\n",
       "    </tr>\n",
       "    <tr>\n",
       "      <th>23</th>\n",
       "      <td>0.000002</td>\n",
       "      <td>0.000313</td>\n",
       "      <td>0.000002</td>\n",
       "      <td>0.0</td>\n",
       "      <td>23</td>\n",
       "    </tr>\n",
       "    <tr>\n",
       "      <th>24</th>\n",
       "      <td>0.000002</td>\n",
       "      <td>0.000313</td>\n",
       "      <td>0.000002</td>\n",
       "      <td>0.0</td>\n",
       "      <td>24</td>\n",
       "    </tr>\n",
       "  </tbody>\n",
       "</table>\n",
       "</div>"
      ],
      "text/plain": [
       "        loss       acc  val_loss  val_acc  epoch\n",
       "20  0.000003  0.000313  0.000003      0.0     20\n",
       "21  0.000003  0.000313  0.000003      0.0     21\n",
       "22  0.000003  0.000313  0.000002      0.0     22\n",
       "23  0.000002  0.000313  0.000002      0.0     23\n",
       "24  0.000002  0.000313  0.000002      0.0     24"
      ]
     },
     "execution_count": 12,
     "metadata": {},
     "output_type": "execute_result"
    }
   ],
   "source": [
    "hist = pd.DataFrame(history.history)\n",
    "hist['epoch'] = history.epoch\n",
    "hist.tail()"
   ]
  },
  {
   "cell_type": "markdown",
   "metadata": {},
   "source": [
    "____"
   ]
  },
  {
   "cell_type": "markdown",
   "metadata": {},
   "source": [
    "#### Plot the history"
   ]
  },
  {
   "cell_type": "code",
   "execution_count": 13,
   "metadata": {
    "scrolled": true
   },
   "outputs": [
    {
     "data": {
      "text/plain": [
       "[<matplotlib.lines.Line2D at 0x1dc9c38fcc8>]"
      ]
     },
     "execution_count": 13,
     "metadata": {},
     "output_type": "execute_result"
    },
    {
     "data": {
      "text/plain": [
       "[<matplotlib.lines.Line2D at 0x1dc9b387608>]"
      ]
     },
     "execution_count": 13,
     "metadata": {},
     "output_type": "execute_result"
    },
    {
     "data": {
      "text/plain": [
       "Text(0.5, 1.0, 'model loss')"
      ]
     },
     "execution_count": 13,
     "metadata": {},
     "output_type": "execute_result"
    },
    {
     "data": {
      "text/plain": [
       "Text(0, 0.5, 'loss')"
      ]
     },
     "execution_count": 13,
     "metadata": {},
     "output_type": "execute_result"
    },
    {
     "data": {
      "text/plain": [
       "Text(0.5, 0, 'epoch')"
      ]
     },
     "execution_count": 13,
     "metadata": {},
     "output_type": "execute_result"
    },
    {
     "data": {
      "text/plain": [
       "<matplotlib.legend.Legend at 0x1dc9c3a8e88>"
      ]
     },
     "execution_count": 13,
     "metadata": {},
     "output_type": "execute_result"
    },
    {
     "data": {
      "image/png": "[encoded data removed]",
      "text/plain": [
       "<Figure size 432x288 with 1 Axes>"
      ]
     },
     "metadata": {
      "needs_background": "light"
     },
     "output_type": "display_data"
    }
   ],
   "source": [
    "plt.plot(history.history['loss'])\n",
    "plt.plot(history.history['val_loss'])\n",
    "plt.yscale('log')\n",
    "plt.title('model loss')\n",
    "plt.ylabel('loss')\n",
    "plt.xlabel('epoch')\n",
    "plt.legend(['loss','val_loss'],loc='upper right')\n",
    "plt.show()"
   ]
  },
  {
   "cell_type": "markdown",
   "metadata": {},
   "source": [
    "Are `10` epochs too few? If so, try training for more epochs."
   ]
  },
  {
   "cell_type": "code",
   "execution_count": 14,
   "metadata": {},
   "outputs": [],
   "source": [
    "test_predictions2 = model2.predict(test_dataset2).flatten()"
   ]
  },
  {
   "cell_type": "markdown",
   "metadata": {
    "colab_type": "text",
    "id": "ft603OzXuEZC"
   },
   "source": [
    "### Make predictions\n",
    "\n",
    "Finally, predict values using data in the test set:"
   ]
  },
  {
   "cell_type": "code",
   "execution_count": 15,
   "metadata": {
    "colab": {},
    "colab_type": "code",
    "id": "Xe7RXH3N3CWU"
   },
   "outputs": [
    {
     "data": {
      "text/plain": [
       "<matplotlib.collections.PathCollection at 0x1dc9c51c7c8>"
      ]
     },
     "execution_count": 15,
     "metadata": {},
     "output_type": "execute_result"
    },
    {
     "data": {
      "text/plain": [
       "Text(0.5, 0, 'True Values')"
      ]
     },
     "execution_count": 15,
     "metadata": {},
     "output_type": "execute_result"
    },
    {
     "data": {
      "text/plain": [
       "Text(0, 0.5, 'Predictions')"
      ]
     },
     "execution_count": 15,
     "metadata": {},
     "output_type": "execute_result"
    },
    {
     "data": {
      "text/plain": [
       "(-2, 2)"
      ]
     },
     "execution_count": 15,
     "metadata": {},
     "output_type": "execute_result"
    },
    {
     "data": {
      "text/plain": [
       "(-2, 2)"
      ]
     },
     "execution_count": 15,
     "metadata": {},
     "output_type": "execute_result"
    },
    {
     "data": {
      "image/png": "[encoded data removed]",
      "text/plain": [
       "<Figure size 432x288 with 1 Axes>"
      ]
     },
     "metadata": {
      "needs_background": "light"
     },
     "output_type": "display_data"
    }
   ],
   "source": [
    "test_predictions2 = model2.predict(test_dataset2).flatten()\n",
    "\n",
    "a = plt.axes(aspect='equal')\n",
    "plt.scatter(test_labels2, test_predictions2)\n",
    "plt.xlabel('True Values')\n",
    "plt.ylabel('Predictions')\n",
    "plt.xlim([-2,2])\n",
    "plt.ylim([-2,2])\n",
    "_ = plt.plot([-2,2], [-2,2])"
   ]
  },
  {
   "cell_type": "code",
   "execution_count": 16,
   "metadata": {},
   "outputs": [
    {
     "data": {
      "text/plain": [
       "<matplotlib.collections.PathCollection at 0x1dc9c5296c8>"
      ]
     },
     "execution_count": 16,
     "metadata": {},
     "output_type": "execute_result"
    },
    {
     "data": {
      "image/png": "[encoded data removed]",
      "text/plain": [
       "<Figure size 432x288 with 1 Axes>"
      ]
     },
     "metadata": {
      "needs_background": "light"
     },
     "output_type": "display_data"
    }
   ],
   "source": [
    "%matplotlib inline\n",
    "plt.scatter(test_dataset2['x'],test_predictions2)"
   ]
  },
  {
   "cell_type": "markdown",
   "metadata": {
    "colab_type": "text",
    "id": "19wyogbOSU5t"
   },
   "source": [
    "Take a look at the error distribution."
   ]
  },
  {
   "cell_type": "code",
   "execution_count": 17,
   "metadata": {
    "colab": {},
    "colab_type": "code",
    "id": "f-OHX4DiXd8x"
   },
   "outputs": [
    {
     "name": "stdout",
     "output_type": "stream",
     "text": [
      "0.0010904485109596994\n"
     ]
    },
    {
     "data": {
      "text/plain": [
       "(array([224., 129., 103.,  71., 106.,  81., 104.,  37.,  27.,  25.,  19.,\n",
       "         19.,  10.,  15.,  11.,   4.,   3.,   1.,   0.,   2.,   0.,   3.,\n",
       "          2.,   0.,   3.]),\n",
       " array([8.19702996e-07, 2.48129699e-04, 4.95439695e-04, 7.42749691e-04,\n",
       "        9.90059687e-04, 1.23736968e-03, 1.48467968e-03, 1.73198968e-03,\n",
       "        1.97929967e-03, 2.22660967e-03, 2.47391966e-03, 2.72122966e-03,\n",
       "        2.96853966e-03, 3.21584965e-03, 3.46315965e-03, 3.71046964e-03,\n",
       "        3.95777964e-03, 4.20508964e-03, 4.45239963e-03, 4.69970963e-03,\n",
       "        4.94701963e-03, 5.19432962e-03, 5.44163962e-03, 5.68894961e-03,\n",
       "        5.93625961e-03, 6.18356961e-03]),\n",
       " <a list of 25 Patch objects>)"
      ]
     },
     "execution_count": 17,
     "metadata": {},
     "output_type": "execute_result"
    },
    {
     "data": {
      "text/plain": [
       "Text(0.5, 0, 'Prediction Error')"
      ]
     },
     "execution_count": 17,
     "metadata": {},
     "output_type": "execute_result"
    },
    {
     "data": {
      "image/png": "[encoded data removed]",
      "text/plain": [
       "<Figure size 432x288 with 1 Axes>"
      ]
     },
     "metadata": {
      "needs_background": "light"
     },
     "output_type": "display_data"
    }
   ],
   "source": [
    "error = abs(test_predictions2 - test_labels2)\n",
    "print(st.mean(error))\n",
    "plt.hist(error, bins = 25)\n",
    "plt.xlabel(\"Prediction Error\")\n",
    "_ = plt.ylabel(\"Count\")"
   ]
  },
  {
   "cell_type": "markdown",
   "metadata": {},
   "source": [
    "# Make predictions outside training range"
   ]
  },
  {
   "cell_type": "code",
   "execution_count": 18,
   "metadata": {},
   "outputs": [],
   "source": [
    "nMax = 500\n",
    "\n",
    "A_predict = 1\n",
    "data = []\n",
    "for x in np.arange(0,nMax):\n",
    "    if x<nPast:\n",
    "        y = A_predict*np.sin(float(x)*(2*np.pi)/T)\n",
    "    else:\n",
    "        y = 0\n",
    "    xn = (x%(T))/(T)\n",
    "    data.append([xn,x,y])\n",
    "data = np.array(data)\n",
    "\n",
    "# past = np.zeros((1, int(nPast)))\n",
    "past = data[0:int(nPast),2]\n",
    "\n",
    "test = pd.DataFrame([past], columns=np.arange(-nPast,0))\n",
    "test.loc[:,'x'] = data[int(nPast),0]\n",
    "test.loc[:,'y'] = data[int(nPast),2]\n",
    "\n",
    "df1 = pd.DataFrame({'xn':data[:,0], 'x':data[:,1], 'y':data[:,2]})\n",
    "\n",
    "for i in np.arange(0,int(nMax-nPast)):\n",
    "    test.loc[i,'y'] = model2.predict(test.iloc[i:i+1,:].drop('y',axis=1))\n",
    "    if i != int(nMax-nPast-1):\n",
    "        test.loc[i+1,0:nPast-1] = test.iloc[i,:].shift(-1)\n",
    "        test.loc[i+1,-1] = test.loc[i,'y']\n",
    "        test.loc[i+1,'x'] = df1.loc[i+nPast+1,'xn']"
   ]
  },
  {
   "cell_type": "code",
   "execution_count": 19,
   "metadata": {},
   "outputs": [
    {
     "name": "stdout",
     "output_type": "stream",
     "text": [
      "0.04880951033099457\n"
     ]
    },
    {
     "data": {
      "image/png": "[encoded data removed]",
      "text/plain": [
       "<Figure size 432x288 with 1 Axes>"
      ]
     },
     "metadata": {
      "needs_background": "light"
     },
     "output_type": "display_data"
    }
   ],
   "source": [
    "ynew = np.append(df1.loc[:nPast-1,'y'], test.loc[:,'y'])\n",
    "error_mean = st.mean(abs(ynew - np.sin(df1['x']*(2*np.pi)/T)))\n",
    "print(error_mean)\n",
    "\n",
    "%matplotlib inline\n",
    "plt.scatter(df1['x'],ynew);\n",
    "#plt.scatter(df1['x'],np.sin(df1['x']*(2*np.pi)/T))\n",
    "plt.axhline(A_predict);\n",
    "plt.xlabel('x');\n",
    "plt.ylabel('sin(x) (Predictions)');"
   ]
  }
 ],
 "metadata": {
  "colab": {
   "collapsed_sections": [],
   "name": "regression.ipynb",
   "private_outputs": true,
   "provenance": [],
   "toc_visible": true
  },
  "kernelspec": {
   "display_name": "Python 3",
   "language": "python",
   "name": "python3"
  },
  "language_info": {
   "codemirror_mode": {
    "name": "ipython",
    "version": 3
   },
   "file_extension": ".py",
   "mimetype": "text/x-python",
   "name": "python",
   "nbconvert_exporter": "python",
   "pygments_lexer": "ipython3",
   "version": "3.7.6"
  }
 },
 "nbformat": 4,
 "nbformat_minor": 1
}
