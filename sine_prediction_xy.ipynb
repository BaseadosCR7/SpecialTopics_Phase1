{
 "cells": [
  {
   "cell_type": "markdown",
   "metadata": {},
   "source": [
    "\n",
    "# Special Topics in Astrodynamics | ae4889\n",
    "\n",
    "## Time-series prediction on a simple function"
   ]
  },
  {
   "cell_type": "markdown",
   "metadata": {},
   "source": [
    "#### Import the required packages"
   ]
  },
  {
   "cell_type": "code",
   "execution_count": 1,
   "metadata": {},
   "outputs": [],
   "source": [
    "import matplotlib.pyplot as plt\n",
    "import numpy as np\n",
    "import pandas as pd"
   ]
  },
  {
   "cell_type": "code",
   "execution_count": 2,
   "metadata": {},
   "outputs": [
    {
     "name": "stderr",
     "output_type": "stream",
     "text": [
      "C:\\Users\\pedro\\Anaconda3\\envs\\specialTopics\\lib\\site-packages\\tensorflow\\python\\framework\\dtypes.py:526: FutureWarning: Passing (type, 1) or '1type' as a synonym of type is deprecated; in a future version of numpy, it will be understood as (type, (1,)) / '(1,)type'.\n",
      "  _np_qint8 = np.dtype([(\"qint8\", np.int8, 1)])\n",
      "C:\\Users\\pedro\\Anaconda3\\envs\\specialTopics\\lib\\site-packages\\tensorflow\\python\\framework\\dtypes.py:527: FutureWarning: Passing (type, 1) or '1type' as a synonym of type is deprecated; in a future version of numpy, it will be understood as (type, (1,)) / '(1,)type'.\n",
      "  _np_quint8 = np.dtype([(\"quint8\", np.uint8, 1)])\n",
      "C:\\Users\\pedro\\Anaconda3\\envs\\specialTopics\\lib\\site-packages\\tensorflow\\python\\framework\\dtypes.py:528: FutureWarning: Passing (type, 1) or '1type' as a synonym of type is deprecated; in a future version of numpy, it will be understood as (type, (1,)) / '(1,)type'.\n",
      "  _np_qint16 = np.dtype([(\"qint16\", np.int16, 1)])\n",
      "C:\\Users\\pedro\\Anaconda3\\envs\\specialTopics\\lib\\site-packages\\tensorflow\\python\\framework\\dtypes.py:529: FutureWarning: Passing (type, 1) or '1type' as a synonym of type is deprecated; in a future version of numpy, it will be understood as (type, (1,)) / '(1,)type'.\n",
      "  _np_quint16 = np.dtype([(\"quint16\", np.uint16, 1)])\n",
      "C:\\Users\\pedro\\Anaconda3\\envs\\specialTopics\\lib\\site-packages\\tensorflow\\python\\framework\\dtypes.py:530: FutureWarning: Passing (type, 1) or '1type' as a synonym of type is deprecated; in a future version of numpy, it will be understood as (type, (1,)) / '(1,)type'.\n",
      "  _np_qint32 = np.dtype([(\"qint32\", np.int32, 1)])\n",
      "C:\\Users\\pedro\\Anaconda3\\envs\\specialTopics\\lib\\site-packages\\tensorflow\\python\\framework\\dtypes.py:535: FutureWarning: Passing (type, 1) or '1type' as a synonym of type is deprecated; in a future version of numpy, it will be understood as (type, (1,)) / '(1,)type'.\n",
      "  np_resource = np.dtype([(\"resource\", np.ubyte, 1)])\n"
     ]
    },
    {
     "name": "stdout",
     "output_type": "stream",
     "text": [
      "1.13.1\n"
     ]
    }
   ],
   "source": [
    "import tensorflow as tf\n",
    "\n",
    "from tensorflow import keras\n",
    "from tensorflow.keras import layers\n",
    "\n",
    "print(tf.__version__)\n",
    "\n",
    "from IPython.core.interactiveshell import InteractiveShell\n",
    "\n",
    "InteractiveShell.ast_node_interactivity = \"all\""
   ]
  },
  {
   "cell_type": "markdown",
   "metadata": {},
   "source": [
    "## Generate a dataset for training & validation"
   ]
  },
  {
   "cell_type": "markdown",
   "metadata": {},
   "source": [
    "Generate your data\n",
    "* Examine sine waves with a few different amplitudes and frequencies to assess peformance and robustness.\n",
    "* Start with `sin(x)`."
   ]
  },
  {
   "cell_type": "code",
   "execution_count": 3,
   "metadata": {
    "scrolled": false
   },
   "outputs": [],
   "source": [
    "nPoints = 10000\n",
    "A = 1\n",
    "T = 12*2*np.pi\n",
    "nPast = 100\n",
    "nCoords = 2\n",
    "\n",
    "data = []\n",
    "for x in np.arange(0,nPoints):\n",
    "    y = A*np.sin(float(x)*(2*np.pi)/T)\n",
    "    x = x/nPoints;\n",
    "    data.append([x,y])\n",
    "data = np.array(data)\n",
    "\n",
    "past = np.zeros((int(nPoints), 2, int(nPast)))\n",
    "\n",
    "for i in np.arange(int(nPast),int(nPoints)):\n",
    "    past[i,0,:] = data[i-int(nPast):i,0]\n",
    "    past[i,1,:] = data[i-int(nPast):i,1]\n",
    "\n",
    "past = np.reshape(past,(nPoints, nCoords*nPast),order='F')"
   ]
  },
  {
   "cell_type": "markdown",
   "metadata": {},
   "source": [
    "Create a `pandas` dataframe for it"
   ]
  },
  {
   "cell_type": "code",
   "execution_count": 4,
   "metadata": {},
   "outputs": [
    {
     "data": {
      "text/html": [
       "<div>\n",
       "<style scoped>\n",
       "    .dataframe tbody tr th:only-of-type {\n",
       "        vertical-align: middle;\n",
       "    }\n",
       "\n",
       "    .dataframe tbody tr th {\n",
       "        vertical-align: top;\n",
       "    }\n",
       "\n",
       "    .dataframe thead tr th {\n",
       "        text-align: left;\n",
       "    }\n",
       "</style>\n",
       "<table border=\"1\" class=\"dataframe\">\n",
       "  <thead>\n",
       "    <tr>\n",
       "      <th>Past</th>\n",
       "      <th colspan=\"2\" halign=\"left\">-100</th>\n",
       "      <th colspan=\"2\" halign=\"left\">-99</th>\n",
       "      <th colspan=\"2\" halign=\"left\">-98</th>\n",
       "      <th colspan=\"2\" halign=\"left\">-97</th>\n",
       "      <th colspan=\"2\" halign=\"left\">-96</th>\n",
       "      <th>...</th>\n",
       "      <th colspan=\"2\" halign=\"left\">-4</th>\n",
       "      <th colspan=\"2\" halign=\"left\">-3</th>\n",
       "      <th colspan=\"2\" halign=\"left\">-2</th>\n",
       "      <th colspan=\"2\" halign=\"left\">-1</th>\n",
       "      <th colspan=\"2\" halign=\"left\">0</th>\n",
       "    </tr>\n",
       "    <tr>\n",
       "      <th>State</th>\n",
       "      <th>xx</th>\n",
       "      <th>yy</th>\n",
       "      <th>xx</th>\n",
       "      <th>yy</th>\n",
       "      <th>xx</th>\n",
       "      <th>yy</th>\n",
       "      <th>xx</th>\n",
       "      <th>yy</th>\n",
       "      <th>xx</th>\n",
       "      <th>yy</th>\n",
       "      <th>...</th>\n",
       "      <th>xx</th>\n",
       "      <th>yy</th>\n",
       "      <th>xx</th>\n",
       "      <th>yy</th>\n",
       "      <th>xx</th>\n",
       "      <th>yy</th>\n",
       "      <th>xx</th>\n",
       "      <th>yy</th>\n",
       "      <th>xx</th>\n",
       "      <th>yy</th>\n",
       "    </tr>\n",
       "  </thead>\n",
       "  <tbody>\n",
       "    <tr>\n",
       "      <th>100</th>\n",
       "      <td>0.0000</td>\n",
       "      <td>0.000000</td>\n",
       "      <td>0.0001</td>\n",
       "      <td>0.083237</td>\n",
       "      <td>0.0002</td>\n",
       "      <td>0.165896</td>\n",
       "      <td>0.0003</td>\n",
       "      <td>0.247404</td>\n",
       "      <td>0.0004</td>\n",
       "      <td>0.327195</td>\n",
       "      <td>...</td>\n",
       "      <td>0.0096</td>\n",
       "      <td>0.989358</td>\n",
       "      <td>0.0097</td>\n",
       "      <td>0.973814</td>\n",
       "      <td>0.0098</td>\n",
       "      <td>0.951511</td>\n",
       "      <td>0.0099</td>\n",
       "      <td>0.922604</td>\n",
       "      <td>0.0100</td>\n",
       "      <td>0.887294</td>\n",
       "    </tr>\n",
       "    <tr>\n",
       "      <th>101</th>\n",
       "      <td>0.0001</td>\n",
       "      <td>0.083237</td>\n",
       "      <td>0.0002</td>\n",
       "      <td>0.165896</td>\n",
       "      <td>0.0003</td>\n",
       "      <td>0.247404</td>\n",
       "      <td>0.0004</td>\n",
       "      <td>0.327195</td>\n",
       "      <td>0.0005</td>\n",
       "      <td>0.404715</td>\n",
       "      <td>...</td>\n",
       "      <td>0.0097</td>\n",
       "      <td>0.973814</td>\n",
       "      <td>0.0098</td>\n",
       "      <td>0.951511</td>\n",
       "      <td>0.0099</td>\n",
       "      <td>0.922604</td>\n",
       "      <td>0.0100</td>\n",
       "      <td>0.887294</td>\n",
       "      <td>0.0101</td>\n",
       "      <td>0.845826</td>\n",
       "    </tr>\n",
       "    <tr>\n",
       "      <th>102</th>\n",
       "      <td>0.0002</td>\n",
       "      <td>0.165896</td>\n",
       "      <td>0.0003</td>\n",
       "      <td>0.247404</td>\n",
       "      <td>0.0004</td>\n",
       "      <td>0.327195</td>\n",
       "      <td>0.0005</td>\n",
       "      <td>0.404715</td>\n",
       "      <td>0.0006</td>\n",
       "      <td>0.479426</td>\n",
       "      <td>...</td>\n",
       "      <td>0.0098</td>\n",
       "      <td>0.951511</td>\n",
       "      <td>0.0099</td>\n",
       "      <td>0.922604</td>\n",
       "      <td>0.0100</td>\n",
       "      <td>0.887294</td>\n",
       "      <td>0.0101</td>\n",
       "      <td>0.845826</td>\n",
       "      <td>0.0102</td>\n",
       "      <td>0.798487</td>\n",
       "    </tr>\n",
       "    <tr>\n",
       "      <th>103</th>\n",
       "      <td>0.0003</td>\n",
       "      <td>0.247404</td>\n",
       "      <td>0.0004</td>\n",
       "      <td>0.327195</td>\n",
       "      <td>0.0005</td>\n",
       "      <td>0.404715</td>\n",
       "      <td>0.0006</td>\n",
       "      <td>0.479426</td>\n",
       "      <td>0.0007</td>\n",
       "      <td>0.550809</td>\n",
       "      <td>...</td>\n",
       "      <td>0.0099</td>\n",
       "      <td>0.922604</td>\n",
       "      <td>0.0100</td>\n",
       "      <td>0.887294</td>\n",
       "      <td>0.0101</td>\n",
       "      <td>0.845826</td>\n",
       "      <td>0.0102</td>\n",
       "      <td>0.798487</td>\n",
       "      <td>0.0103</td>\n",
       "      <td>0.745607</td>\n",
       "    </tr>\n",
       "    <tr>\n",
       "      <th>104</th>\n",
       "      <td>0.0004</td>\n",
       "      <td>0.327195</td>\n",
       "      <td>0.0005</td>\n",
       "      <td>0.404715</td>\n",
       "      <td>0.0006</td>\n",
       "      <td>0.479426</td>\n",
       "      <td>0.0007</td>\n",
       "      <td>0.550809</td>\n",
       "      <td>0.0008</td>\n",
       "      <td>0.618370</td>\n",
       "      <td>...</td>\n",
       "      <td>0.0100</td>\n",
       "      <td>0.887294</td>\n",
       "      <td>0.0101</td>\n",
       "      <td>0.845826</td>\n",
       "      <td>0.0102</td>\n",
       "      <td>0.798487</td>\n",
       "      <td>0.0103</td>\n",
       "      <td>0.745607</td>\n",
       "      <td>0.0104</td>\n",
       "      <td>0.687551</td>\n",
       "    </tr>\n",
       "    <tr>\n",
       "      <th>...</th>\n",
       "      <td>...</td>\n",
       "      <td>...</td>\n",
       "      <td>...</td>\n",
       "      <td>...</td>\n",
       "      <td>...</td>\n",
       "      <td>...</td>\n",
       "      <td>...</td>\n",
       "      <td>...</td>\n",
       "      <td>...</td>\n",
       "      <td>...</td>\n",
       "      <td>...</td>\n",
       "      <td>...</td>\n",
       "      <td>...</td>\n",
       "      <td>...</td>\n",
       "      <td>...</td>\n",
       "      <td>...</td>\n",
       "      <td>...</td>\n",
       "      <td>...</td>\n",
       "      <td>...</td>\n",
       "      <td>...</td>\n",
       "      <td>...</td>\n",
       "    </tr>\n",
       "    <tr>\n",
       "      <th>9995</th>\n",
       "      <td>0.9895</td>\n",
       "      <td>0.996412</td>\n",
       "      <td>0.9896</td>\n",
       "      <td>0.999999</td>\n",
       "      <td>0.9897</td>\n",
       "      <td>0.996646</td>\n",
       "      <td>0.9898</td>\n",
       "      <td>0.986375</td>\n",
       "      <td>0.9899</td>\n",
       "      <td>0.969259</td>\n",
       "      <td>...</td>\n",
       "      <td>0.9991</td>\n",
       "      <td>-0.061242</td>\n",
       "      <td>0.9992</td>\n",
       "      <td>-0.144110</td>\n",
       "      <td>0.9993</td>\n",
       "      <td>-0.225978</td>\n",
       "      <td>0.9994</td>\n",
       "      <td>-0.306277</td>\n",
       "      <td>0.9995</td>\n",
       "      <td>-0.384451</td>\n",
       "    </tr>\n",
       "    <tr>\n",
       "      <th>9996</th>\n",
       "      <td>0.9896</td>\n",
       "      <td>0.999999</td>\n",
       "      <td>0.9897</td>\n",
       "      <td>0.996646</td>\n",
       "      <td>0.9898</td>\n",
       "      <td>0.986375</td>\n",
       "      <td>0.9899</td>\n",
       "      <td>0.969259</td>\n",
       "      <td>0.9900</td>\n",
       "      <td>0.945416</td>\n",
       "      <td>...</td>\n",
       "      <td>0.9992</td>\n",
       "      <td>-0.144110</td>\n",
       "      <td>0.9993</td>\n",
       "      <td>-0.225978</td>\n",
       "      <td>0.9994</td>\n",
       "      <td>-0.306277</td>\n",
       "      <td>0.9995</td>\n",
       "      <td>-0.384451</td>\n",
       "      <td>0.9996</td>\n",
       "      <td>-0.459957</td>\n",
       "    </tr>\n",
       "    <tr>\n",
       "      <th>9997</th>\n",
       "      <td>0.9897</td>\n",
       "      <td>0.996646</td>\n",
       "      <td>0.9898</td>\n",
       "      <td>0.986375</td>\n",
       "      <td>0.9899</td>\n",
       "      <td>0.969259</td>\n",
       "      <td>0.9900</td>\n",
       "      <td>0.945416</td>\n",
       "      <td>0.9901</td>\n",
       "      <td>0.915011</td>\n",
       "      <td>...</td>\n",
       "      <td>0.9993</td>\n",
       "      <td>-0.225978</td>\n",
       "      <td>0.9994</td>\n",
       "      <td>-0.306277</td>\n",
       "      <td>0.9995</td>\n",
       "      <td>-0.384451</td>\n",
       "      <td>0.9996</td>\n",
       "      <td>-0.459957</td>\n",
       "      <td>0.9997</td>\n",
       "      <td>-0.532270</td>\n",
       "    </tr>\n",
       "    <tr>\n",
       "      <th>9998</th>\n",
       "      <td>0.9898</td>\n",
       "      <td>0.986375</td>\n",
       "      <td>0.9899</td>\n",
       "      <td>0.969259</td>\n",
       "      <td>0.9900</td>\n",
       "      <td>0.945416</td>\n",
       "      <td>0.9901</td>\n",
       "      <td>0.915011</td>\n",
       "      <td>0.9902</td>\n",
       "      <td>0.878255</td>\n",
       "      <td>...</td>\n",
       "      <td>0.9994</td>\n",
       "      <td>-0.306277</td>\n",
       "      <td>0.9995</td>\n",
       "      <td>-0.384451</td>\n",
       "      <td>0.9996</td>\n",
       "      <td>-0.459957</td>\n",
       "      <td>0.9997</td>\n",
       "      <td>-0.532270</td>\n",
       "      <td>0.9998</td>\n",
       "      <td>-0.600890</td>\n",
       "    </tr>\n",
       "    <tr>\n",
       "      <th>9999</th>\n",
       "      <td>0.9899</td>\n",
       "      <td>0.969259</td>\n",
       "      <td>0.9900</td>\n",
       "      <td>0.945416</td>\n",
       "      <td>0.9901</td>\n",
       "      <td>0.915011</td>\n",
       "      <td>0.9902</td>\n",
       "      <td>0.878255</td>\n",
       "      <td>0.9903</td>\n",
       "      <td>0.835404</td>\n",
       "      <td>...</td>\n",
       "      <td>0.9995</td>\n",
       "      <td>-0.384451</td>\n",
       "      <td>0.9996</td>\n",
       "      <td>-0.459957</td>\n",
       "      <td>0.9997</td>\n",
       "      <td>-0.532270</td>\n",
       "      <td>0.9998</td>\n",
       "      <td>-0.600890</td>\n",
       "      <td>0.9999</td>\n",
       "      <td>-0.665338</td>\n",
       "    </tr>\n",
       "  </tbody>\n",
       "</table>\n",
       "<p>9900 rows × 202 columns</p>\n",
       "</div>"
      ],
      "text/plain": [
       "Past     -100              -99               -98               -97             \\\n",
       "State      xx        yy      xx        yy      xx        yy      xx        yy   \n",
       "100    0.0000  0.000000  0.0001  0.083237  0.0002  0.165896  0.0003  0.247404   \n",
       "101    0.0001  0.083237  0.0002  0.165896  0.0003  0.247404  0.0004  0.327195   \n",
       "102    0.0002  0.165896  0.0003  0.247404  0.0004  0.327195  0.0005  0.404715   \n",
       "103    0.0003  0.247404  0.0004  0.327195  0.0005  0.404715  0.0006  0.479426   \n",
       "104    0.0004  0.327195  0.0005  0.404715  0.0006  0.479426  0.0007  0.550809   \n",
       "...       ...       ...     ...       ...     ...       ...     ...       ...   \n",
       "9995   0.9895  0.996412  0.9896  0.999999  0.9897  0.996646  0.9898  0.986375   \n",
       "9996   0.9896  0.999999  0.9897  0.996646  0.9898  0.986375  0.9899  0.969259   \n",
       "9997   0.9897  0.996646  0.9898  0.986375  0.9899  0.969259  0.9900  0.945416   \n",
       "9998   0.9898  0.986375  0.9899  0.969259  0.9900  0.945416  0.9901  0.915011   \n",
       "9999   0.9899  0.969259  0.9900  0.945416  0.9901  0.915011  0.9902  0.878255   \n",
       "\n",
       "Past     -96             ...    -4                -3                -2    \\\n",
       "State      xx        yy  ...      xx        yy      xx        yy      xx   \n",
       "100    0.0004  0.327195  ...  0.0096  0.989358  0.0097  0.973814  0.0098   \n",
       "101    0.0005  0.404715  ...  0.0097  0.973814  0.0098  0.951511  0.0099   \n",
       "102    0.0006  0.479426  ...  0.0098  0.951511  0.0099  0.922604  0.0100   \n",
       "103    0.0007  0.550809  ...  0.0099  0.922604  0.0100  0.887294  0.0101   \n",
       "104    0.0008  0.618370  ...  0.0100  0.887294  0.0101  0.845826  0.0102   \n",
       "...       ...       ...  ...     ...       ...     ...       ...     ...   \n",
       "9995   0.9899  0.969259  ...  0.9991 -0.061242  0.9992 -0.144110  0.9993   \n",
       "9996   0.9900  0.945416  ...  0.9992 -0.144110  0.9993 -0.225978  0.9994   \n",
       "9997   0.9901  0.915011  ...  0.9993 -0.225978  0.9994 -0.306277  0.9995   \n",
       "9998   0.9902  0.878255  ...  0.9994 -0.306277  0.9995 -0.384451  0.9996   \n",
       "9999   0.9903  0.835404  ...  0.9995 -0.384451  0.9996 -0.459957  0.9997   \n",
       "\n",
       "Past               -1                 0              \n",
       "State        yy      xx        yy      xx        yy  \n",
       "100    0.951511  0.0099  0.922604  0.0100  0.887294  \n",
       "101    0.922604  0.0100  0.887294  0.0101  0.845826  \n",
       "102    0.887294  0.0101  0.845826  0.0102  0.798487  \n",
       "103    0.845826  0.0102  0.798487  0.0103  0.745607  \n",
       "104    0.798487  0.0103  0.745607  0.0104  0.687551  \n",
       "...         ...     ...       ...     ...       ...  \n",
       "9995  -0.225978  0.9994 -0.306277  0.9995 -0.384451  \n",
       "9996  -0.306277  0.9995 -0.384451  0.9996 -0.459957  \n",
       "9997  -0.384451  0.9996 -0.459957  0.9997 -0.532270  \n",
       "9998  -0.459957  0.9997 -0.532270  0.9998 -0.600890  \n",
       "9999  -0.532270  0.9998 -0.600890  0.9999 -0.665338  \n",
       "\n",
       "[9900 rows x 202 columns]"
      ]
     },
     "execution_count": 4,
     "metadata": {},
     "output_type": "execute_result"
    }
   ],
   "source": [
    "iterables = [np.arange(-nPast,0), ['xx', 'yy']]\n",
    "index = pd.MultiIndex.from_product(iterables, names=['Past', 'State'])\n",
    "\n",
    "pdata = pd.DataFrame(past, columns=index)\n",
    "pdata.loc[:,(0,'xx')] = data[:,0]\n",
    "pdata.loc[:,(0,'yy')] = data[:,1]\n",
    "pdata = pdata.drop(np.arange(nPast))\n",
    "pdata"
   ]
  },
  {
   "cell_type": "markdown",
   "metadata": {},
   "source": [
    "Visual check of the dataset"
   ]
  },
  {
   "cell_type": "code",
   "execution_count": 5,
   "metadata": {},
   "outputs": [
    {
     "data": {
      "text/plain": [
       "<matplotlib.collections.PathCollection at 0x20e2bacdec8>"
      ]
     },
     "execution_count": 5,
     "metadata": {},
     "output_type": "execute_result"
    },
    {
     "data": {
      "image/png": "[encoded data removed]",
      "text/plain": [
       "<Figure size 432x288 with 1 Axes>"
      ]
     },
     "metadata": {
      "needs_background": "light"
     },
     "output_type": "display_data"
    }
   ],
   "source": [
    "%matplotlib inline\n",
    "plt.scatter(pdata.loc[0:300,(0,'xx')],pdata.loc[0:300,(0,'yy')])"
   ]
  },
  {
   "cell_type": "markdown",
   "metadata": {},
   "source": [
    "Split the dataset into training and testing sets"
   ]
  },
  {
   "cell_type": "code",
   "execution_count": 6,
   "metadata": {
    "scrolled": true
   },
   "outputs": [],
   "source": [
    "train_dataset = pdata.sample(frac=0.8, random_state=0)\n",
    "test_dataset = pdata.drop(train_dataset.index)"
   ]
  },
  {
   "cell_type": "markdown",
   "metadata": {},
   "source": [
    "Split features from labels"
   ]
  },
  {
   "cell_type": "code",
   "execution_count": 7,
   "metadata": {
    "scrolled": true
   },
   "outputs": [],
   "source": [
    "train_labels = train_dataset.pop(0)\n",
    "test_labels = test_dataset.pop(0)"
   ]
  },
  {
   "cell_type": "code",
   "execution_count": null,
   "metadata": {},
   "outputs": [],
   "source": []
  },
  {
   "cell_type": "markdown",
   "metadata": {},
   "source": [
    "##### Create a model"
   ]
  },
  {
   "cell_type": "code",
   "execution_count": 8,
   "metadata": {
    "colab": {},
    "colab_type": "code",
    "id": "c26juK7ZG8j-"
   },
   "outputs": [],
   "source": [
    "def build_model():\n",
    "    model = keras.Sequential([\n",
    "        layers.Dense(500, activation='relu', input_shape=[len(train_dataset.keys())]),\n",
    "        layers.Dense(500, activation='relu'),\n",
    "        layers.Dense(nCoords)\n",
    "    ])\n",
    "\n",
    "    model.compile(loss='mse',\n",
    "                optimizer='adam',\n",
    "                metrics=['accuracy'])\n",
    "    return model"
   ]
  },
  {
   "cell_type": "code",
   "execution_count": 9,
   "metadata": {},
   "outputs": [
    {
     "name": "stdout",
     "output_type": "stream",
     "text": [
      "WARNING:tensorflow:From C:\\Users\\pedro\\Anaconda3\\envs\\specialTopics\\lib\\site-packages\\tensorflow\\python\\ops\\resource_variable_ops.py:435: colocate_with (from tensorflow.python.framework.ops) is deprecated and will be removed in a future version.\n",
      "Instructions for updating:\n",
      "Colocations handled automatically by placer.\n",
      "WARNING:tensorflow:From C:\\Users\\pedro\\Anaconda3\\envs\\specialTopics\\lib\\site-packages\\tensorflow\\python\\keras\\utils\\losses_utils.py:170: to_float (from tensorflow.python.ops.math_ops) is deprecated and will be removed in a future version.\n",
      "Instructions for updating:\n",
      "Use tf.cast instead.\n"
     ]
    }
   ],
   "source": [
    "model = build_model()"
   ]
  },
  {
   "cell_type": "code",
   "execution_count": 10,
   "metadata": {
    "scrolled": false
   },
   "outputs": [
    {
     "name": "stdout",
     "output_type": "stream",
     "text": [
      "_________________________________________________________________\n",
      "Layer (type)                 Output Shape              Param #   \n",
      "=================================================================\n",
      "dense (Dense)                (None, 500)               100500    \n",
      "_________________________________________________________________\n",
      "dense_1 (Dense)              (None, 500)               250500    \n",
      "_________________________________________________________________\n",
      "dense_2 (Dense)              (None, 2)                 1002      \n",
      "=================================================================\n",
      "Total params: 352,002\n",
      "Trainable params: 352,002\n",
      "Non-trainable params: 0\n",
      "_________________________________________________________________\n"
     ]
    }
   ],
   "source": [
    "model.summary()"
   ]
  },
  {
   "cell_type": "markdown",
   "metadata": {},
   "source": [
    "#### Train the model"
   ]
  },
  {
   "cell_type": "code",
   "execution_count": null,
   "metadata": {},
   "outputs": [],
   "source": []
  },
  {
   "cell_type": "code",
   "execution_count": 11,
   "metadata": {
    "scrolled": true
   },
   "outputs": [
    {
     "name": "stdout",
     "output_type": "stream",
     "text": [
      "Train on 6336 samples, validate on 1584 samples\n",
      "WARNING:tensorflow:From C:\\Users\\pedro\\Anaconda3\\envs\\specialTopics\\lib\\site-packages\\tensorflow\\python\\ops\\math_ops.py:3066: to_int32 (from tensorflow.python.ops.math_ops) is deprecated and will be removed in a future version.\n",
      "Instructions for updating:\n",
      "Use tf.cast instead.\n",
      "Epoch 1/16\n",
      "6336/6336 [==============================] - 3s 421us/sample - loss: 0.0122 - acc: 0.9757 - val_loss: 1.8701e-05 - val_acc: 0.9956\n",
      "Epoch 2/16\n",
      "6336/6336 [==============================] - 2s 347us/sample - loss: 1.1209e-05 - acc: 0.9984 - val_loss: 7.1874e-06 - val_acc: 0.9987\n",
      "Epoch 3/16\n",
      "6336/6336 [==============================] - 2s 327us/sample - loss: 6.4291e-06 - acc: 0.9991 - val_loss: 4.6541e-06 - val_acc: 0.9994\n",
      "Epoch 4/16\n",
      "6336/6336 [==============================] - 2s 332us/sample - loss: 8.9602e-06 - acc: 0.9986 - val_loss: 1.1497e-05 - val_acc: 0.9975\n",
      "Epoch 5/16\n",
      "6336/6336 [==============================] - 2s 324us/sample - loss: 1.2654e-04 - acc: 0.9931 - val_loss: 3.7405e-04 - val_acc: 0.9848\n",
      "Epoch 6/16\n",
      "6336/6336 [==============================] - 2s 327us/sample - loss: 1.5490e-04 - acc: 0.9932 - val_loss: 2.2471e-05 - val_acc: 0.9962\n",
      "Epoch 7/16\n",
      "6336/6336 [==============================] - 2s 336us/sample - loss: 4.2210e-05 - acc: 0.9978 - val_loss: 1.0143e-04 - val_acc: 0.9924\n",
      "Epoch 8/16\n",
      "6336/6336 [==============================] - 2s 331us/sample - loss: 5.5776e-05 - acc: 0.9965 - val_loss: 2.1139e-05 - val_acc: 0.9949\n",
      "Epoch 9/16\n",
      "6336/6336 [==============================] - 2s 315us/sample - loss: 2.1591e-04 - acc: 0.9916 - val_loss: 3.0424e-04 - val_acc: 0.9905\n",
      "Epoch 10/16\n",
      "6336/6336 [==============================] - 2s 323us/sample - loss: 1.0170e-04 - acc: 0.9949 - val_loss: 2.0103e-05 - val_acc: 0.9981\n",
      "Epoch 11/16\n",
      "6336/6336 [==============================] - 2s 340us/sample - loss: 4.4987e-05 - acc: 0.9962 - val_loss: 4.1669e-05 - val_acc: 0.9968\n",
      "Epoch 12/16\n",
      "6336/6336 [==============================] - 2s 327us/sample - loss: 3.6323e-05 - acc: 0.9976 - val_loss: 6.1703e-05 - val_acc: 0.9956\n",
      "Epoch 13/16\n",
      "6336/6336 [==============================] - 2s 327us/sample - loss: 5.1112e-04 - acc: 0.9920 - val_loss: 8.6731e-05 - val_acc: 0.99491s - loss: 1.995\n",
      "Epoch 14/16\n",
      "6336/6336 [==============================] - 2s 328us/sample - loss: 5.2777e-05 - acc: 0.9964 - val_loss: 5.5217e-06 - val_acc: 0.9981\n",
      "Epoch 15/16\n",
      "6336/6336 [==============================] - 2s 327us/sample - loss: 5.3536e-06 - acc: 0.9989 - val_loss: 4.3160e-06 - val_acc: 0.9987\n",
      "Epoch 16/16\n",
      "6336/6336 [==============================] - 2s 328us/sample - loss: 2.0063e-05 - acc: 0.9981 - val_loss: 8.2323e-05 - val_acc: 0.9937\n"
     ]
    }
   ],
   "source": [
    "history = model.fit(train_dataset, train_labels, validation_split=0.2, epochs=16)"
   ]
  },
  {
   "cell_type": "markdown",
   "metadata": {},
   "source": [
    "Visualize the model's training progress via the history object"
   ]
  },
  {
   "cell_type": "code",
   "execution_count": 12,
   "metadata": {},
   "outputs": [
    {
     "data": {
      "text/html": [
       "<div>\n",
       "<style scoped>\n",
       "    .dataframe tbody tr th:only-of-type {\n",
       "        vertical-align: middle;\n",
       "    }\n",
       "\n",
       "    .dataframe tbody tr th {\n",
       "        vertical-align: top;\n",
       "    }\n",
       "\n",
       "    .dataframe thead th {\n",
       "        text-align: right;\n",
       "    }\n",
       "</style>\n",
       "<table border=\"1\" class=\"dataframe\">\n",
       "  <thead>\n",
       "    <tr style=\"text-align: right;\">\n",
       "      <th></th>\n",
       "      <th>loss</th>\n",
       "      <th>acc</th>\n",
       "      <th>val_loss</th>\n",
       "      <th>val_acc</th>\n",
       "      <th>epoch</th>\n",
       "    </tr>\n",
       "  </thead>\n",
       "  <tbody>\n",
       "    <tr>\n",
       "      <th>11</th>\n",
       "      <td>0.000036</td>\n",
       "      <td>0.997633</td>\n",
       "      <td>0.000062</td>\n",
       "      <td>0.995581</td>\n",
       "      <td>11</td>\n",
       "    </tr>\n",
       "    <tr>\n",
       "      <th>12</th>\n",
       "      <td>0.000511</td>\n",
       "      <td>0.991951</td>\n",
       "      <td>0.000087</td>\n",
       "      <td>0.994950</td>\n",
       "      <td>12</td>\n",
       "    </tr>\n",
       "    <tr>\n",
       "      <th>13</th>\n",
       "      <td>0.000053</td>\n",
       "      <td>0.996370</td>\n",
       "      <td>0.000006</td>\n",
       "      <td>0.998106</td>\n",
       "      <td>13</td>\n",
       "    </tr>\n",
       "    <tr>\n",
       "      <th>14</th>\n",
       "      <td>0.000005</td>\n",
       "      <td>0.998895</td>\n",
       "      <td>0.000004</td>\n",
       "      <td>0.998737</td>\n",
       "      <td>14</td>\n",
       "    </tr>\n",
       "    <tr>\n",
       "      <th>15</th>\n",
       "      <td>0.000020</td>\n",
       "      <td>0.998106</td>\n",
       "      <td>0.000082</td>\n",
       "      <td>0.993687</td>\n",
       "      <td>15</td>\n",
       "    </tr>\n",
       "  </tbody>\n",
       "</table>\n",
       "</div>"
      ],
      "text/plain": [
       "        loss       acc  val_loss   val_acc  epoch\n",
       "11  0.000036  0.997633  0.000062  0.995581     11\n",
       "12  0.000511  0.991951  0.000087  0.994950     12\n",
       "13  0.000053  0.996370  0.000006  0.998106     13\n",
       "14  0.000005  0.998895  0.000004  0.998737     14\n",
       "15  0.000020  0.998106  0.000082  0.993687     15"
      ]
     },
     "execution_count": 12,
     "metadata": {},
     "output_type": "execute_result"
    }
   ],
   "source": [
    "hist = pd.DataFrame(history.history)\n",
    "hist['epoch'] = history.epoch\n",
    "hist.tail()"
   ]
  },
  {
   "cell_type": "markdown",
   "metadata": {
    "colab_type": "text",
    "id": "EIdT9iu_Z4Rb"
   },
   "source": [
    "## Basic regression: predict future values of the sine function"
   ]
  },
  {
   "cell_type": "markdown",
   "metadata": {},
   "source": [
    "#### Predict with the model"
   ]
  },
  {
   "cell_type": "markdown",
   "metadata": {},
   "source": [
    "If you trained on `n` points (eg. `n = 49`), now predict the value of point `n+1`"
   ]
  },
  {
   "cell_type": "markdown",
   "metadata": {},
   "source": [
    "Once you have predicted a single future point, develop a 'rolling' predictor which drops the first point and predicts point `n+2` based on the set of points `[2,n+1]`."
   ]
  },
  {
   "cell_type": "markdown",
   "metadata": {},
   "source": [
    "Examine the quality of the results for the mechanism to predict points into the future."
   ]
  },
  {
   "cell_type": "markdown",
   "metadata": {},
   "source": [
    "____"
   ]
  },
  {
   "cell_type": "markdown",
   "metadata": {},
   "source": [
    "#### Plot the history"
   ]
  },
  {
   "cell_type": "code",
   "execution_count": 13,
   "metadata": {
    "scrolled": true
   },
   "outputs": [
    {
     "data": {
      "text/plain": [
       "[<matplotlib.lines.Line2D at 0x20e304c1148>]"
      ]
     },
     "execution_count": 13,
     "metadata": {},
     "output_type": "execute_result"
    },
    {
     "data": {
      "text/plain": [
       "[<matplotlib.lines.Line2D at 0x20e304ac108>]"
      ]
     },
     "execution_count": 13,
     "metadata": {},
     "output_type": "execute_result"
    },
    {
     "data": {
      "text/plain": [
       "Text(0.5, 1.0, 'model loss')"
      ]
     },
     "execution_count": 13,
     "metadata": {},
     "output_type": "execute_result"
    },
    {
     "data": {
      "text/plain": [
       "Text(0, 0.5, 'loss')"
      ]
     },
     "execution_count": 13,
     "metadata": {},
     "output_type": "execute_result"
    },
    {
     "data": {
      "text/plain": [
       "Text(0.5, 0, 'epoch')"
      ]
     },
     "execution_count": 13,
     "metadata": {},
     "output_type": "execute_result"
    },
    {
     "data": {
      "text/plain": [
       "<matplotlib.legend.Legend at 0x20e304c1c08>"
      ]
     },
     "execution_count": 13,
     "metadata": {},
     "output_type": "execute_result"
    },
    {
     "data": {
      "image/png": "[encoded data removed]",
      "text/plain": [
       "<Figure size 432x288 with 1 Axes>"
      ]
     },
     "metadata": {
      "needs_background": "light"
     },
     "output_type": "display_data"
    }
   ],
   "source": [
    "plt.plot(history.history['loss'])\n",
    "plt.plot(history.history['val_loss'])\n",
    "plt.title('model loss')\n",
    "plt.ylabel('loss')\n",
    "plt.xlabel('epoch')\n",
    "plt.legend(['loss','val_loss'],loc='upper right')\n",
    "plt.show()"
   ]
  },
  {
   "cell_type": "markdown",
   "metadata": {},
   "source": [
    "Are `10` epochs too few? If so, try training for more epochs."
   ]
  },
  {
   "cell_type": "code",
   "execution_count": 14,
   "metadata": {},
   "outputs": [],
   "source": [
    "# test_predictions = model.predict(test_dataset) #.flatten()"
   ]
  },
  {
   "cell_type": "markdown",
   "metadata": {
    "colab_type": "text",
    "id": "ft603OzXuEZC"
   },
   "source": [
    "### Make predictions\n",
    "\n",
    "Finally, predict values using data in the test set:"
   ]
  },
  {
   "cell_type": "code",
   "execution_count": 15,
   "metadata": {
    "colab": {},
    "colab_type": "code",
    "id": "Xe7RXH3N3CWU"
   },
   "outputs": [
    {
     "data": {
      "text/html": [
       "<div>\n",
       "<style scoped>\n",
       "    .dataframe tbody tr th:only-of-type {\n",
       "        vertical-align: middle;\n",
       "    }\n",
       "\n",
       "    .dataframe tbody tr th {\n",
       "        vertical-align: top;\n",
       "    }\n",
       "\n",
       "    .dataframe thead th {\n",
       "        text-align: right;\n",
       "    }\n",
       "</style>\n",
       "<table border=\"1\" class=\"dataframe\">\n",
       "  <thead>\n",
       "    <tr style=\"text-align: right;\">\n",
       "      <th>State</th>\n",
       "      <th>xx</th>\n",
       "      <th>yy</th>\n",
       "    </tr>\n",
       "  </thead>\n",
       "  <tbody>\n",
       "    <tr>\n",
       "      <th>100</th>\n",
       "      <td>0.0100</td>\n",
       "      <td>0.887294</td>\n",
       "    </tr>\n",
       "    <tr>\n",
       "      <th>113</th>\n",
       "      <td>0.0113</td>\n",
       "      <td>0.008111</td>\n",
       "    </tr>\n",
       "    <tr>\n",
       "      <th>121</th>\n",
       "      <td>0.0121</td>\n",
       "      <td>-0.611975</td>\n",
       "    </tr>\n",
       "    <tr>\n",
       "      <th>125</th>\n",
       "      <td>0.0125</td>\n",
       "      <td>-0.837061</td>\n",
       "    </tr>\n",
       "    <tr>\n",
       "      <th>126</th>\n",
       "      <td>0.0126</td>\n",
       "      <td>-0.879696</td>\n",
       "    </tr>\n",
       "    <tr>\n",
       "      <th>...</th>\n",
       "      <td>...</td>\n",
       "      <td>...</td>\n",
       "    </tr>\n",
       "    <tr>\n",
       "      <th>9964</th>\n",
       "      <td>0.9964</td>\n",
       "      <td>0.815083</td>\n",
       "    </tr>\n",
       "    <tr>\n",
       "      <th>9970</th>\n",
       "      <td>0.9970</td>\n",
       "      <td>0.993055</td>\n",
       "    </tr>\n",
       "    <tr>\n",
       "      <th>9973</th>\n",
       "      <td>0.9973</td>\n",
       "      <td>0.991291</td>\n",
       "    </tr>\n",
       "    <tr>\n",
       "      <th>9983</th>\n",
       "      <td>0.9983</td>\n",
       "      <td>0.569080</td>\n",
       "    </tr>\n",
       "    <tr>\n",
       "      <th>9995</th>\n",
       "      <td>0.9995</td>\n",
       "      <td>-0.384451</td>\n",
       "    </tr>\n",
       "  </tbody>\n",
       "</table>\n",
       "<p>1980 rows × 2 columns</p>\n",
       "</div>"
      ],
      "text/plain": [
       "State      xx        yy\n",
       "100    0.0100  0.887294\n",
       "113    0.0113  0.008111\n",
       "121    0.0121 -0.611975\n",
       "125    0.0125 -0.837061\n",
       "126    0.0126 -0.879696\n",
       "...       ...       ...\n",
       "9964   0.9964  0.815083\n",
       "9970   0.9970  0.993055\n",
       "9973   0.9973  0.991291\n",
       "9983   0.9983  0.569080\n",
       "9995   0.9995 -0.384451\n",
       "\n",
       "[1980 rows x 2 columns]"
      ]
     },
     "execution_count": 15,
     "metadata": {},
     "output_type": "execute_result"
    },
    {
     "data": {
      "text/plain": [
       "array([[ 0.0021699 ,  0.8890948 ],\n",
       "       [ 0.01705395, -0.00750965],\n",
       "       [ 0.00992835, -0.60677636],\n",
       "       ...,\n",
       "       [ 1.0064675 ,  0.9907946 ],\n",
       "       [ 1.0178162 ,  0.55509555],\n",
       "       [ 1.0136038 , -0.38992405]], dtype=float32)"
      ]
     },
     "execution_count": 15,
     "metadata": {},
     "output_type": "execute_result"
    },
    {
     "data": {
      "text/plain": [
       "<matplotlib.collections.PathCollection at 0x20e3047d248>"
      ]
     },
     "execution_count": 15,
     "metadata": {},
     "output_type": "execute_result"
    },
    {
     "data": {
      "text/plain": [
       "Text(0.5, 0, 'True Values')"
      ]
     },
     "execution_count": 15,
     "metadata": {},
     "output_type": "execute_result"
    },
    {
     "data": {
      "text/plain": [
       "Text(0, 0.5, 'Predictions')"
      ]
     },
     "execution_count": 15,
     "metadata": {},
     "output_type": "execute_result"
    },
    {
     "data": {
      "text/plain": [
       "(-2.0, 2.0)"
      ]
     },
     "execution_count": 15,
     "metadata": {},
     "output_type": "execute_result"
    },
    {
     "data": {
      "text/plain": [
       "(-2.0, 2.0)"
      ]
     },
     "execution_count": 15,
     "metadata": {},
     "output_type": "execute_result"
    },
    {
     "data": {
      "image/png": "[encoded data removed]",
      "text/plain": [
       "<Figure size 432x288 with 1 Axes>"
      ]
     },
     "metadata": {
      "needs_background": "light"
     },
     "output_type": "display_data"
    }
   ],
   "source": [
    "test_predictions = model.predict(test_dataset) #.flatten()\n",
    "\n",
    "test_labels\n",
    "test_predictions\n",
    "\n",
    "a = plt.axes(aspect='equal')\n",
    "plt.scatter(test_labels['xx'], test_predictions[:,0])\n",
    "plt.xlabel('True Values')\n",
    "plt.ylabel('Predictions')\n",
    "plt.xlim([-2,2])\n",
    "plt.ylim([-2,2])\n",
    "_ = plt.plot([-2,2], [-2,2])"
   ]
  },
  {
   "cell_type": "code",
   "execution_count": 16,
   "metadata": {},
   "outputs": [
    {
     "data": {
      "text/plain": [
       "array([[ 0.0021699 ,  0.8890948 ],\n",
       "       [ 0.01705395, -0.00750965],\n",
       "       [ 0.00992835, -0.60677636],\n",
       "       ...,\n",
       "       [ 1.0064675 ,  0.9907946 ],\n",
       "       [ 1.0178162 ,  0.55509555],\n",
       "       [ 1.0136038 , -0.38992405]], dtype=float32)"
      ]
     },
     "execution_count": 16,
     "metadata": {},
     "output_type": "execute_result"
    },
    {
     "data": {
      "text/plain": [
       "<matplotlib.collections.PathCollection at 0x20e364cbb88>"
      ]
     },
     "execution_count": 16,
     "metadata": {},
     "output_type": "execute_result"
    },
    {
     "data": {
      "image/png": "[encoded data removed]",
      "text/plain": [
       "<Figure size 432x288 with 1 Axes>"
      ]
     },
     "metadata": {
      "needs_background": "light"
     },
     "output_type": "display_data"
    }
   ],
   "source": [
    "%matplotlib qt\n",
    "test_predictions\n",
    "plt.scatter(((T*test_predictions[:,0])%T)/T,test_predictions[:,1])"
   ]
  },
  {
   "cell_type": "markdown",
   "metadata": {
    "colab_type": "text",
    "id": "19wyogbOSU5t"
   },
   "source": [
    "Take a look at the error distribution."
   ]
  },
  {
   "cell_type": "code",
   "execution_count": 17,
   "metadata": {
    "colab": {},
    "colab_type": "code",
    "id": "f-OHX4DiXd8x"
   },
   "outputs": [
    {
     "data": {
      "text/plain": [
       "(array([ 14.,  33.,  38.,  55.,  65.,  34.,  47.,  94., 105., 102., 162.,\n",
       "        178., 182., 138., 204., 201., 146.,  66.,  33.,  44.,  16.,  11.,\n",
       "         10.,   1.,   1.]),\n",
       " array([-0.02326716, -0.02104027, -0.01881339, -0.0165865 , -0.01435962,\n",
       "        -0.01213273, -0.00990584, -0.00767896, -0.00545207, -0.00322519,\n",
       "        -0.0009983 ,  0.00122858,  0.00345547,  0.00568236,  0.00790924,\n",
       "         0.01013613,  0.01236301,  0.0145899 ,  0.01681678,  0.01904367,\n",
       "         0.02127056,  0.02349744,  0.02572433,  0.02795121,  0.0301781 ,\n",
       "         0.03240499]),\n",
       " <a list of 25 Patch objects>)"
      ]
     },
     "execution_count": 17,
     "metadata": {},
     "output_type": "execute_result"
    },
    {
     "data": {
      "text/plain": [
       "Text(0.5, 0, 'Prediction Error')"
      ]
     },
     "execution_count": 17,
     "metadata": {},
     "output_type": "execute_result"
    },
    {
     "data": {
      "text/plain": [
       "(array([  1.,   1.,   1.,   5.,  17.,  14.,  27.,  70.,  90.,  92., 119.,\n",
       "        196., 166., 186., 137., 255., 260., 122.,  50.,  48.,  19.,  32.,\n",
       "         43.,  19.,  10.]),\n",
       " array([-0.01974278, -0.01799916, -0.01625553, -0.01451191, -0.01276829,\n",
       "        -0.01102467, -0.00928105, -0.00753742, -0.0057938 , -0.00405018,\n",
       "        -0.00230656, -0.00056293,  0.00118069,  0.00292431,  0.00466793,\n",
       "         0.00641156,  0.00815518,  0.0098988 ,  0.01164242,  0.01338605,\n",
       "         0.01512967,  0.01687329,  0.01861691,  0.02036054,  0.02210416,\n",
       "         0.02384778]),\n",
       " <a list of 25 Patch objects>)"
      ]
     },
     "execution_count": 17,
     "metadata": {},
     "output_type": "execute_result"
    },
    {
     "data": {
      "text/plain": [
       "Text(0.5, 0, 'Prediction Error')"
      ]
     },
     "execution_count": 17,
     "metadata": {},
     "output_type": "execute_result"
    },
    {
     "data": {
      "image/png": "[encoded data removed]",
      "text/plain": [
       "<Figure size 432x288 with 1 Axes>"
      ]
     },
     "metadata": {
      "needs_background": "light"
     },
     "output_type": "display_data"
    }
   ],
   "source": [
    "error = test_predictions[:,1] - test_labels['yy']\n",
    "plt.hist(error, bins = 25)\n",
    "plt.xlabel(\"Prediction Error\")\n",
    "_ = plt.ylabel(\"Count\")\n",
    "\n",
    "error = test_predictions[:,0] - test_labels['xx']\n",
    "plt.hist(error, bins = 25)\n",
    "plt.xlabel(\"Prediction Error\")\n",
    "_ = plt.ylabel(\"Count\")"
   ]
  },
  {
   "cell_type": "code",
   "execution_count": 18,
   "metadata": {},
   "outputs": [
    {
     "data": {
      "text/html": [
       "<div>\n",
       "<style scoped>\n",
       "    .dataframe tbody tr th:only-of-type {\n",
       "        vertical-align: middle;\n",
       "    }\n",
       "\n",
       "    .dataframe tbody tr th {\n",
       "        vertical-align: top;\n",
       "    }\n",
       "\n",
       "    .dataframe thead tr th {\n",
       "        text-align: left;\n",
       "    }\n",
       "</style>\n",
       "<table border=\"1\" class=\"dataframe\">\n",
       "  <thead>\n",
       "    <tr>\n",
       "      <th>Past</th>\n",
       "      <th colspan=\"2\" halign=\"left\">-100</th>\n",
       "      <th colspan=\"2\" halign=\"left\">-99</th>\n",
       "      <th colspan=\"2\" halign=\"left\">-98</th>\n",
       "      <th colspan=\"2\" halign=\"left\">-97</th>\n",
       "      <th colspan=\"2\" halign=\"left\">-96</th>\n",
       "      <th>...</th>\n",
       "      <th colspan=\"2\" halign=\"left\">-4</th>\n",
       "      <th colspan=\"2\" halign=\"left\">-3</th>\n",
       "      <th colspan=\"2\" halign=\"left\">-2</th>\n",
       "      <th colspan=\"2\" halign=\"left\">-1</th>\n",
       "      <th colspan=\"2\" halign=\"left\">now</th>\n",
       "    </tr>\n",
       "    <tr>\n",
       "      <th>State</th>\n",
       "      <th>xx</th>\n",
       "      <th>yy</th>\n",
       "      <th>xx</th>\n",
       "      <th>yy</th>\n",
       "      <th>xx</th>\n",
       "      <th>yy</th>\n",
       "      <th>xx</th>\n",
       "      <th>yy</th>\n",
       "      <th>xx</th>\n",
       "      <th>yy</th>\n",
       "      <th>...</th>\n",
       "      <th>xx</th>\n",
       "      <th>yy</th>\n",
       "      <th>xx</th>\n",
       "      <th>yy</th>\n",
       "      <th>xx</th>\n",
       "      <th>yy</th>\n",
       "      <th>xx</th>\n",
       "      <th>yy</th>\n",
       "      <th>xx</th>\n",
       "      <th>yy</th>\n",
       "    </tr>\n",
       "  </thead>\n",
       "  <tbody>\n",
       "    <tr>\n",
       "      <th>0</th>\n",
       "      <td>0.000000</td>\n",
       "      <td>0.000000</td>\n",
       "      <td>0.000100</td>\n",
       "      <td>0.083237</td>\n",
       "      <td>0.000200</td>\n",
       "      <td>0.165896</td>\n",
       "      <td>0.000300</td>\n",
       "      <td>0.247404</td>\n",
       "      <td>0.000400</td>\n",
       "      <td>0.327195</td>\n",
       "      <td>...</td>\n",
       "      <td>0.009600</td>\n",
       "      <td>0.989358</td>\n",
       "      <td>0.009700</td>\n",
       "      <td>0.973814</td>\n",
       "      <td>0.009800</td>\n",
       "      <td>0.951511</td>\n",
       "      <td>0.009900</td>\n",
       "      <td>0.922604</td>\n",
       "      <td>0.002170</td>\n",
       "      <td>0.889095</td>\n",
       "    </tr>\n",
       "    <tr>\n",
       "      <th>1</th>\n",
       "      <td>0.000100</td>\n",
       "      <td>0.083237</td>\n",
       "      <td>0.000200</td>\n",
       "      <td>0.165896</td>\n",
       "      <td>0.000300</td>\n",
       "      <td>0.247404</td>\n",
       "      <td>0.000400</td>\n",
       "      <td>0.327195</td>\n",
       "      <td>0.000500</td>\n",
       "      <td>0.404715</td>\n",
       "      <td>...</td>\n",
       "      <td>0.009700</td>\n",
       "      <td>0.973814</td>\n",
       "      <td>0.009800</td>\n",
       "      <td>0.951511</td>\n",
       "      <td>0.009900</td>\n",
       "      <td>0.922604</td>\n",
       "      <td>0.002170</td>\n",
       "      <td>0.889095</td>\n",
       "      <td>0.005296</td>\n",
       "      <td>0.847313</td>\n",
       "    </tr>\n",
       "    <tr>\n",
       "      <th>2</th>\n",
       "      <td>0.000200</td>\n",
       "      <td>0.165896</td>\n",
       "      <td>0.000300</td>\n",
       "      <td>0.247404</td>\n",
       "      <td>0.000400</td>\n",
       "      <td>0.327195</td>\n",
       "      <td>0.000500</td>\n",
       "      <td>0.404715</td>\n",
       "      <td>0.000600</td>\n",
       "      <td>0.479426</td>\n",
       "      <td>...</td>\n",
       "      <td>0.009800</td>\n",
       "      <td>0.951511</td>\n",
       "      <td>0.009900</td>\n",
       "      <td>0.922604</td>\n",
       "      <td>0.002170</td>\n",
       "      <td>0.889095</td>\n",
       "      <td>0.005296</td>\n",
       "      <td>0.847313</td>\n",
       "      <td>0.008771</td>\n",
       "      <td>0.800230</td>\n",
       "    </tr>\n",
       "    <tr>\n",
       "      <th>3</th>\n",
       "      <td>0.000300</td>\n",
       "      <td>0.247404</td>\n",
       "      <td>0.000400</td>\n",
       "      <td>0.327195</td>\n",
       "      <td>0.000500</td>\n",
       "      <td>0.404715</td>\n",
       "      <td>0.000600</td>\n",
       "      <td>0.479426</td>\n",
       "      <td>0.000700</td>\n",
       "      <td>0.550809</td>\n",
       "      <td>...</td>\n",
       "      <td>0.009900</td>\n",
       "      <td>0.922604</td>\n",
       "      <td>0.002170</td>\n",
       "      <td>0.889095</td>\n",
       "      <td>0.005296</td>\n",
       "      <td>0.847313</td>\n",
       "      <td>0.008771</td>\n",
       "      <td>0.800230</td>\n",
       "      <td>0.012055</td>\n",
       "      <td>0.747439</td>\n",
       "    </tr>\n",
       "    <tr>\n",
       "      <th>4</th>\n",
       "      <td>0.000400</td>\n",
       "      <td>0.327195</td>\n",
       "      <td>0.000500</td>\n",
       "      <td>0.404715</td>\n",
       "      <td>0.000600</td>\n",
       "      <td>0.479426</td>\n",
       "      <td>0.000700</td>\n",
       "      <td>0.550809</td>\n",
       "      <td>0.000800</td>\n",
       "      <td>0.618370</td>\n",
       "      <td>...</td>\n",
       "      <td>0.002170</td>\n",
       "      <td>0.889095</td>\n",
       "      <td>0.005296</td>\n",
       "      <td>0.847313</td>\n",
       "      <td>0.008771</td>\n",
       "      <td>0.800230</td>\n",
       "      <td>0.012055</td>\n",
       "      <td>0.747439</td>\n",
       "      <td>0.013094</td>\n",
       "      <td>0.686739</td>\n",
       "    </tr>\n",
       "    <tr>\n",
       "      <th>...</th>\n",
       "      <td>...</td>\n",
       "      <td>...</td>\n",
       "      <td>...</td>\n",
       "      <td>...</td>\n",
       "      <td>...</td>\n",
       "      <td>...</td>\n",
       "      <td>...</td>\n",
       "      <td>...</td>\n",
       "      <td>...</td>\n",
       "      <td>...</td>\n",
       "      <td>...</td>\n",
       "      <td>...</td>\n",
       "      <td>...</td>\n",
       "      <td>...</td>\n",
       "      <td>...</td>\n",
       "      <td>...</td>\n",
       "      <td>...</td>\n",
       "      <td>...</td>\n",
       "      <td>...</td>\n",
       "      <td>...</td>\n",
       "      <td>...</td>\n",
       "    </tr>\n",
       "    <tr>\n",
       "      <th>145</th>\n",
       "      <td>0.001906</td>\n",
       "      <td>-0.425536</td>\n",
       "      <td>-0.002890</td>\n",
       "      <td>-0.349517</td>\n",
       "      <td>-0.006980</td>\n",
       "      <td>-0.267208</td>\n",
       "      <td>-0.005517</td>\n",
       "      <td>-0.192961</td>\n",
       "      <td>-0.004655</td>\n",
       "      <td>-0.114738</td>\n",
       "      <td>...</td>\n",
       "      <td>-0.002950</td>\n",
       "      <td>0.937159</td>\n",
       "      <td>-0.002446</td>\n",
       "      <td>0.957418</td>\n",
       "      <td>-0.001742</td>\n",
       "      <td>0.969700</td>\n",
       "      <td>-0.001582</td>\n",
       "      <td>0.975245</td>\n",
       "      <td>-0.002651</td>\n",
       "      <td>0.975987</td>\n",
       "    </tr>\n",
       "    <tr>\n",
       "      <th>146</th>\n",
       "      <td>-0.002890</td>\n",
       "      <td>-0.349517</td>\n",
       "      <td>-0.006980</td>\n",
       "      <td>-0.267208</td>\n",
       "      <td>-0.005517</td>\n",
       "      <td>-0.192961</td>\n",
       "      <td>-0.004655</td>\n",
       "      <td>-0.114738</td>\n",
       "      <td>-0.000986</td>\n",
       "      <td>-0.035013</td>\n",
       "      <td>...</td>\n",
       "      <td>-0.002446</td>\n",
       "      <td>0.957418</td>\n",
       "      <td>-0.001742</td>\n",
       "      <td>0.969700</td>\n",
       "      <td>-0.001582</td>\n",
       "      <td>0.975245</td>\n",
       "      <td>-0.002651</td>\n",
       "      <td>0.975987</td>\n",
       "      <td>-0.003886</td>\n",
       "      <td>0.970542</td>\n",
       "    </tr>\n",
       "    <tr>\n",
       "      <th>147</th>\n",
       "      <td>-0.006980</td>\n",
       "      <td>-0.267208</td>\n",
       "      <td>-0.005517</td>\n",
       "      <td>-0.192961</td>\n",
       "      <td>-0.004655</td>\n",
       "      <td>-0.114738</td>\n",
       "      <td>-0.000986</td>\n",
       "      <td>-0.035013</td>\n",
       "      <td>0.000407</td>\n",
       "      <td>0.044002</td>\n",
       "      <td>...</td>\n",
       "      <td>-0.001742</td>\n",
       "      <td>0.969700</td>\n",
       "      <td>-0.001582</td>\n",
       "      <td>0.975245</td>\n",
       "      <td>-0.002651</td>\n",
       "      <td>0.975987</td>\n",
       "      <td>-0.003886</td>\n",
       "      <td>0.970542</td>\n",
       "      <td>-0.002481</td>\n",
       "      <td>0.959043</td>\n",
       "    </tr>\n",
       "    <tr>\n",
       "      <th>148</th>\n",
       "      <td>-0.005517</td>\n",
       "      <td>-0.192961</td>\n",
       "      <td>-0.004655</td>\n",
       "      <td>-0.114738</td>\n",
       "      <td>-0.000986</td>\n",
       "      <td>-0.035013</td>\n",
       "      <td>0.000407</td>\n",
       "      <td>0.044002</td>\n",
       "      <td>0.006503</td>\n",
       "      <td>0.128835</td>\n",
       "      <td>...</td>\n",
       "      <td>-0.001582</td>\n",
       "      <td>0.975245</td>\n",
       "      <td>-0.002651</td>\n",
       "      <td>0.975987</td>\n",
       "      <td>-0.003886</td>\n",
       "      <td>0.970542</td>\n",
       "      <td>-0.002481</td>\n",
       "      <td>0.959043</td>\n",
       "      <td>-0.001390</td>\n",
       "      <td>0.939601</td>\n",
       "    </tr>\n",
       "    <tr>\n",
       "      <th>149</th>\n",
       "      <td>-0.004655</td>\n",
       "      <td>-0.114738</td>\n",
       "      <td>-0.000986</td>\n",
       "      <td>-0.035013</td>\n",
       "      <td>0.000407</td>\n",
       "      <td>0.044002</td>\n",
       "      <td>0.006503</td>\n",
       "      <td>0.128835</td>\n",
       "      <td>0.004154</td>\n",
       "      <td>0.208450</td>\n",
       "      <td>...</td>\n",
       "      <td>-0.002651</td>\n",
       "      <td>0.975987</td>\n",
       "      <td>-0.003886</td>\n",
       "      <td>0.970542</td>\n",
       "      <td>-0.002481</td>\n",
       "      <td>0.959043</td>\n",
       "      <td>-0.001390</td>\n",
       "      <td>0.939601</td>\n",
       "      <td>-0.002599</td>\n",
       "      <td>0.912022</td>\n",
       "    </tr>\n",
       "  </tbody>\n",
       "</table>\n",
       "<p>150 rows × 202 columns</p>\n",
       "</div>"
      ],
      "text/plain": [
       "Past       -100                 -99                 -98                 -97  \\\n",
       "State        xx        yy        xx        yy        xx        yy        xx   \n",
       "0      0.000000  0.000000  0.000100  0.083237  0.000200  0.165896  0.000300   \n",
       "1      0.000100  0.083237  0.000200  0.165896  0.000300  0.247404  0.000400   \n",
       "2      0.000200  0.165896  0.000300  0.247404  0.000400  0.327195  0.000500   \n",
       "3      0.000300  0.247404  0.000400  0.327195  0.000500  0.404715  0.000600   \n",
       "4      0.000400  0.327195  0.000500  0.404715  0.000600  0.479426  0.000700   \n",
       "..          ...       ...       ...       ...       ...       ...       ...   \n",
       "145    0.001906 -0.425536 -0.002890 -0.349517 -0.006980 -0.267208 -0.005517   \n",
       "146   -0.002890 -0.349517 -0.006980 -0.267208 -0.005517 -0.192961 -0.004655   \n",
       "147   -0.006980 -0.267208 -0.005517 -0.192961 -0.004655 -0.114738 -0.000986   \n",
       "148   -0.005517 -0.192961 -0.004655 -0.114738 -0.000986 -0.035013  0.000407   \n",
       "149   -0.004655 -0.114738 -0.000986 -0.035013  0.000407  0.044002  0.006503   \n",
       "\n",
       "Past                  -96            ...        -4                  -3  \\\n",
       "State        yy        xx        yy  ...        xx        yy        xx   \n",
       "0      0.247404  0.000400  0.327195  ...  0.009600  0.989358  0.009700   \n",
       "1      0.327195  0.000500  0.404715  ...  0.009700  0.973814  0.009800   \n",
       "2      0.404715  0.000600  0.479426  ...  0.009800  0.951511  0.009900   \n",
       "3      0.479426  0.000700  0.550809  ...  0.009900  0.922604  0.002170   \n",
       "4      0.550809  0.000800  0.618370  ...  0.002170  0.889095  0.005296   \n",
       "..          ...       ...       ...  ...       ...       ...       ...   \n",
       "145   -0.192961 -0.004655 -0.114738  ... -0.002950  0.937159 -0.002446   \n",
       "146   -0.114738 -0.000986 -0.035013  ... -0.002446  0.957418 -0.001742   \n",
       "147   -0.035013  0.000407  0.044002  ... -0.001742  0.969700 -0.001582   \n",
       "148    0.044002  0.006503  0.128835  ... -0.001582  0.975245 -0.002651   \n",
       "149    0.128835  0.004154  0.208450  ... -0.002651  0.975987 -0.003886   \n",
       "\n",
       "Past                   -2                  -1                 now            \n",
       "State        yy        xx        yy        xx        yy        xx        yy  \n",
       "0      0.973814  0.009800  0.951511  0.009900  0.922604  0.002170  0.889095  \n",
       "1      0.951511  0.009900  0.922604  0.002170  0.889095  0.005296  0.847313  \n",
       "2      0.922604  0.002170  0.889095  0.005296  0.847313  0.008771  0.800230  \n",
       "3      0.889095  0.005296  0.847313  0.008771  0.800230  0.012055  0.747439  \n",
       "4      0.847313  0.008771  0.800230  0.012055  0.747439  0.013094  0.686739  \n",
       "..          ...       ...       ...       ...       ...       ...       ...  \n",
       "145    0.957418 -0.001742  0.969700 -0.001582  0.975245 -0.002651  0.975987  \n",
       "146    0.969700 -0.001582  0.975245 -0.002651  0.975987 -0.003886  0.970542  \n",
       "147    0.975245 -0.002651  0.975987 -0.003886  0.970542 -0.002481  0.959043  \n",
       "148    0.975987 -0.003886  0.970542 -0.002481  0.959043 -0.001390  0.939601  \n",
       "149    0.970542 -0.002481  0.959043 -0.001390  0.939601 -0.002599  0.912022  \n",
       "\n",
       "[150 rows x 202 columns]"
      ]
     },
     "execution_count": 18,
     "metadata": {},
     "output_type": "execute_result"
    }
   ],
   "source": [
    "nMax = 250\n",
    "\n",
    "data = []\n",
    "for x in np.arange(0,nMax):\n",
    "    if x<nPast:\n",
    "        y = A*np.sin(float(x)*(2*np.pi)/T)\n",
    "        x = x/nPoints\n",
    "    else:\n",
    "        y = 0\n",
    "        x = 0\n",
    "    data.append([x,y])\n",
    "data = np.array(data)\n",
    "\n",
    "past = data[0:int(nPast),:]\n",
    "past = np.reshape(past,(1, nCoords*nPast),order='C')\n",
    "\n",
    "test = pd.DataFrame(past, columns=index)\n",
    "test.loc[0,('now','xx')] = 0\n",
    "test.loc[0,('now','yy')] = 0\n",
    "\n",
    "for i in np.arange(0,int(nMax-nPast)):\n",
    "    test.loc[i,('now','xx')] = model.predict(test.iloc[i:i+1,:].drop('now',axis=1))[0,0]\n",
    "    test.loc[i,('now','yy')] = model.predict(test.iloc[i:i+1,:].drop('now',axis=1))[0,1]\n",
    "    if i != int(nMax-nPast-1):\n",
    "        test.loc[i+1,-nPast:-1] = test.iloc[i,:].shift(-nCoords)\n",
    "test"
   ]
  },
  {
   "cell_type": "code",
   "execution_count": 19,
   "metadata": {},
   "outputs": [
    {
     "data": {
      "text/plain": [
       "0      0.889095\n",
       "1      0.847313\n",
       "2      0.800230\n",
       "3      0.747439\n",
       "4      0.686739\n",
       "         ...   \n",
       "145    0.975987\n",
       "146    0.970542\n",
       "147    0.959043\n",
       "148    0.939601\n",
       "149    0.912022\n",
       "Name: (now, yy), Length: 150, dtype: float64"
      ]
     },
     "execution_count": 19,
     "metadata": {},
     "output_type": "execute_result"
    },
    {
     "data": {
      "text/plain": [
       "<matplotlib.collections.PathCollection at 0x20e366f2448>"
      ]
     },
     "execution_count": 19,
     "metadata": {},
     "output_type": "execute_result"
    }
   ],
   "source": [
    "test[('now','yy')]\n",
    "\n",
    "%matplotlib qt\n",
    "plt.scatter(test[('now','xx')],test[('now','yy')])"
   ]
  },
  {
   "cell_type": "markdown",
   "metadata": {},
   "source": [
    "____"
   ]
  },
  {
   "cell_type": "markdown",
   "metadata": {
    "colab_type": "text",
    "id": "vgGQuV-yqYZH"
   },
   "source": [
    "## Questions to consider\n",
    "\n",
    "* How well does your ANN predict beyond the range of data it was trained on?\n",
    "\n",
    "See the Phase 1 assignment description for additional guidance."
   ]
  },
  {
   "cell_type": "markdown",
   "metadata": {},
   "source": [
    "____"
   ]
  },
  {
   "cell_type": "markdown",
   "metadata": {},
   "source": [
    "## Copyright & license details"
   ]
  },
  {
   "cell_type": "code",
   "execution_count": null,
   "metadata": {},
   "outputs": [],
   "source": []
  },
  {
   "cell_type": "code",
   "execution_count": null,
   "metadata": {},
   "outputs": [],
   "source": []
  },
  {
   "cell_type": "code",
   "execution_count": null,
   "metadata": {},
   "outputs": [],
   "source": []
  },
  {
   "cell_type": "code",
   "execution_count": null,
   "metadata": {},
   "outputs": [],
   "source": []
  },
  {
   "cell_type": "code",
   "execution_count": null,
   "metadata": {},
   "outputs": [],
   "source": []
  }
 ],
 "metadata": {
  "colab": {
   "collapsed_sections": [],
   "name": "regression.ipynb",
   "private_outputs": true,
   "provenance": [],
   "toc_visible": true
  },
  "kernelspec": {
   "display_name": "Python 3",
   "language": "python",
   "name": "python3"
  },
  "language_info": {
   "codemirror_mode": {
    "name": "ipython",
    "version": 3
   },
   "file_extension": ".py",
   "mimetype": "text/x-python",
   "name": "python",
   "nbconvert_exporter": "python",
   "pygments_lexer": "ipython3",
   "version": "3.7.6"
  }
 },
 "nbformat": 4,
 "nbformat_minor": 1
}
