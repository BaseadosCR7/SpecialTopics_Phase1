{
 "cells": [
  {
   "cell_type": "code",
   "execution_count": 1,
   "metadata": {},
   "outputs": [],
   "source": [
    "from __future__ import absolute_import, division, print_function, unicode_literals\n",
    "\n",
    "import pathlib\n",
    "\n",
    "import matplotlib.pyplot as plt\n",
    "import numpy as np\n",
    "from scipy import stats\n",
    "import pandas as pd\n",
    "import seaborn as sns\n",
    "import time"
   ]
  },
  {
   "cell_type": "code",
   "execution_count": 2,
   "metadata": {
    "scrolled": true
   },
   "outputs": [
    {
     "name": "stderr",
     "output_type": "stream",
     "text": [
      "C:\\Users\\pedro\\Miniconda3\\envs\\specialTopics\\lib\\site-packages\\tensorflow\\python\\framework\\dtypes.py:526: FutureWarning: Passing (type, 1) or '1type' as a synonym of type is deprecated; in a future version of numpy, it will be understood as (type, (1,)) / '(1,)type'.\n",
      "  _np_qint8 = np.dtype([(\"qint8\", np.int8, 1)])\n",
      "C:\\Users\\pedro\\Miniconda3\\envs\\specialTopics\\lib\\site-packages\\tensorflow\\python\\framework\\dtypes.py:527: FutureWarning: Passing (type, 1) or '1type' as a synonym of type is deprecated; in a future version of numpy, it will be understood as (type, (1,)) / '(1,)type'.\n",
      "  _np_quint8 = np.dtype([(\"quint8\", np.uint8, 1)])\n",
      "C:\\Users\\pedro\\Miniconda3\\envs\\specialTopics\\lib\\site-packages\\tensorflow\\python\\framework\\dtypes.py:528: FutureWarning: Passing (type, 1) or '1type' as a synonym of type is deprecated; in a future version of numpy, it will be understood as (type, (1,)) / '(1,)type'.\n",
      "  _np_qint16 = np.dtype([(\"qint16\", np.int16, 1)])\n",
      "C:\\Users\\pedro\\Miniconda3\\envs\\specialTopics\\lib\\site-packages\\tensorflow\\python\\framework\\dtypes.py:529: FutureWarning: Passing (type, 1) or '1type' as a synonym of type is deprecated; in a future version of numpy, it will be understood as (type, (1,)) / '(1,)type'.\n",
      "  _np_quint16 = np.dtype([(\"quint16\", np.uint16, 1)])\n",
      "C:\\Users\\pedro\\Miniconda3\\envs\\specialTopics\\lib\\site-packages\\tensorflow\\python\\framework\\dtypes.py:530: FutureWarning: Passing (type, 1) or '1type' as a synonym of type is deprecated; in a future version of numpy, it will be understood as (type, (1,)) / '(1,)type'.\n",
      "  _np_qint32 = np.dtype([(\"qint32\", np.int32, 1)])\n",
      "C:\\Users\\pedro\\Miniconda3\\envs\\specialTopics\\lib\\site-packages\\tensorflow\\python\\framework\\dtypes.py:535: FutureWarning: Passing (type, 1) or '1type' as a synonym of type is deprecated; in a future version of numpy, it will be understood as (type, (1,)) / '(1,)type'.\n",
      "  np_resource = np.dtype([(\"resource\", np.ubyte, 1)])\n"
     ]
    },
    {
     "name": "stdout",
     "output_type": "stream",
     "text": [
      "1.13.1\n"
     ]
    }
   ],
   "source": [
    "import tensorflow as tf\n",
    "\n",
    "from tensorflow import keras\n",
    "from tensorflow.keras import layers\n",
    "\n",
    "print(tf.__version__)\n",
    "\n",
    "from IPython.core.interactiveshell import InteractiveShell\n",
    "\n",
    "InteractiveShell.ast_node_interactivity = \"all\"\n",
    "\n",
    "from numpy.random import seed\n",
    "seed(1)\n",
    "from tensorflow import set_random_seed\n",
    "set_random_seed(2)"
   ]
  },
  {
   "cell_type": "code",
   "execution_count": 3,
   "metadata": {},
   "outputs": [
    {
     "data": {
      "text/plain": [
       "0      5\n",
       "1      0\n",
       "2      0\n",
       "3      0\n",
       "4      0\n",
       "      ..\n",
       "230    0\n",
       "231    0\n",
       "232    0\n",
       "233    0\n",
       "234    0\n",
       "Name: flag, Length: 235, dtype: int64"
      ]
     },
     "execution_count": 3,
     "metadata": {},
     "output_type": "execute_result"
    },
    {
     "data": {
      "text/plain": [
       "-10    0.555680\n",
       "-9     0.557119\n",
       "-8     0.558552\n",
       "-7     0.559979\n",
       "-6     0.561401\n",
       "-5     0.562818\n",
       "-4     0.564230\n",
       "-3     0.565636\n",
       "-2     0.567037\n",
       "-1     0.568433\n",
       "y      0.569824\n",
       "e      0.395000\n",
       "Name: 234, dtype: float64"
      ]
     },
     "execution_count": 3,
     "metadata": {},
     "output_type": "execute_result"
    },
    {
     "data": {
      "text/plain": [
       "0          1\n",
       "1          0\n",
       "2          0\n",
       "3          0\n",
       "4          0\n",
       "          ..\n",
       "1195931    0\n",
       "1195932    0\n",
       "1195933    0\n",
       "1195934    0\n",
       "1195935    0\n",
       "Name: flag, Length: 1195936, dtype: int64"
      ]
     },
     "execution_count": 3,
     "metadata": {},
     "output_type": "execute_result"
    }
   ],
   "source": [
    "# dataset\n",
    "dataset_path = \"orbitKepl.dat\"\n",
    "nPast = 10\n",
    "columns = np.append(np.arange(-nPast,0),['y','e','flag'])\n",
    "\n",
    "raw_dataset = pd.read_csv(dataset_path, names=columns, comment='\\t', sep=\"\\t\")\n",
    "dataset = raw_dataset.copy()\n",
    "flag = dataset.pop('flag')\n",
    "\n",
    "# excluded\n",
    "excluded_path = \"orbitKeplOvelha.dat\"\n",
    "columns = np.append(np.arange(-nPast,0),['y','e','flag'])\n",
    "raw_excluded = pd.read_csv(excluded_path, names=columns, comment='\\t', sep=\"\\t\")\n",
    "excluded = raw_excluded.copy()\n",
    "excluded.pop('flag')\n",
    "excluded.iloc[-1]\n",
    "flag"
   ]
  },
  {
   "cell_type": "code",
   "execution_count": 4,
   "metadata": {},
   "outputs": [],
   "source": [
    "train_dataset = dataset.sample(frac=0.8,random_state=1)\n",
    "test_dataset = dataset.drop(train_dataset.index)\n",
    "validation_dataset = train_dataset.sample(frac=0.2,random_state=1)\n",
    "train_dataset = train_dataset.drop(validation_dataset.index)\n",
    "\n",
    "# test_dataset.tail()"
   ]
  },
  {
   "cell_type": "code",
   "execution_count": 5,
   "metadata": {},
   "outputs": [
    {
     "data": {
      "text/html": [
       "<div>\n",
       "<style scoped>\n",
       "    .dataframe tbody tr th:only-of-type {\n",
       "        vertical-align: middle;\n",
       "    }\n",
       "\n",
       "    .dataframe tbody tr th {\n",
       "        vertical-align: top;\n",
       "    }\n",
       "\n",
       "    .dataframe thead th {\n",
       "        text-align: right;\n",
       "    }\n",
       "</style>\n",
       "<table border=\"1\" class=\"dataframe\">\n",
       "  <thead>\n",
       "    <tr style=\"text-align: right;\">\n",
       "      <th></th>\n",
       "      <th>-10</th>\n",
       "      <th>-9</th>\n",
       "      <th>-8</th>\n",
       "      <th>-7</th>\n",
       "      <th>-6</th>\n",
       "      <th>-5</th>\n",
       "      <th>-4</th>\n",
       "      <th>-3</th>\n",
       "      <th>-2</th>\n",
       "      <th>-1</th>\n",
       "      <th>e</th>\n",
       "    </tr>\n",
       "  </thead>\n",
       "  <tbody>\n",
       "    <tr>\n",
       "      <th>361745</th>\n",
       "      <td>0.081957</td>\n",
       "      <td>0.085061</td>\n",
       "      <td>0.088161</td>\n",
       "      <td>0.091256</td>\n",
       "      <td>0.094348</td>\n",
       "      <td>0.097435</td>\n",
       "      <td>0.100518</td>\n",
       "      <td>0.103596</td>\n",
       "      <td>0.106669</td>\n",
       "      <td>0.109738</td>\n",
       "      <td>0.330</td>\n",
       "    </tr>\n",
       "    <tr>\n",
       "      <th>1067485</th>\n",
       "      <td>0.107155</td>\n",
       "      <td>0.110633</td>\n",
       "      <td>0.114099</td>\n",
       "      <td>0.117554</td>\n",
       "      <td>0.120996</td>\n",
       "      <td>0.124425</td>\n",
       "      <td>0.127842</td>\n",
       "      <td>0.131245</td>\n",
       "      <td>0.134636</td>\n",
       "      <td>0.138012</td>\n",
       "      <td>0.790</td>\n",
       "    </tr>\n",
       "    <tr>\n",
       "      <th>163904</th>\n",
       "      <td>0.592241</td>\n",
       "      <td>0.593944</td>\n",
       "      <td>0.595641</td>\n",
       "      <td>0.597334</td>\n",
       "      <td>0.599023</td>\n",
       "      <td>0.600707</td>\n",
       "      <td>0.602387</td>\n",
       "      <td>0.604062</td>\n",
       "      <td>0.605732</td>\n",
       "      <td>0.607399</td>\n",
       "      <td>0.245</td>\n",
       "    </tr>\n",
       "    <tr>\n",
       "      <th>201862</th>\n",
       "      <td>0.491372</td>\n",
       "      <td>0.493332</td>\n",
       "      <td>0.495286</td>\n",
       "      <td>0.497234</td>\n",
       "      <td>0.499175</td>\n",
       "      <td>0.501110</td>\n",
       "      <td>0.503040</td>\n",
       "      <td>0.504963</td>\n",
       "      <td>0.506880</td>\n",
       "      <td>0.508791</td>\n",
       "      <td>0.260</td>\n",
       "    </tr>\n",
       "    <tr>\n",
       "      <th>298540</th>\n",
       "      <td>0.340870</td>\n",
       "      <td>0.343282</td>\n",
       "      <td>0.345686</td>\n",
       "      <td>0.348081</td>\n",
       "      <td>0.350468</td>\n",
       "      <td>0.352847</td>\n",
       "      <td>0.355217</td>\n",
       "      <td>0.357579</td>\n",
       "      <td>0.359933</td>\n",
       "      <td>0.362278</td>\n",
       "      <td>0.300</td>\n",
       "    </tr>\n",
       "    <tr>\n",
       "      <th>...</th>\n",
       "      <td>...</td>\n",
       "      <td>...</td>\n",
       "      <td>...</td>\n",
       "      <td>...</td>\n",
       "      <td>...</td>\n",
       "      <td>...</td>\n",
       "      <td>...</td>\n",
       "      <td>...</td>\n",
       "      <td>...</td>\n",
       "      <td>...</td>\n",
       "      <td>...</td>\n",
       "    </tr>\n",
       "    <tr>\n",
       "      <th>867991</th>\n",
       "      <td>0.075157</td>\n",
       "      <td>0.078580</td>\n",
       "      <td>0.081995</td>\n",
       "      <td>0.085403</td>\n",
       "      <td>0.088803</td>\n",
       "      <td>0.092195</td>\n",
       "      <td>0.095580</td>\n",
       "      <td>0.098956</td>\n",
       "      <td>0.102323</td>\n",
       "      <td>0.105681</td>\n",
       "      <td>0.635</td>\n",
       "    </tr>\n",
       "    <tr>\n",
       "      <th>36088</th>\n",
       "      <td>0.850062</td>\n",
       "      <td>0.851444</td>\n",
       "      <td>0.852825</td>\n",
       "      <td>0.854204</td>\n",
       "      <td>0.855582</td>\n",
       "      <td>0.856959</td>\n",
       "      <td>0.858334</td>\n",
       "      <td>0.859708</td>\n",
       "      <td>0.861081</td>\n",
       "      <td>0.862452</td>\n",
       "      <td>0.205</td>\n",
       "    </tr>\n",
       "    <tr>\n",
       "      <th>347298</th>\n",
       "      <td>0.553728</td>\n",
       "      <td>0.555342</td>\n",
       "      <td>0.556950</td>\n",
       "      <td>0.558553</td>\n",
       "      <td>0.560150</td>\n",
       "      <td>0.561742</td>\n",
       "      <td>0.563329</td>\n",
       "      <td>0.564911</td>\n",
       "      <td>0.566487</td>\n",
       "      <td>0.568058</td>\n",
       "      <td>0.320</td>\n",
       "    </tr>\n",
       "    <tr>\n",
       "      <th>266914</th>\n",
       "      <td>0.245676</td>\n",
       "      <td>0.248398</td>\n",
       "      <td>0.251112</td>\n",
       "      <td>0.253818</td>\n",
       "      <td>0.256517</td>\n",
       "      <td>0.259207</td>\n",
       "      <td>0.261890</td>\n",
       "      <td>0.264565</td>\n",
       "      <td>0.267232</td>\n",
       "      <td>0.269891</td>\n",
       "      <td>0.285</td>\n",
       "    </tr>\n",
       "    <tr>\n",
       "      <th>1163884</th>\n",
       "      <td>0.207505</td>\n",
       "      <td>0.210562</td>\n",
       "      <td>0.213600</td>\n",
       "      <td>0.216619</td>\n",
       "      <td>0.219619</td>\n",
       "      <td>0.222601</td>\n",
       "      <td>0.225565</td>\n",
       "      <td>0.228509</td>\n",
       "      <td>0.231435</td>\n",
       "      <td>0.234342</td>\n",
       "      <td>0.875</td>\n",
       "    </tr>\n",
       "  </tbody>\n",
       "</table>\n",
       "<p>765399 rows × 11 columns</p>\n",
       "</div>"
      ],
      "text/plain": [
       "              -10        -9        -8        -7        -6        -5        -4  \\\n",
       "361745   0.081957  0.085061  0.088161  0.091256  0.094348  0.097435  0.100518   \n",
       "1067485  0.107155  0.110633  0.114099  0.117554  0.120996  0.124425  0.127842   \n",
       "163904   0.592241  0.593944  0.595641  0.597334  0.599023  0.600707  0.602387   \n",
       "201862   0.491372  0.493332  0.495286  0.497234  0.499175  0.501110  0.503040   \n",
       "298540   0.340870  0.343282  0.345686  0.348081  0.350468  0.352847  0.355217   \n",
       "...           ...       ...       ...       ...       ...       ...       ...   \n",
       "867991   0.075157  0.078580  0.081995  0.085403  0.088803  0.092195  0.095580   \n",
       "36088    0.850062  0.851444  0.852825  0.854204  0.855582  0.856959  0.858334   \n",
       "347298   0.553728  0.555342  0.556950  0.558553  0.560150  0.561742  0.563329   \n",
       "266914   0.245676  0.248398  0.251112  0.253818  0.256517  0.259207  0.261890   \n",
       "1163884  0.207505  0.210562  0.213600  0.216619  0.219619  0.222601  0.225565   \n",
       "\n",
       "               -3        -2        -1      e  \n",
       "361745   0.103596  0.106669  0.109738  0.330  \n",
       "1067485  0.131245  0.134636  0.138012  0.790  \n",
       "163904   0.604062  0.605732  0.607399  0.245  \n",
       "201862   0.504963  0.506880  0.508791  0.260  \n",
       "298540   0.357579  0.359933  0.362278  0.300  \n",
       "...           ...       ...       ...    ...  \n",
       "867991   0.098956  0.102323  0.105681  0.635  \n",
       "36088    0.859708  0.861081  0.862452  0.205  \n",
       "347298   0.564911  0.566487  0.568058  0.320  \n",
       "266914   0.264565  0.267232  0.269891  0.285  \n",
       "1163884  0.228509  0.231435  0.234342  0.875  \n",
       "\n",
       "[765399 rows x 11 columns]"
      ]
     },
     "execution_count": 5,
     "metadata": {},
     "output_type": "execute_result"
    },
    {
     "data": {
      "text/plain": [
       "361745     0.112801\n",
       "1067485    0.141375\n",
       "163904     0.609061\n",
       "201862     0.510696\n",
       "298540     0.364615\n",
       "             ...   \n",
       "867991     0.109030\n",
       "36088      0.863823\n",
       "347298     0.569624\n",
       "266914     0.272542\n",
       "1163884    0.237230\n",
       "Name: y, Length: 765399, dtype: float64"
      ]
     },
     "execution_count": 5,
     "metadata": {},
     "output_type": "execute_result"
    },
    {
     "data": {
      "text/html": [
       "<div>\n",
       "<style scoped>\n",
       "    .dataframe tbody tr th:only-of-type {\n",
       "        vertical-align: middle;\n",
       "    }\n",
       "\n",
       "    .dataframe tbody tr th {\n",
       "        vertical-align: top;\n",
       "    }\n",
       "\n",
       "    .dataframe thead th {\n",
       "        text-align: right;\n",
       "    }\n",
       "</style>\n",
       "<table border=\"1\" class=\"dataframe\">\n",
       "  <thead>\n",
       "    <tr style=\"text-align: right;\">\n",
       "      <th></th>\n",
       "      <th>-10</th>\n",
       "      <th>-9</th>\n",
       "      <th>-8</th>\n",
       "      <th>-7</th>\n",
       "      <th>-6</th>\n",
       "      <th>-5</th>\n",
       "      <th>-4</th>\n",
       "      <th>-3</th>\n",
       "      <th>-2</th>\n",
       "      <th>-1</th>\n",
       "      <th>e</th>\n",
       "    </tr>\n",
       "  </thead>\n",
       "  <tbody>\n",
       "    <tr>\n",
       "      <th>228386</th>\n",
       "      <td>0.506165</td>\n",
       "      <td>0.508055</td>\n",
       "      <td>0.509939</td>\n",
       "      <td>0.511816</td>\n",
       "      <td>0.513688</td>\n",
       "      <td>0.515554</td>\n",
       "      <td>0.517414</td>\n",
       "      <td>0.519268</td>\n",
       "      <td>0.521116</td>\n",
       "      <td>0.522958</td>\n",
       "      <td>0.270</td>\n",
       "    </tr>\n",
       "    <tr>\n",
       "      <th>110443</th>\n",
       "      <td>0.764013</td>\n",
       "      <td>0.765396</td>\n",
       "      <td>0.766777</td>\n",
       "      <td>0.768155</td>\n",
       "      <td>0.769531</td>\n",
       "      <td>0.770905</td>\n",
       "      <td>0.772276</td>\n",
       "      <td>0.773646</td>\n",
       "      <td>0.775013</td>\n",
       "      <td>0.776379</td>\n",
       "      <td>0.230</td>\n",
       "    </tr>\n",
       "    <tr>\n",
       "      <th>995215</th>\n",
       "      <td>0.025221</td>\n",
       "      <td>0.028816</td>\n",
       "      <td>0.032408</td>\n",
       "      <td>0.035997</td>\n",
       "      <td>0.039582</td>\n",
       "      <td>0.043162</td>\n",
       "      <td>0.046738</td>\n",
       "      <td>0.050309</td>\n",
       "      <td>0.053874</td>\n",
       "      <td>0.057434</td>\n",
       "      <td>0.735</td>\n",
       "    </tr>\n",
       "    <tr>\n",
       "      <th>963606</th>\n",
       "      <td>0.142786</td>\n",
       "      <td>0.146072</td>\n",
       "      <td>0.149345</td>\n",
       "      <td>0.152604</td>\n",
       "      <td>0.155850</td>\n",
       "      <td>0.159083</td>\n",
       "      <td>0.162302</td>\n",
       "      <td>0.165507</td>\n",
       "      <td>0.168698</td>\n",
       "      <td>0.171875</td>\n",
       "      <td>0.710</td>\n",
       "    </tr>\n",
       "    <tr>\n",
       "      <th>1157419</th>\n",
       "      <td>0.370190</td>\n",
       "      <td>0.372120</td>\n",
       "      <td>0.374036</td>\n",
       "      <td>0.375938</td>\n",
       "      <td>0.377827</td>\n",
       "      <td>0.379702</td>\n",
       "      <td>0.381563</td>\n",
       "      <td>0.383412</td>\n",
       "      <td>0.385247</td>\n",
       "      <td>0.387069</td>\n",
       "      <td>0.870</td>\n",
       "    </tr>\n",
       "    <tr>\n",
       "      <th>...</th>\n",
       "      <td>...</td>\n",
       "      <td>...</td>\n",
       "      <td>...</td>\n",
       "      <td>...</td>\n",
       "      <td>...</td>\n",
       "      <td>...</td>\n",
       "      <td>...</td>\n",
       "      <td>...</td>\n",
       "      <td>...</td>\n",
       "      <td>...</td>\n",
       "      <td>...</td>\n",
       "    </tr>\n",
       "    <tr>\n",
       "      <th>918658</th>\n",
       "      <td>0.348661</td>\n",
       "      <td>0.350818</td>\n",
       "      <td>0.352962</td>\n",
       "      <td>0.355093</td>\n",
       "      <td>0.357210</td>\n",
       "      <td>0.359314</td>\n",
       "      <td>0.361405</td>\n",
       "      <td>0.363483</td>\n",
       "      <td>0.365548</td>\n",
       "      <td>0.367600</td>\n",
       "      <td>0.675</td>\n",
       "    </tr>\n",
       "    <tr>\n",
       "      <th>819428</th>\n",
       "      <td>0.002338</td>\n",
       "      <td>0.005800</td>\n",
       "      <td>0.009263</td>\n",
       "      <td>0.012724</td>\n",
       "      <td>0.016185</td>\n",
       "      <td>0.019644</td>\n",
       "      <td>0.023101</td>\n",
       "      <td>0.026556</td>\n",
       "      <td>0.030009</td>\n",
       "      <td>0.033459</td>\n",
       "      <td>0.600</td>\n",
       "    </tr>\n",
       "    <tr>\n",
       "      <th>731562</th>\n",
       "      <td>0.234592</td>\n",
       "      <td>0.237393</td>\n",
       "      <td>0.240181</td>\n",
       "      <td>0.242956</td>\n",
       "      <td>0.245719</td>\n",
       "      <td>0.248468</td>\n",
       "      <td>0.251204</td>\n",
       "      <td>0.253927</td>\n",
       "      <td>0.256638</td>\n",
       "      <td>0.259335</td>\n",
       "      <td>0.540</td>\n",
       "    </tr>\n",
       "    <tr>\n",
       "      <th>844011</th>\n",
       "      <td>0.307702</td>\n",
       "      <td>0.310122</td>\n",
       "      <td>0.312529</td>\n",
       "      <td>0.314922</td>\n",
       "      <td>0.317301</td>\n",
       "      <td>0.319667</td>\n",
       "      <td>0.322018</td>\n",
       "      <td>0.324356</td>\n",
       "      <td>0.326681</td>\n",
       "      <td>0.328991</td>\n",
       "      <td>0.620</td>\n",
       "    </tr>\n",
       "    <tr>\n",
       "      <th>737054</th>\n",
       "      <td>0.231252</td>\n",
       "      <td>0.234070</td>\n",
       "      <td>0.236874</td>\n",
       "      <td>0.239666</td>\n",
       "      <td>0.242444</td>\n",
       "      <td>0.245210</td>\n",
       "      <td>0.247962</td>\n",
       "      <td>0.250701</td>\n",
       "      <td>0.253428</td>\n",
       "      <td>0.256141</td>\n",
       "      <td>0.545</td>\n",
       "    </tr>\n",
       "  </tbody>\n",
       "</table>\n",
       "<p>191350 rows × 11 columns</p>\n",
       "</div>"
      ],
      "text/plain": [
       "              -10        -9        -8        -7        -6        -5        -4  \\\n",
       "228386   0.506165  0.508055  0.509939  0.511816  0.513688  0.515554  0.517414   \n",
       "110443   0.764013  0.765396  0.766777  0.768155  0.769531  0.770905  0.772276   \n",
       "995215   0.025221  0.028816  0.032408  0.035997  0.039582  0.043162  0.046738   \n",
       "963606   0.142786  0.146072  0.149345  0.152604  0.155850  0.159083  0.162302   \n",
       "1157419  0.370190  0.372120  0.374036  0.375938  0.377827  0.379702  0.381563   \n",
       "...           ...       ...       ...       ...       ...       ...       ...   \n",
       "918658   0.348661  0.350818  0.352962  0.355093  0.357210  0.359314  0.361405   \n",
       "819428   0.002338  0.005800  0.009263  0.012724  0.016185  0.019644  0.023101   \n",
       "731562   0.234592  0.237393  0.240181  0.242956  0.245719  0.248468  0.251204   \n",
       "844011   0.307702  0.310122  0.312529  0.314922  0.317301  0.319667  0.322018   \n",
       "737054   0.231252  0.234070  0.236874  0.239666  0.242444  0.245210  0.247962   \n",
       "\n",
       "               -3        -2        -1      e  \n",
       "228386   0.519268  0.521116  0.522958  0.270  \n",
       "110443   0.773646  0.775013  0.776379  0.230  \n",
       "995215   0.050309  0.053874  0.057434  0.735  \n",
       "963606   0.165507  0.168698  0.171875  0.710  \n",
       "1157419  0.383412  0.385247  0.387069  0.870  \n",
       "...           ...       ...       ...    ...  \n",
       "918658   0.363483  0.365548  0.367600  0.675  \n",
       "819428   0.026556  0.030009  0.033459  0.600  \n",
       "731562   0.253927  0.256638  0.259335  0.540  \n",
       "844011   0.324356  0.326681  0.328991  0.620  \n",
       "737054   0.250701  0.253428  0.256141  0.545  \n",
       "\n",
       "[191350 rows x 11 columns]"
      ]
     },
     "execution_count": 5,
     "metadata": {},
     "output_type": "execute_result"
    },
    {
     "data": {
      "text/plain": [
       "228386     0.524794\n",
       "110443     0.777742\n",
       "995215     0.060988\n",
       "963606     0.175037\n",
       "1157419    0.388878\n",
       "             ...   \n",
       "918658     0.369639\n",
       "819428     0.036906\n",
       "731562     0.262019\n",
       "844011     0.331289\n",
       "737054     0.258841\n",
       "Name: y, Length: 191350, dtype: float64"
      ]
     },
     "execution_count": 5,
     "metadata": {},
     "output_type": "execute_result"
    }
   ],
   "source": [
    "train_labels = train_dataset.pop('y')\n",
    "test_labels = test_dataset.pop('y')\n",
    "validation_labels = validation_dataset.pop('y')\n",
    "\n",
    "train_dataset\n",
    "train_labels\n",
    "validation_dataset\n",
    "validation_labels"
   ]
  },
  {
   "cell_type": "code",
   "execution_count": 6,
   "metadata": {},
   "outputs": [],
   "source": [
    "def build_model():\n",
    "  model = keras.Sequential([\n",
    "    layers.Dense(25, activation='relu', input_shape=[len(train_dataset.keys())], use_bias=True),\n",
    "    layers.Dense(25, activation='relu', use_bias=True),\n",
    "    layers.Dense(1, use_bias=True)\n",
    "  ])\n",
    "\n",
    "  optimizer = tf.keras.optimizers.RMSprop(0.0001)\n",
    "\n",
    "  model.compile(loss='mse',\n",
    "                optimizer='adam',\n",
    "                metrics=['mae', 'mse'])\n",
    "  return model"
   ]
  },
  {
   "cell_type": "code",
   "execution_count": 7,
   "metadata": {
    "scrolled": true
   },
   "outputs": [
    {
     "name": "stdout",
     "output_type": "stream",
     "text": [
      "WARNING:tensorflow:From C:\\Users\\pedro\\Miniconda3\\envs\\specialTopics\\lib\\site-packages\\tensorflow\\python\\ops\\resource_variable_ops.py:435: colocate_with (from tensorflow.python.framework.ops) is deprecated and will be removed in a future version.\n",
      "Instructions for updating:\n",
      "Colocations handled automatically by placer.\n",
      "WARNING:tensorflow:From C:\\Users\\pedro\\Miniconda3\\envs\\specialTopics\\lib\\site-packages\\tensorflow\\python\\keras\\utils\\losses_utils.py:170: to_float (from tensorflow.python.ops.math_ops) is deprecated and will be removed in a future version.\n",
      "Instructions for updating:\n",
      "Use tf.cast instead.\n",
      "_________________________________________________________________\n",
      "Layer (type)                 Output Shape              Param #   \n",
      "=================================================================\n",
      "dense (Dense)                (None, 25)                300       \n",
      "_________________________________________________________________\n",
      "dense_1 (Dense)              (None, 25)                650       \n",
      "_________________________________________________________________\n",
      "dense_2 (Dense)              (None, 1)                 26        \n",
      "=================================================================\n",
      "Total params: 976\n",
      "Trainable params: 976\n",
      "Non-trainable params: 0\n",
      "_________________________________________________________________\n"
     ]
    }
   ],
   "source": [
    "model = build_model()\n",
    "model.summary()"
   ]
  },
  {
   "cell_type": "code",
   "execution_count": 8,
   "metadata": {
    "scrolled": true
   },
   "outputs": [
    {
     "name": "stdout",
     "output_type": "stream",
     "text": [
      "Train on 765399 samples, validate on 191350 samples\n",
      "WARNING:tensorflow:From C:\\Users\\pedro\\Miniconda3\\envs\\specialTopics\\lib\\site-packages\\tensorflow\\python\\ops\\math_ops.py:3066: to_int32 (from tensorflow.python.ops.math_ops) is deprecated and will be removed in a future version.\n",
      "Instructions for updating:\n",
      "Use tf.cast instead.\n",
      "Epoch 1/20\n",
      "765399/765399 [==============================] - 21s 27us/sample - loss: 3.9886e-06 - mean_absolute_error: 5.7252e-04 - mean_squared_error: 3.9886e-06 - val_loss: 2.8921e-06 - val_mean_absolute_error: 0.0014 - val_mean_squared_error: 2.8921e-06\n",
      "Epoch 2/20\n",
      "765399/765399 [==============================] - 20s 27us/sample - loss: 3.6639e-07 - mean_absolute_error: 3.9815e-04 - mean_squared_error: 3.6639e-07 - val_loss: 5.4508e-08 - val_mean_absolute_error: 1.7827e-04 - val_mean_squared_error: 5.4508e-08\n",
      "Epoch 3/20\n",
      "765399/765399 [==============================] - 20s 26us/sample - loss: 2.9828e-07 - mean_absolute_error: 3.7551e-04 - mean_squared_error: 2.9828e-07 - val_loss: 5.2878e-07 - val_mean_absolute_error: 6.2918e-04 - val_mean_squared_error: 5.2878e-07\n",
      "Epoch 4/20\n",
      "765399/765399 [==============================] - 20s 27us/sample - loss: 2.7339e-07 - mean_absolute_error: 3.3082e-04 - mean_squared_error: 2.7339e-07 - val_loss: 1.0659e-06 - val_mean_absolute_error: 9.4183e-04 - val_mean_squared_error: 1.0659e-06\n",
      "Epoch 5/20\n",
      "765399/765399 [==============================] - 20s 27us/sample - loss: 2.3752e-07 - mean_absolute_error: 3.1423e-04 - mean_squared_error: 2.3752e-07 - val_loss: 3.9095e-07 - val_mean_absolute_error: 5.9077e-04 - val_mean_squared_error: 3.9095e-07\n",
      "Epoch 6/20\n",
      "765399/765399 [==============================] - 20s 26us/sample - loss: 1.9446e-07 - mean_absolute_error: 2.9325e-04 - mean_squared_error: 1.9446e-07 - val_loss: 4.2459e-08 - val_mean_absolute_error: 1.7911e-04 - val_mean_squared_error: 4.2459e-08\n",
      "Epoch 7/20\n",
      "765399/765399 [==============================] - 20s 26us/sample - loss: 1.6479e-07 - mean_absolute_error: 2.5929e-04 - mean_squared_error: 1.6479e-07 - val_loss: 4.7910e-08 - val_mean_absolute_error: 1.9327e-04 - val_mean_squared_error: 4.7910e-08\n",
      "Epoch 8/20\n",
      "765399/765399 [==============================] - 20s 27us/sample - loss: 1.4236e-07 - mean_absolute_error: 2.4381e-04 - mean_squared_error: 1.4236e-07 - val_loss: 2.4877e-07 - val_mean_absolute_error: 4.7061e-04 - val_mean_squared_error: 2.4877e-07\n",
      "Epoch 9/20\n",
      "765399/765399 [==============================] - 20s 26us/sample - loss: 1.3029e-07 - mean_absolute_error: 2.4110e-04 - mean_squared_error: 1.3029e-07 - val_loss: 1.0164e-08 - val_mean_absolute_error: 7.5974e-05 - val_mean_squared_error: 1.0164e-08\n",
      "Epoch 10/20\n",
      "765399/765399 [==============================] - 20s 26us/sample - loss: 1.2250e-07 - mean_absolute_error: 2.3413e-04 - mean_squared_error: 1.2250e-07 - val_loss: 1.5456e-07 - val_mean_absolute_error: 2.9329e-04 - val_mean_squared_error: 1.5456e-07\n",
      "Epoch 11/20\n",
      "765399/765399 [==============================] - 20s 26us/sample - loss: 1.1830e-07 - mean_absolute_error: 2.1764e-04 - mean_squared_error: 1.1830e-07 - val_loss: 7.0263e-08 - val_mean_absolute_error: 2.4995e-04 - val_mean_squared_error: 7.0263e-08\n",
      "Epoch 12/20\n",
      "765399/765399 [==============================] - 20s 26us/sample - loss: 1.0814e-07 - mean_absolute_error: 2.1368e-04 - mean_squared_error: 1.0814e-07 - val_loss: 6.3368e-08 - val_mean_absolute_error: 2.3463e-04 - val_mean_squared_error: 6.3368e-08\n",
      "Epoch 13/20\n",
      "765399/765399 [==============================] - 20s 26us/sample - loss: 1.0968e-07 - mean_absolute_error: 2.0808e-04 - mean_squared_error: 1.0968e-07 - val_loss: 9.9066e-09 - val_mean_absolute_error: 8.0786e-05 - val_mean_squared_error: 9.9066e-09\n",
      "Epoch 14/20\n",
      "765399/765399 [==============================] - 20s 26us/sample - loss: 1.0350e-07 - mean_absolute_error: 2.1098e-04 - mean_squared_error: 1.0350e-07 - val_loss: 1.1569e-08 - val_mean_absolute_error: 8.5878e-05 - val_mean_squared_error: 1.1569e-08\n",
      "Epoch 15/20\n",
      "765399/765399 [==============================] - 20s 26us/sample - loss: 9.9850e-08 - mean_absolute_error: 2.1006e-04 - mean_squared_error: 9.9850e-08 - val_loss: 7.8816e-09 - val_mean_absolute_error: 6.7308e-05 - val_mean_squared_error: 7.8816e-09\n",
      "Epoch 16/20\n",
      "765399/765399 [==============================] - 20s 26us/sample - loss: 1.0786e-07 - mean_absolute_error: 1.9946e-04 - mean_squared_error: 1.0786e-07 - val_loss: 6.0862e-09 - val_mean_absolute_error: 6.3454e-05 - val_mean_squared_error: 6.0862e-09\n",
      "Epoch 17/20\n",
      "765399/765399 [==============================] - 20s 27us/sample - loss: 9.3947e-08 - mean_absolute_error: 1.9508e-04 - mean_squared_error: 9.3947e-08 - val_loss: 3.5011e-06 - val_mean_absolute_error: 0.0017 - val_mean_squared_error: 3.5011e-06\n",
      "Epoch 18/20\n",
      "765399/765399 [==============================] - 20s 26us/sample - loss: 9.5979e-08 - mean_absolute_error: 1.9422e-04 - mean_squared_error: 9.5978e-08 - val_loss: 6.4243e-09 - val_mean_absolute_error: 6.3868e-05 - val_mean_squared_error: 6.4243e-09\n",
      "Epoch 19/20\n",
      "765399/765399 [==============================] - 20s 26us/sample - loss: 8.8254e-08 - mean_absolute_error: 1.9366e-04 - mean_squared_error: 8.8254e-08 - val_loss: 1.3791e-08 - val_mean_absolute_error: 1.0396e-04 - val_mean_squared_error: 1.3791e-08\n",
      "Epoch 20/20\n",
      "765399/765399 [==============================] - 20s 27us/sample - loss: 9.2493e-08 - mean_absolute_error: 1.8468e-04 - mean_squared_error: 9.2493e-08 - val_loss: 1.9486e-08 - val_mean_absolute_error: 1.2117e-04 - val_mean_squared_error: 1.9486e-08\n"
     ]
    }
   ],
   "source": [
    "EPOCHS = 20\n",
    "\n",
    "#early_stop = keras.callbacks.EarlyStopping(monitor='val_loss', patience=2)\n",
    "\n",
    "history = model.fit(\n",
    "    train_dataset, train_labels,\n",
    "    epochs=EPOCHS, validation_data = (validation_dataset,validation_labels), verbose=1, use_multiprocessing = True)\n",
    "\n"
   ]
  },
  {
   "cell_type": "code",
   "execution_count": 51,
   "metadata": {},
   "outputs": [],
   "source": [
    "%matplotlib qt\n",
    "_=plt.plot(history.history['loss'])\n",
    "_=plt.plot(history.history['val_loss'])\n",
    "_=plt.yscale('log')\n",
    "_=plt.title('model loss')\n",
    "_=plt.ylabel('loss')\n",
    "_=plt.xlabel('epoch')\n",
    "_=plt.legend(['loss','val_loss'],loc='upper right')\n"
   ]
  },
  {
   "cell_type": "code",
   "execution_count": 52,
   "metadata": {},
   "outputs": [
    {
     "data": {
      "text/plain": [
       "<matplotlib.collections.PathCollection at 0x1bcaa946cc8>"
      ]
     },
     "execution_count": 52,
     "metadata": {},
     "output_type": "execute_result"
    },
    {
     "data": {
      "text/plain": [
       "Text(0.5, 0, 'True Values [norm deg]')"
      ]
     },
     "execution_count": 52,
     "metadata": {},
     "output_type": "execute_result"
    },
    {
     "data": {
      "text/plain": [
       "Text(0, 0.5, 'Predictions [norm deg]')"
      ]
     },
     "execution_count": 52,
     "metadata": {},
     "output_type": "execute_result"
    },
    {
     "data": {
      "text/plain": [
       "(0.0, 1.0)"
      ]
     },
     "execution_count": 52,
     "metadata": {},
     "output_type": "execute_result"
    },
    {
     "data": {
      "text/plain": [
       "(0.0, 1.0)"
      ]
     },
     "execution_count": 52,
     "metadata": {},
     "output_type": "execute_result"
    }
   ],
   "source": [
    "test_predictions = model.predict(test_dataset).flatten()\n",
    "%matplotlib qt\n",
    "a = plt.axes(aspect='equal')\n",
    "plt.scatter(test_labels, test_predictions)\n",
    "plt.xlabel('True Values [norm deg]')\n",
    "plt.ylabel('Predictions [norm deg]')\n",
    "lims = [0, 1]\n",
    "plt.xlim(lims)\n",
    "plt.ylim(lims)\n",
    "_ = plt.plot(lims, lims)\n"
   ]
  },
  {
   "cell_type": "code",
   "execution_count": 84,
   "metadata": {},
   "outputs": [
    {
     "data": {
      "text/plain": [
       "0.021470965058721644"
      ]
     },
     "execution_count": 84,
     "metadata": {},
     "output_type": "execute_result"
    },
    {
     "data": {
      "text/plain": [
       "0.013117670148272344"
      ]
     },
     "execution_count": 84,
     "metadata": {},
     "output_type": "execute_result"
    },
    {
     "data": {
      "image/png": "[encoded data removed]",
      "text/plain": [
       "<Figure size 432x288 with 1 Axes>"
      ]
     },
     "metadata": {
      "needs_background": "light"
     },
     "output_type": "display_data"
    }
   ],
   "source": [
    "error = (test_predictions - test_labels)*180\n",
    "%matplotlib qt\n",
    "_ = plt.hist(error, bins = 100)\n",
    "_ = plt.xlabel(\"Prediction Error [deg]\")\n",
    "_ = plt.ylabel(\"Count\")\n",
    "mean = np.mean(error)\n",
    "mean\n",
    "np.std(error)"
   ]
  },
  {
   "cell_type": "code",
   "execution_count": 81,
   "metadata": {
    "scrolled": true
   },
   "outputs": [
    {
     "data": {
      "text/html": [
       "<div>\n",
       "<style scoped>\n",
       "    .dataframe tbody tr th:only-of-type {\n",
       "        vertical-align: middle;\n",
       "    }\n",
       "\n",
       "    .dataframe tbody tr th {\n",
       "        vertical-align: top;\n",
       "    }\n",
       "\n",
       "    .dataframe thead th {\n",
       "        text-align: right;\n",
       "    }\n",
       "</style>\n",
       "<table border=\"1\" class=\"dataframe\">\n",
       "  <thead>\n",
       "    <tr style=\"text-align: right;\">\n",
       "      <th></th>\n",
       "      <th>-10</th>\n",
       "      <th>-9</th>\n",
       "      <th>-8</th>\n",
       "      <th>-7</th>\n",
       "      <th>-6</th>\n",
       "      <th>-5</th>\n",
       "      <th>-4</th>\n",
       "      <th>-3</th>\n",
       "      <th>-2</th>\n",
       "      <th>-1</th>\n",
       "      <th>y</th>\n",
       "      <th>e</th>\n",
       "    </tr>\n",
       "  </thead>\n",
       "  <tbody>\n",
       "    <tr>\n",
       "      <th>0</th>\n",
       "      <td>0.000323</td>\n",
       "      <td>0.003557</td>\n",
       "      <td>0.006790</td>\n",
       "      <td>0.010023</td>\n",
       "      <td>0.013256</td>\n",
       "      <td>0.016487</td>\n",
       "      <td>0.019718</td>\n",
       "      <td>0.022947</td>\n",
       "      <td>0.026176</td>\n",
       "      <td>0.029402</td>\n",
       "      <td>0.032627</td>\n",
       "      <td>0.395</td>\n",
       "    </tr>\n",
       "    <tr>\n",
       "      <th>1</th>\n",
       "      <td>0.003557</td>\n",
       "      <td>0.006790</td>\n",
       "      <td>0.010023</td>\n",
       "      <td>0.013256</td>\n",
       "      <td>0.016487</td>\n",
       "      <td>0.019718</td>\n",
       "      <td>0.022947</td>\n",
       "      <td>0.026176</td>\n",
       "      <td>0.029402</td>\n",
       "      <td>0.032627</td>\n",
       "      <td>0.035850</td>\n",
       "      <td>0.395</td>\n",
       "    </tr>\n",
       "    <tr>\n",
       "      <th>2</th>\n",
       "      <td>0.006790</td>\n",
       "      <td>0.010023</td>\n",
       "      <td>0.013256</td>\n",
       "      <td>0.016487</td>\n",
       "      <td>0.019718</td>\n",
       "      <td>0.022947</td>\n",
       "      <td>0.026176</td>\n",
       "      <td>0.029402</td>\n",
       "      <td>0.032627</td>\n",
       "      <td>0.035850</td>\n",
       "      <td>0.039071</td>\n",
       "      <td>0.395</td>\n",
       "    </tr>\n",
       "    <tr>\n",
       "      <th>3</th>\n",
       "      <td>0.010023</td>\n",
       "      <td>0.013256</td>\n",
       "      <td>0.016487</td>\n",
       "      <td>0.019718</td>\n",
       "      <td>0.022947</td>\n",
       "      <td>0.026176</td>\n",
       "      <td>0.029402</td>\n",
       "      <td>0.032627</td>\n",
       "      <td>0.035850</td>\n",
       "      <td>0.039071</td>\n",
       "      <td>0.042290</td>\n",
       "      <td>0.395</td>\n",
       "    </tr>\n",
       "    <tr>\n",
       "      <th>4</th>\n",
       "      <td>0.013256</td>\n",
       "      <td>0.016487</td>\n",
       "      <td>0.019718</td>\n",
       "      <td>0.022947</td>\n",
       "      <td>0.026176</td>\n",
       "      <td>0.029402</td>\n",
       "      <td>0.032627</td>\n",
       "      <td>0.035850</td>\n",
       "      <td>0.039071</td>\n",
       "      <td>0.042290</td>\n",
       "      <td>0.045506</td>\n",
       "      <td>0.395</td>\n",
       "    </tr>\n",
       "    <tr>\n",
       "      <th>...</th>\n",
       "      <td>...</td>\n",
       "      <td>...</td>\n",
       "      <td>...</td>\n",
       "      <td>...</td>\n",
       "      <td>...</td>\n",
       "      <td>...</td>\n",
       "      <td>...</td>\n",
       "      <td>...</td>\n",
       "      <td>...</td>\n",
       "      <td>...</td>\n",
       "      <td>...</td>\n",
       "      <td>...</td>\n",
       "    </tr>\n",
       "    <tr>\n",
       "      <th>230</th>\n",
       "      <td>0.549872</td>\n",
       "      <td>0.551332</td>\n",
       "      <td>0.552787</td>\n",
       "      <td>0.554236</td>\n",
       "      <td>0.555680</td>\n",
       "      <td>0.557119</td>\n",
       "      <td>0.558552</td>\n",
       "      <td>0.559979</td>\n",
       "      <td>0.561401</td>\n",
       "      <td>0.562818</td>\n",
       "      <td>0.564230</td>\n",
       "      <td>0.395</td>\n",
       "    </tr>\n",
       "    <tr>\n",
       "      <th>231</th>\n",
       "      <td>0.551332</td>\n",
       "      <td>0.552787</td>\n",
       "      <td>0.554236</td>\n",
       "      <td>0.555680</td>\n",
       "      <td>0.557119</td>\n",
       "      <td>0.558552</td>\n",
       "      <td>0.559979</td>\n",
       "      <td>0.561401</td>\n",
       "      <td>0.562818</td>\n",
       "      <td>0.564230</td>\n",
       "      <td>0.565636</td>\n",
       "      <td>0.395</td>\n",
       "    </tr>\n",
       "    <tr>\n",
       "      <th>232</th>\n",
       "      <td>0.552787</td>\n",
       "      <td>0.554236</td>\n",
       "      <td>0.555680</td>\n",
       "      <td>0.557119</td>\n",
       "      <td>0.558552</td>\n",
       "      <td>0.559979</td>\n",
       "      <td>0.561401</td>\n",
       "      <td>0.562818</td>\n",
       "      <td>0.564230</td>\n",
       "      <td>0.565636</td>\n",
       "      <td>0.567037</td>\n",
       "      <td>0.395</td>\n",
       "    </tr>\n",
       "    <tr>\n",
       "      <th>233</th>\n",
       "      <td>0.554236</td>\n",
       "      <td>0.555680</td>\n",
       "      <td>0.557119</td>\n",
       "      <td>0.558552</td>\n",
       "      <td>0.559979</td>\n",
       "      <td>0.561401</td>\n",
       "      <td>0.562818</td>\n",
       "      <td>0.564230</td>\n",
       "      <td>0.565636</td>\n",
       "      <td>0.567037</td>\n",
       "      <td>0.568433</td>\n",
       "      <td>0.395</td>\n",
       "    </tr>\n",
       "    <tr>\n",
       "      <th>234</th>\n",
       "      <td>0.555680</td>\n",
       "      <td>0.557119</td>\n",
       "      <td>0.558552</td>\n",
       "      <td>0.559979</td>\n",
       "      <td>0.561401</td>\n",
       "      <td>0.562818</td>\n",
       "      <td>0.564230</td>\n",
       "      <td>0.565636</td>\n",
       "      <td>0.567037</td>\n",
       "      <td>0.568433</td>\n",
       "      <td>0.569824</td>\n",
       "      <td>0.395</td>\n",
       "    </tr>\n",
       "  </tbody>\n",
       "</table>\n",
       "<p>235 rows × 12 columns</p>\n",
       "</div>"
      ],
      "text/plain": [
       "          -10        -9        -8        -7        -6        -5        -4  \\\n",
       "0    0.000323  0.003557  0.006790  0.010023  0.013256  0.016487  0.019718   \n",
       "1    0.003557  0.006790  0.010023  0.013256  0.016487  0.019718  0.022947   \n",
       "2    0.006790  0.010023  0.013256  0.016487  0.019718  0.022947  0.026176   \n",
       "3    0.010023  0.013256  0.016487  0.019718  0.022947  0.026176  0.029402   \n",
       "4    0.013256  0.016487  0.019718  0.022947  0.026176  0.029402  0.032627   \n",
       "..        ...       ...       ...       ...       ...       ...       ...   \n",
       "230  0.549872  0.551332  0.552787  0.554236  0.555680  0.557119  0.558552   \n",
       "231  0.551332  0.552787  0.554236  0.555680  0.557119  0.558552  0.559979   \n",
       "232  0.552787  0.554236  0.555680  0.557119  0.558552  0.559979  0.561401   \n",
       "233  0.554236  0.555680  0.557119  0.558552  0.559979  0.561401  0.562818   \n",
       "234  0.555680  0.557119  0.558552  0.559979  0.561401  0.562818  0.564230   \n",
       "\n",
       "           -3        -2        -1         y      e  \n",
       "0    0.022947  0.026176  0.029402  0.032627  0.395  \n",
       "1    0.026176  0.029402  0.032627  0.035850  0.395  \n",
       "2    0.029402  0.032627  0.035850  0.039071  0.395  \n",
       "3    0.032627  0.035850  0.039071  0.042290  0.395  \n",
       "4    0.035850  0.039071  0.042290  0.045506  0.395  \n",
       "..        ...       ...       ...       ...    ...  \n",
       "230  0.559979  0.561401  0.562818  0.564230  0.395  \n",
       "231  0.561401  0.562818  0.564230  0.565636  0.395  \n",
       "232  0.562818  0.564230  0.565636  0.567037  0.395  \n",
       "233  0.564230  0.565636  0.567037  0.568433  0.395  \n",
       "234  0.565636  0.567037  0.568433  0.569824  0.395  \n",
       "\n",
       "[235 rows x 12 columns]"
      ]
     },
     "execution_count": 81,
     "metadata": {},
     "output_type": "execute_result"
    },
    {
     "data": {
      "text/plain": [
       "234"
      ]
     },
     "execution_count": 81,
     "metadata": {},
     "output_type": "execute_result"
    },
    {
     "data": {
      "text/plain": [
       "235"
      ]
     },
     "execution_count": 81,
     "metadata": {},
     "output_type": "execute_result"
    },
    {
     "data": {
      "text/html": [
       "<div>\n",
       "<style scoped>\n",
       "    .dataframe tbody tr th:only-of-type {\n",
       "        vertical-align: middle;\n",
       "    }\n",
       "\n",
       "    .dataframe tbody tr th {\n",
       "        vertical-align: top;\n",
       "    }\n",
       "\n",
       "    .dataframe thead th {\n",
       "        text-align: right;\n",
       "    }\n",
       "</style>\n",
       "<table border=\"1\" class=\"dataframe\">\n",
       "  <thead>\n",
       "    <tr style=\"text-align: right;\">\n",
       "      <th></th>\n",
       "      <th>-10</th>\n",
       "      <th>-9</th>\n",
       "      <th>-8</th>\n",
       "      <th>-7</th>\n",
       "      <th>-6</th>\n",
       "      <th>-5</th>\n",
       "      <th>-4</th>\n",
       "      <th>-3</th>\n",
       "      <th>-2</th>\n",
       "      <th>-1</th>\n",
       "      <th>y</th>\n",
       "      <th>e</th>\n",
       "    </tr>\n",
       "  </thead>\n",
       "  <tbody>\n",
       "    <tr>\n",
       "      <th>0</th>\n",
       "      <td>0.000323</td>\n",
       "      <td>0.003557</td>\n",
       "      <td>0.006790</td>\n",
       "      <td>0.010023</td>\n",
       "      <td>0.013256</td>\n",
       "      <td>0.016487</td>\n",
       "      <td>0.019718</td>\n",
       "      <td>0.022947</td>\n",
       "      <td>0.026176</td>\n",
       "      <td>0.029402</td>\n",
       "      <td>0.032755</td>\n",
       "      <td>0.395</td>\n",
       "    </tr>\n",
       "    <tr>\n",
       "      <th>1</th>\n",
       "      <td>0.003557</td>\n",
       "      <td>0.006790</td>\n",
       "      <td>0.010023</td>\n",
       "      <td>0.013256</td>\n",
       "      <td>0.016487</td>\n",
       "      <td>0.019718</td>\n",
       "      <td>0.022947</td>\n",
       "      <td>0.026176</td>\n",
       "      <td>0.029402</td>\n",
       "      <td>0.032755</td>\n",
       "      <td>0.035981</td>\n",
       "      <td>0.395</td>\n",
       "    </tr>\n",
       "    <tr>\n",
       "      <th>2</th>\n",
       "      <td>0.006790</td>\n",
       "      <td>0.010023</td>\n",
       "      <td>0.013256</td>\n",
       "      <td>0.016487</td>\n",
       "      <td>0.019718</td>\n",
       "      <td>0.022947</td>\n",
       "      <td>0.026176</td>\n",
       "      <td>0.029402</td>\n",
       "      <td>0.032755</td>\n",
       "      <td>0.035981</td>\n",
       "      <td>0.039214</td>\n",
       "      <td>0.395</td>\n",
       "    </tr>\n",
       "    <tr>\n",
       "      <th>3</th>\n",
       "      <td>0.010023</td>\n",
       "      <td>0.013256</td>\n",
       "      <td>0.016487</td>\n",
       "      <td>0.019718</td>\n",
       "      <td>0.022947</td>\n",
       "      <td>0.026176</td>\n",
       "      <td>0.029402</td>\n",
       "      <td>0.032755</td>\n",
       "      <td>0.035981</td>\n",
       "      <td>0.039214</td>\n",
       "      <td>0.042440</td>\n",
       "      <td>0.395</td>\n",
       "    </tr>\n",
       "    <tr>\n",
       "      <th>4</th>\n",
       "      <td>0.013256</td>\n",
       "      <td>0.016487</td>\n",
       "      <td>0.019718</td>\n",
       "      <td>0.022947</td>\n",
       "      <td>0.026176</td>\n",
       "      <td>0.029402</td>\n",
       "      <td>0.032755</td>\n",
       "      <td>0.035981</td>\n",
       "      <td>0.039214</td>\n",
       "      <td>0.042440</td>\n",
       "      <td>0.045656</td>\n",
       "      <td>0.395</td>\n",
       "    </tr>\n",
       "    <tr>\n",
       "      <th>...</th>\n",
       "      <td>...</td>\n",
       "      <td>...</td>\n",
       "      <td>...</td>\n",
       "      <td>...</td>\n",
       "      <td>...</td>\n",
       "      <td>...</td>\n",
       "      <td>...</td>\n",
       "      <td>...</td>\n",
       "      <td>...</td>\n",
       "      <td>...</td>\n",
       "      <td>...</td>\n",
       "      <td>...</td>\n",
       "    </tr>\n",
       "    <tr>\n",
       "      <th>230</th>\n",
       "      <td>0.550215</td>\n",
       "      <td>0.551674</td>\n",
       "      <td>0.553126</td>\n",
       "      <td>0.554572</td>\n",
       "      <td>0.556013</td>\n",
       "      <td>0.557447</td>\n",
       "      <td>0.558875</td>\n",
       "      <td>0.560298</td>\n",
       "      <td>0.561714</td>\n",
       "      <td>0.563125</td>\n",
       "      <td>0.564529</td>\n",
       "      <td>0.395</td>\n",
       "    </tr>\n",
       "    <tr>\n",
       "      <th>231</th>\n",
       "      <td>0.551674</td>\n",
       "      <td>0.553126</td>\n",
       "      <td>0.554572</td>\n",
       "      <td>0.556013</td>\n",
       "      <td>0.557447</td>\n",
       "      <td>0.558875</td>\n",
       "      <td>0.560298</td>\n",
       "      <td>0.561714</td>\n",
       "      <td>0.563125</td>\n",
       "      <td>0.564529</td>\n",
       "      <td>0.565928</td>\n",
       "      <td>0.395</td>\n",
       "    </tr>\n",
       "    <tr>\n",
       "      <th>232</th>\n",
       "      <td>0.553126</td>\n",
       "      <td>0.554572</td>\n",
       "      <td>0.556013</td>\n",
       "      <td>0.557447</td>\n",
       "      <td>0.558875</td>\n",
       "      <td>0.560298</td>\n",
       "      <td>0.561714</td>\n",
       "      <td>0.563125</td>\n",
       "      <td>0.564529</td>\n",
       "      <td>0.565928</td>\n",
       "      <td>0.567321</td>\n",
       "      <td>0.395</td>\n",
       "    </tr>\n",
       "    <tr>\n",
       "      <th>233</th>\n",
       "      <td>0.554572</td>\n",
       "      <td>0.556013</td>\n",
       "      <td>0.557447</td>\n",
       "      <td>0.558875</td>\n",
       "      <td>0.560298</td>\n",
       "      <td>0.561714</td>\n",
       "      <td>0.563125</td>\n",
       "      <td>0.564529</td>\n",
       "      <td>0.565928</td>\n",
       "      <td>0.567321</td>\n",
       "      <td>0.568709</td>\n",
       "      <td>0.395</td>\n",
       "    </tr>\n",
       "    <tr>\n",
       "      <th>234</th>\n",
       "      <td>0.556013</td>\n",
       "      <td>0.557447</td>\n",
       "      <td>0.558875</td>\n",
       "      <td>0.560298</td>\n",
       "      <td>0.561714</td>\n",
       "      <td>0.563125</td>\n",
       "      <td>0.564529</td>\n",
       "      <td>0.565928</td>\n",
       "      <td>0.567321</td>\n",
       "      <td>0.568709</td>\n",
       "      <td>0.570090</td>\n",
       "      <td>0.395</td>\n",
       "    </tr>\n",
       "  </tbody>\n",
       "</table>\n",
       "<p>235 rows × 12 columns</p>\n",
       "</div>"
      ],
      "text/plain": [
       "          -10        -9        -8        -7        -6        -5        -4  \\\n",
       "0    0.000323  0.003557  0.006790  0.010023  0.013256  0.016487  0.019718   \n",
       "1    0.003557  0.006790  0.010023  0.013256  0.016487  0.019718  0.022947   \n",
       "2    0.006790  0.010023  0.013256  0.016487  0.019718  0.022947  0.026176   \n",
       "3    0.010023  0.013256  0.016487  0.019718  0.022947  0.026176  0.029402   \n",
       "4    0.013256  0.016487  0.019718  0.022947  0.026176  0.029402  0.032755   \n",
       "..        ...       ...       ...       ...       ...       ...       ...   \n",
       "230  0.550215  0.551674  0.553126  0.554572  0.556013  0.557447  0.558875   \n",
       "231  0.551674  0.553126  0.554572  0.556013  0.557447  0.558875  0.560298   \n",
       "232  0.553126  0.554572  0.556013  0.557447  0.558875  0.560298  0.561714   \n",
       "233  0.554572  0.556013  0.557447  0.558875  0.560298  0.561714  0.563125   \n",
       "234  0.556013  0.557447  0.558875  0.560298  0.561714  0.563125  0.564529   \n",
       "\n",
       "           -3        -2        -1         y      e  \n",
       "0    0.022947  0.026176  0.029402  0.032755  0.395  \n",
       "1    0.026176  0.029402  0.032755  0.035981  0.395  \n",
       "2    0.029402  0.032755  0.035981  0.039214  0.395  \n",
       "3    0.032755  0.035981  0.039214  0.042440  0.395  \n",
       "4    0.035981  0.039214  0.042440  0.045656  0.395  \n",
       "..        ...       ...       ...       ...    ...  \n",
       "230  0.560298  0.561714  0.563125  0.564529  0.395  \n",
       "231  0.561714  0.563125  0.564529  0.565928  0.395  \n",
       "232  0.563125  0.564529  0.565928  0.567321  0.395  \n",
       "233  0.564529  0.565928  0.567321  0.568709  0.395  \n",
       "234  0.565928  0.567321  0.568709  0.570090  0.395  \n",
       "\n",
       "[235 rows x 12 columns]"
      ]
     },
     "execution_count": 81,
     "metadata": {},
     "output_type": "execute_result"
    }
   ],
   "source": [
    "ixL = 0\n",
    "excluded\n",
    "excluded.index[-1]\n",
    "\n",
    "excluded.index[-1]+1\n",
    "nMax = excluded.index[-1]+1\n",
    "test1 = excluded.iloc[ixL:ixL+1,:].copy()\n",
    "for i in np.arange(ixL,int(nMax)):\n",
    "    test1.loc[i,'y'] = model.predict(test1.loc[i:i+1,:].drop('y',axis=1))-mean/180\n",
    "    if i != int(nMax-1):\n",
    "        test1.loc[i+1,0:nPast] = test1.loc[i,:].shift(-1)\n",
    "        test1.loc[i+1,'e'] = test1.loc[i,'e']\n",
    "test1"
   ]
  },
  {
   "cell_type": "code",
   "execution_count": 82,
   "metadata": {
    "scrolled": false
   },
   "outputs": [
    {
     "data": {
      "text/plain": [
       "[<matplotlib.lines.Line2D at 0x1bcad4c9548>]"
      ]
     },
     "execution_count": 82,
     "metadata": {},
     "output_type": "execute_result"
    },
    {
     "data": {
      "text/plain": [
       "[<matplotlib.lines.Line2D at 0x1bcad4c9a88>]"
      ]
     },
     "execution_count": 82,
     "metadata": {},
     "output_type": "execute_result"
    },
    {
     "data": {
      "text/plain": [
       "<matplotlib.legend.Legend at 0x1bcabf0b908>"
      ]
     },
     "execution_count": 82,
     "metadata": {},
     "output_type": "execute_result"
    },
    {
     "data": {
      "image/png": "[encoded data removed]",
      "text/plain": [
       "<Figure size 432x288 with 1 Axes>"
      ]
     },
     "metadata": {
      "needs_background": "light"
     },
     "output_type": "display_data"
    }
   ],
   "source": [
    "%matplotlib qt\n",
    "plt.plot(excluded['y']*180)\n",
    "plt.plot(test1['y']*180,'--')\n",
    "_ = plt.ylabel(\"True Anomaly [deg]\")\n",
    "_ = plt.xlabel(\"Step\")\n",
    "plt.legend(['data','test'],loc='best')"
   ]
  },
  {
   "cell_type": "code",
   "execution_count": 83,
   "metadata": {
    "scrolled": true
   },
   "outputs": [
    {
     "data": {
      "text/plain": [
       "[<matplotlib.lines.Line2D at 0x1bcad52cfc8>]"
      ]
     },
     "execution_count": 83,
     "metadata": {},
     "output_type": "execute_result"
    },
    {
     "data": {
      "text/plain": [
       "<matplotlib.legend.Legend at 0x1bcad50f408>"
      ]
     },
     "execution_count": 83,
     "metadata": {},
     "output_type": "execute_result"
    },
    {
     "data": {
      "image/png": "[encoded data removed]",
      "text/plain": [
       "<Figure size 432x288 with 1 Axes>"
      ]
     },
     "metadata": {
      "needs_background": "light"
     },
     "output_type": "display_data"
    }
   ],
   "source": [
    "%matplotlib qt\n",
    "plt.plot((excluded['y']-test1['y'])*180)\n",
    "_ = plt.ylabel(\"Prediction Error [deg]\")\n",
    "_ = plt.xlabel(\"Step\")\n",
    "plt.legend(['Diff. Sheep'],loc='upper left')"
   ]
  },
  {
   "cell_type": "code",
   "execution_count": 65,
   "metadata": {},
   "outputs": [
    {
     "data": {
      "text/plain": [
       "array([   1002,   21031,   41157,   59581,   76775,   93169,  108945,\n",
       "        124203,  139021,  153446,  167520,  181274,  194739,  207932,\n",
       "        220876,  233586,  246077,  258360,  270448,  282352,  294080,\n",
       "        305640,  317041,  328289,  339393,  350354,  361183,  371882,\n",
       "        382456,  392910,  403248,  413476,  423594,  433607,  443521,\n",
       "        453336,  463054,  472682,  482220,  491666,  500949,  510151,\n",
       "        519275,  528322,  537295,  546195,  555026,  563786,  572478,\n",
       "        581106,  589667,  598165,  606603,  614980,  623298,  631559,\n",
       "        639761,  647909,  656002,  664040,  672027,  679963,  687847,\n",
       "        695683,  703470,  711209,  718902,  726548,  734147,  741704,\n",
       "        749217,  756687,  764114,  771500,  778845,  786150,  793415,\n",
       "        800641,  807828,  814978,  822090,  829167,  836207,  843211,\n",
       "        850180,  857114,  864014,  870880,  877715,  884515,  891283,\n",
       "        898019,  904724,  911400,  918043,  924656,  931239,  937795,\n",
       "        944320,  950816,  957286,  963726,  970139,  976524,  982884,\n",
       "        989216,  995524, 1001804, 1008058, 1014288, 1020491, 1026670,\n",
       "       1032826, 1038956, 1045064, 1051146, 1057205, 1063243, 1069256,\n",
       "       1075248, 1081216, 1087163, 1093086, 1098990, 1104870, 1110729,\n",
       "       1116569, 1122386, 1128184, 1133960, 1139718, 1145454, 1151172,\n",
       "       1156868, 1162547, 1168204, 1173844, 1179465, 1185066, 1190650],\n",
       "      dtype=int64)"
      ]
     },
     "execution_count": 65,
     "metadata": {},
     "output_type": "execute_result"
    },
    {
     "data": {
      "text/plain": [
       "array([   1502,   21536,   41619,   60011,   77185,   93563,  109326,\n",
       "        124573,  139382,  153798,  167864,  181610,  195069,  208255,\n",
       "        221193,  233898,  246384,  258662,  270745,  282645,  294369,\n",
       "        305925,  317322,  328566,  339667,  350624,  361450,  372146,\n",
       "        382717,  393168,  403503,  413729,  423844,  433854,  443766,\n",
       "        453579,  463294,  472920,  482456,  491898,  501179,  510379,\n",
       "        519501,  528546,  537517,  546415,  555245,  564003,  572693,\n",
       "        581320,  589879,  598375,  606812,  615187,  623504,  631764,\n",
       "        639964,  648111,  656202,  664239,  672225,  680160,  688042,\n",
       "        695877,  703663,  711401,  719093,  726738,  734335,  741891,\n",
       "        749403,  756872,  764298,  771683,  779027,  786331,  793595,\n",
       "        800820,  808006,  815155,  822266,  829342,  836382,  843385,\n",
       "        850353,  857286,  864185,  871050,  877884,  884684,  891451,\n",
       "        898186,  904890,  911566,  918208,  924820,  931402,  937958,\n",
       "        944482,  950977,  957446,  963886,  970298,  976682,  983042,\n",
       "        989373,  995680, 1001960, 1008213, 1014443, 1020645, 1026823,\n",
       "       1032979, 1039108, 1045216, 1051297, 1057355, 1063393, 1069405,\n",
       "       1075397, 1081364, 1087311, 1093233, 1099136, 1105016, 1110874,\n",
       "       1116714, 1122530, 1128328, 1134103, 1139861, 1145596, 1151314,\n",
       "       1157009, 1162688, 1168344, 1173984, 1179605, 1185205, 1190789],\n",
       "      dtype=int64)"
      ]
     },
     "execution_count": 65,
     "metadata": {},
     "output_type": "execute_result"
    },
    {
     "data": {
      "text/plain": [
       "0"
      ]
     },
     "execution_count": 65,
     "metadata": {},
     "output_type": "execute_result"
    },
    {
     "name": "stdout",
     "output_type": "stream",
     "text": [
      "Elapsed time  1.96158766746521\n"
     ]
    },
    {
     "data": {
      "text/plain": [
       "1"
      ]
     },
     "execution_count": 65,
     "metadata": {},
     "output_type": "execute_result"
    },
    {
     "name": "stdout",
     "output_type": "stream",
     "text": [
      "Elapsed time  1.923311471939087\n"
     ]
    },
    {
     "data": {
      "text/plain": [
       "2"
      ]
     },
     "execution_count": 65,
     "metadata": {},
     "output_type": "execute_result"
    },
    {
     "name": "stdout",
     "output_type": "stream",
     "text": [
      "Elapsed time  1.7834017276763916\n"
     ]
    },
    {
     "data": {
      "text/plain": [
       "3"
      ]
     },
     "execution_count": 65,
     "metadata": {},
     "output_type": "execute_result"
    },
    {
     "name": "stdout",
     "output_type": "stream",
     "text": [
      "Elapsed time  1.6593732833862305\n"
     ]
    },
    {
     "data": {
      "text/plain": [
       "4"
      ]
     },
     "execution_count": 65,
     "metadata": {},
     "output_type": "execute_result"
    },
    {
     "name": "stdout",
     "output_type": "stream",
     "text": [
      "Elapsed time  1.580596923828125\n"
     ]
    },
    {
     "data": {
      "text/plain": [
       "5"
      ]
     },
     "execution_count": 65,
     "metadata": {},
     "output_type": "execute_result"
    },
    {
     "name": "stdout",
     "output_type": "stream",
     "text": [
      "Elapsed time  1.563352108001709\n"
     ]
    },
    {
     "data": {
      "text/plain": [
       "6"
      ]
     },
     "execution_count": 65,
     "metadata": {},
     "output_type": "execute_result"
    },
    {
     "name": "stdout",
     "output_type": "stream",
     "text": [
      "Elapsed time  1.5358517169952393\n"
     ]
    },
    {
     "data": {
      "text/plain": [
       "7"
      ]
     },
     "execution_count": 65,
     "metadata": {},
     "output_type": "execute_result"
    },
    {
     "name": "stdout",
     "output_type": "stream",
     "text": [
      "Elapsed time  1.448157787322998\n"
     ]
    },
    {
     "data": {
      "text/plain": [
       "8"
      ]
     },
     "execution_count": 65,
     "metadata": {},
     "output_type": "execute_result"
    },
    {
     "name": "stdout",
     "output_type": "stream",
     "text": [
      "Elapsed time  1.4107069969177246\n"
     ]
    },
    {
     "data": {
      "text/plain": [
       "9"
      ]
     },
     "execution_count": 65,
     "metadata": {},
     "output_type": "execute_result"
    },
    {
     "name": "stdout",
     "output_type": "stream",
     "text": [
      "Elapsed time  1.3543212413787842\n"
     ]
    },
    {
     "data": {
      "text/plain": [
       "10"
      ]
     },
     "execution_count": 65,
     "metadata": {},
     "output_type": "execute_result"
    },
    {
     "name": "stdout",
     "output_type": "stream",
     "text": [
      "Elapsed time  1.3202974796295166\n"
     ]
    },
    {
     "data": {
      "text/plain": [
       "11"
      ]
     },
     "execution_count": 65,
     "metadata": {},
     "output_type": "execute_result"
    },
    {
     "name": "stdout",
     "output_type": "stream",
     "text": [
      "Elapsed time  1.2852892875671387\n"
     ]
    },
    {
     "data": {
      "text/plain": [
       "12"
      ]
     },
     "execution_count": 65,
     "metadata": {},
     "output_type": "execute_result"
    },
    {
     "name": "stdout",
     "output_type": "stream",
     "text": [
      "Elapsed time  1.256291389465332\n"
     ]
    },
    {
     "data": {
      "text/plain": [
       "13"
      ]
     },
     "execution_count": 65,
     "metadata": {},
     "output_type": "execute_result"
    },
    {
     "name": "stdout",
     "output_type": "stream",
     "text": [
      "Elapsed time  1.2322771549224854\n"
     ]
    },
    {
     "data": {
      "text/plain": [
       "14"
      ]
     },
     "execution_count": 65,
     "metadata": {},
     "output_type": "execute_result"
    },
    {
     "name": "stdout",
     "output_type": "stream",
     "text": [
      "Elapsed time  1.2152647972106934\n"
     ]
    },
    {
     "data": {
      "text/plain": [
       "15"
      ]
     },
     "execution_count": 65,
     "metadata": {},
     "output_type": "execute_result"
    },
    {
     "name": "stdout",
     "output_type": "stream",
     "text": [
      "Elapsed time  1.1922683715820312\n"
     ]
    },
    {
     "data": {
      "text/plain": [
       "16"
      ]
     },
     "execution_count": 65,
     "metadata": {},
     "output_type": "execute_result"
    },
    {
     "name": "stdout",
     "output_type": "stream",
     "text": [
      "Elapsed time  1.1882679462432861\n"
     ]
    },
    {
     "data": {
      "text/plain": [
       "17"
      ]
     },
     "execution_count": 65,
     "metadata": {},
     "output_type": "execute_result"
    },
    {
     "name": "stdout",
     "output_type": "stream",
     "text": [
      "Elapsed time  1.1562604904174805\n"
     ]
    },
    {
     "data": {
      "text/plain": [
       "18"
      ]
     },
     "execution_count": 65,
     "metadata": {},
     "output_type": "execute_result"
    },
    {
     "name": "stdout",
     "output_type": "stream",
     "text": [
      "Elapsed time  1.1412651538848877\n"
     ]
    },
    {
     "data": {
      "text/plain": [
       "19"
      ]
     },
     "execution_count": 65,
     "metadata": {},
     "output_type": "execute_result"
    },
    {
     "name": "stdout",
     "output_type": "stream",
     "text": [
      "Elapsed time  1.1291303634643555\n"
     ]
    },
    {
     "data": {
      "text/plain": [
       "20"
      ]
     },
     "execution_count": 65,
     "metadata": {},
     "output_type": "execute_result"
    },
    {
     "name": "stdout",
     "output_type": "stream",
     "text": [
      "Elapsed time  1.1136162281036377\n"
     ]
    },
    {
     "data": {
      "text/plain": [
       "21"
      ]
     },
     "execution_count": 65,
     "metadata": {},
     "output_type": "execute_result"
    },
    {
     "name": "stdout",
     "output_type": "stream",
     "text": [
      "Elapsed time  1.0946683883666992\n"
     ]
    },
    {
     "data": {
      "text/plain": [
       "22"
      ]
     },
     "execution_count": 65,
     "metadata": {},
     "output_type": "execute_result"
    },
    {
     "name": "stdout",
     "output_type": "stream",
     "text": [
      "Elapsed time  1.0852437019348145\n"
     ]
    },
    {
     "data": {
      "text/plain": [
       "23"
      ]
     },
     "execution_count": 65,
     "metadata": {},
     "output_type": "execute_result"
    },
    {
     "name": "stdout",
     "output_type": "stream",
     "text": [
      "Elapsed time  1.0692410469055176\n"
     ]
    },
    {
     "data": {
      "text/plain": [
       "24"
      ]
     },
     "execution_count": 65,
     "metadata": {},
     "output_type": "execute_result"
    },
    {
     "name": "stdout",
     "output_type": "stream",
     "text": [
      "Elapsed time  1.0632479190826416\n"
     ]
    },
    {
     "data": {
      "text/plain": [
       "25"
      ]
     },
     "execution_count": 65,
     "metadata": {},
     "output_type": "execute_result"
    },
    {
     "name": "stdout",
     "output_type": "stream",
     "text": [
      "Elapsed time  1.0372250080108643\n"
     ]
    },
    {
     "data": {
      "text/plain": [
       "26"
      ]
     },
     "execution_count": 65,
     "metadata": {},
     "output_type": "execute_result"
    },
    {
     "name": "stdout",
     "output_type": "stream",
     "text": [
      "Elapsed time  1.0202381610870361\n"
     ]
    },
    {
     "data": {
      "text/plain": [
       "27"
      ]
     },
     "execution_count": 65,
     "metadata": {},
     "output_type": "execute_result"
    },
    {
     "name": "stdout",
     "output_type": "stream",
     "text": [
      "Elapsed time  1.0102195739746094\n"
     ]
    },
    {
     "data": {
      "text/plain": [
       "28"
      ]
     },
     "execution_count": 65,
     "metadata": {},
     "output_type": "execute_result"
    },
    {
     "name": "stdout",
     "output_type": "stream",
     "text": [
      "Elapsed time  1.0002250671386719\n"
     ]
    },
    {
     "data": {
      "text/plain": [
       "29"
      ]
     },
     "execution_count": 65,
     "metadata": {},
     "output_type": "execute_result"
    },
    {
     "name": "stdout",
     "output_type": "stream",
     "text": [
      "Elapsed time  0.9852221012115479\n"
     ]
    },
    {
     "data": {
      "text/plain": [
       "30"
      ]
     },
     "execution_count": 65,
     "metadata": {},
     "output_type": "execute_result"
    },
    {
     "name": "stdout",
     "output_type": "stream",
     "text": [
      "Elapsed time  0.9752194881439209\n"
     ]
    },
    {
     "data": {
      "text/plain": [
       "31"
      ]
     },
     "execution_count": 65,
     "metadata": {},
     "output_type": "execute_result"
    },
    {
     "name": "stdout",
     "output_type": "stream",
     "text": [
      "Elapsed time  0.9652173519134521\n"
     ]
    },
    {
     "data": {
      "text/plain": [
       "32"
      ]
     },
     "execution_count": 65,
     "metadata": {},
     "output_type": "execute_result"
    },
    {
     "name": "stdout",
     "output_type": "stream",
     "text": [
      "Elapsed time  0.9502136707305908\n"
     ]
    },
    {
     "data": {
      "text/plain": [
       "33"
      ]
     },
     "execution_count": 65,
     "metadata": {},
     "output_type": "execute_result"
    },
    {
     "name": "stdout",
     "output_type": "stream",
     "text": [
      "Elapsed time  0.9402122497558594\n"
     ]
    },
    {
     "data": {
      "text/plain": [
       "34"
      ]
     },
     "execution_count": 65,
     "metadata": {},
     "output_type": "execute_result"
    },
    {
     "name": "stdout",
     "output_type": "stream",
     "text": [
      "Elapsed time  0.9332013130187988\n"
     ]
    },
    {
     "data": {
      "text/plain": [
       "35"
      ]
     },
     "execution_count": 65,
     "metadata": {},
     "output_type": "execute_result"
    },
    {
     "name": "stdout",
     "output_type": "stream",
     "text": [
      "Elapsed time  0.9232075214385986\n"
     ]
    },
    {
     "data": {
      "text/plain": [
       "36"
      ]
     },
     "execution_count": 65,
     "metadata": {},
     "output_type": "execute_result"
    },
    {
     "name": "stdout",
     "output_type": "stream",
     "text": [
      "Elapsed time  0.91721510887146\n"
     ]
    },
    {
     "data": {
      "text/plain": [
       "37"
      ]
     },
     "execution_count": 65,
     "metadata": {},
     "output_type": "execute_result"
    },
    {
     "name": "stdout",
     "output_type": "stream",
     "text": [
      "Elapsed time  0.9031953811645508\n"
     ]
    },
    {
     "data": {
      "text/plain": [
       "38"
      ]
     },
     "execution_count": 65,
     "metadata": {},
     "output_type": "execute_result"
    },
    {
     "name": "stdout",
     "output_type": "stream",
     "text": [
      "Elapsed time  0.903212308883667\n"
     ]
    },
    {
     "data": {
      "text/plain": [
       "39"
      ]
     },
     "execution_count": 65,
     "metadata": {},
     "output_type": "execute_result"
    },
    {
     "name": "stdout",
     "output_type": "stream",
     "text": [
      "Elapsed time  0.8851995468139648\n"
     ]
    },
    {
     "data": {
      "text/plain": [
       "40"
      ]
     },
     "execution_count": 65,
     "metadata": {},
     "output_type": "execute_result"
    },
    {
     "name": "stdout",
     "output_type": "stream",
     "text": [
      "Elapsed time  0.876197338104248\n"
     ]
    },
    {
     "data": {
      "text/plain": [
       "41"
      ]
     },
     "execution_count": 65,
     "metadata": {},
     "output_type": "execute_result"
    },
    {
     "name": "stdout",
     "output_type": "stream",
     "text": [
      "Elapsed time  0.8721961975097656\n"
     ]
    },
    {
     "data": {
      "text/plain": [
       "42"
      ]
     },
     "execution_count": 65,
     "metadata": {},
     "output_type": "execute_result"
    },
    {
     "name": "stdout",
     "output_type": "stream",
     "text": [
      "Elapsed time  0.8631863594055176\n"
     ]
    },
    {
     "data": {
      "text/plain": [
       "43"
      ]
     },
     "execution_count": 65,
     "metadata": {},
     "output_type": "execute_result"
    },
    {
     "name": "stdout",
     "output_type": "stream",
     "text": [
      "Elapsed time  0.8611938953399658\n"
     ]
    },
    {
     "data": {
      "text/plain": [
       "44"
      ]
     },
     "execution_count": 65,
     "metadata": {},
     "output_type": "execute_result"
    },
    {
     "name": "stdout",
     "output_type": "stream",
     "text": [
      "Elapsed time  0.8541920185089111\n"
     ]
    },
    {
     "data": {
      "text/plain": [
       "45"
      ]
     },
     "execution_count": 65,
     "metadata": {},
     "output_type": "execute_result"
    },
    {
     "name": "stdout",
     "output_type": "stream",
     "text": [
      "Elapsed time  0.8461990356445312\n"
     ]
    },
    {
     "data": {
      "text/plain": [
       "46"
      ]
     },
     "execution_count": 65,
     "metadata": {},
     "output_type": "execute_result"
    },
    {
     "name": "stdout",
     "output_type": "stream",
     "text": [
      "Elapsed time  0.8381803035736084\n"
     ]
    },
    {
     "data": {
      "text/plain": [
       "47"
      ]
     },
     "execution_count": 65,
     "metadata": {},
     "output_type": "execute_result"
    },
    {
     "name": "stdout",
     "output_type": "stream",
     "text": [
      "Elapsed time  0.8321871757507324\n"
     ]
    },
    {
     "data": {
      "text/plain": [
       "48"
      ]
     },
     "execution_count": 65,
     "metadata": {},
     "output_type": "execute_result"
    },
    {
     "name": "stdout",
     "output_type": "stream",
     "text": [
      "Elapsed time  0.8211932182312012\n"
     ]
    },
    {
     "data": {
      "text/plain": [
       "49"
      ]
     },
     "execution_count": 65,
     "metadata": {},
     "output_type": "execute_result"
    },
    {
     "name": "stdout",
     "output_type": "stream",
     "text": [
      "Elapsed time  0.8181841373443604\n"
     ]
    },
    {
     "data": {
      "text/plain": [
       "50"
      ]
     },
     "execution_count": 65,
     "metadata": {},
     "output_type": "execute_result"
    },
    {
     "name": "stdout",
     "output_type": "stream",
     "text": [
      "Elapsed time  0.8081822395324707\n"
     ]
    },
    {
     "data": {
      "text/plain": [
       "51"
      ]
     },
     "execution_count": 65,
     "metadata": {},
     "output_type": "execute_result"
    },
    {
     "name": "stdout",
     "output_type": "stream",
     "text": [
      "Elapsed time  0.8021805286407471\n"
     ]
    },
    {
     "data": {
      "text/plain": [
       "52"
      ]
     },
     "execution_count": 65,
     "metadata": {},
     "output_type": "execute_result"
    },
    {
     "name": "stdout",
     "output_type": "stream",
     "text": [
      "Elapsed time  0.7971792221069336\n"
     ]
    },
    {
     "data": {
      "text/plain": [
       "53"
      ]
     },
     "execution_count": 65,
     "metadata": {},
     "output_type": "execute_result"
    },
    {
     "name": "stdout",
     "output_type": "stream",
     "text": [
      "Elapsed time  0.7931787967681885\n"
     ]
    },
    {
     "data": {
      "text/plain": [
       "54"
      ]
     },
     "execution_count": 65,
     "metadata": {},
     "output_type": "execute_result"
    },
    {
     "name": "stdout",
     "output_type": "stream",
     "text": [
      "Elapsed time  0.7861771583557129\n"
     ]
    },
    {
     "data": {
      "text/plain": [
       "55"
      ]
     },
     "execution_count": 65,
     "metadata": {},
     "output_type": "execute_result"
    },
    {
     "name": "stdout",
     "output_type": "stream",
     "text": [
      "Elapsed time  0.7791671752929688\n"
     ]
    },
    {
     "data": {
      "text/plain": [
       "56"
      ]
     },
     "execution_count": 65,
     "metadata": {},
     "output_type": "execute_result"
    },
    {
     "name": "stdout",
     "output_type": "stream",
     "text": [
      "Elapsed time  0.7731823921203613\n"
     ]
    },
    {
     "data": {
      "text/plain": [
       "57"
      ]
     },
     "execution_count": 65,
     "metadata": {},
     "output_type": "execute_result"
    },
    {
     "name": "stdout",
     "output_type": "stream",
     "text": [
      "Elapsed time  0.7771663665771484\n"
     ]
    },
    {
     "data": {
      "text/plain": [
       "58"
      ]
     },
     "execution_count": 65,
     "metadata": {},
     "output_type": "execute_result"
    },
    {
     "name": "stdout",
     "output_type": "stream",
     "text": [
      "Elapsed time  0.7621798515319824\n"
     ]
    },
    {
     "data": {
      "text/plain": [
       "59"
      ]
     },
     "execution_count": 65,
     "metadata": {},
     "output_type": "execute_result"
    },
    {
     "name": "stdout",
     "output_type": "stream",
     "text": [
      "Elapsed time  0.7611629962921143\n"
     ]
    },
    {
     "data": {
      "text/plain": [
       "60"
      ]
     },
     "execution_count": 65,
     "metadata": {},
     "output_type": "execute_result"
    },
    {
     "name": "stdout",
     "output_type": "stream",
     "text": [
      "Elapsed time  0.7531700134277344\n"
     ]
    },
    {
     "data": {
      "text/plain": [
       "61"
      ]
     },
     "execution_count": 65,
     "metadata": {},
     "output_type": "execute_result"
    },
    {
     "name": "stdout",
     "output_type": "stream",
     "text": [
      "Elapsed time  0.7521696090698242\n"
     ]
    },
    {
     "data": {
      "text/plain": [
       "62"
      ]
     },
     "execution_count": 65,
     "metadata": {},
     "output_type": "execute_result"
    },
    {
     "name": "stdout",
     "output_type": "stream",
     "text": [
      "Elapsed time  0.7411665916442871\n"
     ]
    },
    {
     "data": {
      "text/plain": [
       "63"
      ]
     },
     "execution_count": 65,
     "metadata": {},
     "output_type": "execute_result"
    },
    {
     "name": "stdout",
     "output_type": "stream",
     "text": [
      "Elapsed time  0.7401580810546875\n"
     ]
    },
    {
     "data": {
      "text/plain": [
       "64"
      ]
     },
     "execution_count": 65,
     "metadata": {},
     "output_type": "execute_result"
    },
    {
     "name": "stdout",
     "output_type": "stream",
     "text": [
      "Elapsed time  0.7381749153137207\n"
     ]
    },
    {
     "data": {
      "text/plain": [
       "65"
      ]
     },
     "execution_count": 65,
     "metadata": {},
     "output_type": "execute_result"
    },
    {
     "name": "stdout",
     "output_type": "stream",
     "text": [
      "Elapsed time  0.734156608581543\n"
     ]
    },
    {
     "data": {
      "text/plain": [
       "66"
      ]
     },
     "execution_count": 65,
     "metadata": {},
     "output_type": "execute_result"
    },
    {
     "name": "stdout",
     "output_type": "stream",
     "text": [
      "Elapsed time  0.7301731109619141\n"
     ]
    },
    {
     "data": {
      "text/plain": [
       "67"
      ]
     },
     "execution_count": 65,
     "metadata": {},
     "output_type": "execute_result"
    },
    {
     "name": "stdout",
     "output_type": "stream",
     "text": [
      "Elapsed time  0.7241885662078857\n"
     ]
    },
    {
     "data": {
      "text/plain": [
       "68"
      ]
     },
     "execution_count": 65,
     "metadata": {},
     "output_type": "execute_result"
    },
    {
     "name": "stdout",
     "output_type": "stream",
     "text": [
      "Elapsed time  0.7251629829406738\n"
     ]
    },
    {
     "data": {
      "text/plain": [
       "69"
      ]
     },
     "execution_count": 65,
     "metadata": {},
     "output_type": "execute_result"
    },
    {
     "name": "stdout",
     "output_type": "stream",
     "text": [
      "Elapsed time  0.7101600170135498\n"
     ]
    },
    {
     "data": {
      "text/plain": [
       "70"
      ]
     },
     "execution_count": 65,
     "metadata": {},
     "output_type": "execute_result"
    },
    {
     "name": "stdout",
     "output_type": "stream",
     "text": [
      "Elapsed time  0.7121610641479492\n"
     ]
    },
    {
     "data": {
      "text/plain": [
       "71"
      ]
     },
     "execution_count": 65,
     "metadata": {},
     "output_type": "execute_result"
    },
    {
     "name": "stdout",
     "output_type": "stream",
     "text": [
      "Elapsed time  0.7001593112945557\n"
     ]
    },
    {
     "data": {
      "text/plain": [
       "72"
      ]
     },
     "execution_count": 65,
     "metadata": {},
     "output_type": "execute_result"
    },
    {
     "name": "stdout",
     "output_type": "stream",
     "text": [
      "Elapsed time  0.7014462947845459\n"
     ]
    },
    {
     "data": {
      "text/plain": [
       "73"
      ]
     },
     "execution_count": 65,
     "metadata": {},
     "output_type": "execute_result"
    },
    {
     "name": "stdout",
     "output_type": "stream",
     "text": [
      "Elapsed time  0.7011570930480957\n"
     ]
    },
    {
     "data": {
      "text/plain": [
       "74"
      ]
     },
     "execution_count": 65,
     "metadata": {},
     "output_type": "execute_result"
    },
    {
     "name": "stdout",
     "output_type": "stream",
     "text": [
      "Elapsed time  0.6981570720672607\n"
     ]
    },
    {
     "data": {
      "text/plain": [
       "75"
      ]
     },
     "execution_count": 65,
     "metadata": {},
     "output_type": "execute_result"
    },
    {
     "name": "stdout",
     "output_type": "stream",
     "text": [
      "Elapsed time  0.6931543350219727\n"
     ]
    },
    {
     "data": {
      "text/plain": [
       "76"
      ]
     },
     "execution_count": 65,
     "metadata": {},
     "output_type": "execute_result"
    },
    {
     "name": "stdout",
     "output_type": "stream",
     "text": [
      "Elapsed time  0.6961567401885986\n"
     ]
    },
    {
     "data": {
      "text/plain": [
       "77"
      ]
     },
     "execution_count": 65,
     "metadata": {},
     "output_type": "execute_result"
    },
    {
     "name": "stdout",
     "output_type": "stream",
     "text": [
      "Elapsed time  0.6801536083221436\n"
     ]
    },
    {
     "data": {
      "text/plain": [
       "78"
      ]
     },
     "execution_count": 65,
     "metadata": {},
     "output_type": "execute_result"
    },
    {
     "name": "stdout",
     "output_type": "stream",
     "text": [
      "Elapsed time  0.6827518939971924\n"
     ]
    },
    {
     "data": {
      "text/plain": [
       "79"
      ]
     },
     "execution_count": 65,
     "metadata": {},
     "output_type": "execute_result"
    },
    {
     "name": "stdout",
     "output_type": "stream",
     "text": [
      "Elapsed time  0.6761519908905029\n"
     ]
    },
    {
     "data": {
      "text/plain": [
       "80"
      ]
     },
     "execution_count": 65,
     "metadata": {},
     "output_type": "execute_result"
    },
    {
     "name": "stdout",
     "output_type": "stream",
     "text": [
      "Elapsed time  0.6701509952545166\n"
     ]
    },
    {
     "data": {
      "text/plain": [
       "81"
      ]
     },
     "execution_count": 65,
     "metadata": {},
     "output_type": "execute_result"
    },
    {
     "name": "stdout",
     "output_type": "stream",
     "text": [
      "Elapsed time  0.6718363761901855\n"
     ]
    },
    {
     "data": {
      "text/plain": [
       "82"
      ]
     },
     "execution_count": 65,
     "metadata": {},
     "output_type": "execute_result"
    },
    {
     "name": "stdout",
     "output_type": "stream",
     "text": [
      "Elapsed time  0.6861460208892822\n"
     ]
    },
    {
     "data": {
      "text/plain": [
       "83"
      ]
     },
     "execution_count": 65,
     "metadata": {},
     "output_type": "execute_result"
    },
    {
     "name": "stdout",
     "output_type": "stream",
     "text": [
      "Elapsed time  0.6971676349639893\n"
     ]
    },
    {
     "data": {
      "text/plain": [
       "84"
      ]
     },
     "execution_count": 65,
     "metadata": {},
     "output_type": "execute_result"
    },
    {
     "name": "stdout",
     "output_type": "stream",
     "text": [
      "Elapsed time  0.6701512336730957\n"
     ]
    },
    {
     "data": {
      "text/plain": [
       "85"
      ]
     },
     "execution_count": 65,
     "metadata": {},
     "output_type": "execute_result"
    },
    {
     "name": "stdout",
     "output_type": "stream",
     "text": [
      "Elapsed time  0.6711509227752686\n"
     ]
    },
    {
     "data": {
      "text/plain": [
       "86"
      ]
     },
     "execution_count": 65,
     "metadata": {},
     "output_type": "execute_result"
    },
    {
     "name": "stdout",
     "output_type": "stream",
     "text": [
      "Elapsed time  0.6651501655578613\n"
     ]
    },
    {
     "data": {
      "text/plain": [
       "87"
      ]
     },
     "execution_count": 65,
     "metadata": {},
     "output_type": "execute_result"
    },
    {
     "name": "stdout",
     "output_type": "stream",
     "text": [
      "Elapsed time  0.6641497611999512\n"
     ]
    },
    {
     "data": {
      "text/plain": [
       "88"
      ]
     },
     "execution_count": 65,
     "metadata": {},
     "output_type": "execute_result"
    },
    {
     "name": "stdout",
     "output_type": "stream",
     "text": [
      "Elapsed time  0.6471457481384277\n"
     ]
    },
    {
     "data": {
      "text/plain": [
       "89"
      ]
     },
     "execution_count": 65,
     "metadata": {},
     "output_type": "execute_result"
    },
    {
     "name": "stdout",
     "output_type": "stream",
     "text": [
      "Elapsed time  0.6941559314727783\n"
     ]
    },
    {
     "data": {
      "text/plain": [
       "90"
      ]
     },
     "execution_count": 65,
     "metadata": {},
     "output_type": "execute_result"
    },
    {
     "name": "stdout",
     "output_type": "stream",
     "text": [
      "Elapsed time  0.6421456336975098\n"
     ]
    },
    {
     "data": {
      "text/plain": [
       "91"
      ]
     },
     "execution_count": 65,
     "metadata": {},
     "output_type": "execute_result"
    },
    {
     "name": "stdout",
     "output_type": "stream",
     "text": [
      "Elapsed time  0.6431441307067871\n"
     ]
    },
    {
     "data": {
      "text/plain": [
       "92"
      ]
     },
     "execution_count": 65,
     "metadata": {},
     "output_type": "execute_result"
    },
    {
     "name": "stdout",
     "output_type": "stream",
     "text": [
      "Elapsed time  0.636143684387207\n"
     ]
    },
    {
     "data": {
      "text/plain": [
       "93"
      ]
     },
     "execution_count": 65,
     "metadata": {},
     "output_type": "execute_result"
    },
    {
     "name": "stdout",
     "output_type": "stream",
     "text": [
      "Elapsed time  0.6326870918273926\n"
     ]
    },
    {
     "data": {
      "text/plain": [
       "94"
      ]
     },
     "execution_count": 65,
     "metadata": {},
     "output_type": "execute_result"
    },
    {
     "name": "stdout",
     "output_type": "stream",
     "text": [
      "Elapsed time  0.632134199142456\n"
     ]
    },
    {
     "data": {
      "text/plain": [
       "95"
      ]
     },
     "execution_count": 65,
     "metadata": {},
     "output_type": "execute_result"
    },
    {
     "name": "stdout",
     "output_type": "stream",
     "text": [
      "Elapsed time  0.619147777557373\n"
     ]
    },
    {
     "data": {
      "text/plain": [
       "96"
      ]
     },
     "execution_count": 65,
     "metadata": {},
     "output_type": "execute_result"
    },
    {
     "name": "stdout",
     "output_type": "stream",
     "text": [
      "Elapsed time  0.6181306838989258\n"
     ]
    },
    {
     "data": {
      "text/plain": [
       "97"
      ]
     },
     "execution_count": 65,
     "metadata": {},
     "output_type": "execute_result"
    },
    {
     "name": "stdout",
     "output_type": "stream",
     "text": [
      "Elapsed time  0.6251406669616699\n"
     ]
    },
    {
     "data": {
      "text/plain": [
       "98"
      ]
     },
     "execution_count": 65,
     "metadata": {},
     "output_type": "execute_result"
    },
    {
     "name": "stdout",
     "output_type": "stream",
     "text": [
      "Elapsed time  0.6133978366851807\n"
     ]
    },
    {
     "data": {
      "text/plain": [
       "99"
      ]
     },
     "execution_count": 65,
     "metadata": {},
     "output_type": "execute_result"
    },
    {
     "name": "stdout",
     "output_type": "stream",
     "text": [
      "Elapsed time  0.6205461025238037\n"
     ]
    },
    {
     "data": {
      "text/plain": [
       "100"
      ]
     },
     "execution_count": 65,
     "metadata": {},
     "output_type": "execute_result"
    },
    {
     "name": "stdout",
     "output_type": "stream",
     "text": [
      "Elapsed time  0.6071279048919678\n"
     ]
    },
    {
     "data": {
      "text/plain": [
       "101"
      ]
     },
     "execution_count": 65,
     "metadata": {},
     "output_type": "execute_result"
    },
    {
     "name": "stdout",
     "output_type": "stream",
     "text": [
      "Elapsed time  0.6091375350952148\n"
     ]
    },
    {
     "data": {
      "text/plain": [
       "102"
      ]
     },
     "execution_count": 65,
     "metadata": {},
     "output_type": "execute_result"
    },
    {
     "name": "stdout",
     "output_type": "stream",
     "text": [
      "Elapsed time  0.6071362495422363\n"
     ]
    },
    {
     "data": {
      "text/plain": [
       "103"
      ]
     },
     "execution_count": 65,
     "metadata": {},
     "output_type": "execute_result"
    },
    {
     "name": "stdout",
     "output_type": "stream",
     "text": [
      "Elapsed time  0.6022090911865234\n"
     ]
    },
    {
     "data": {
      "text/plain": [
       "104"
      ]
     },
     "execution_count": 65,
     "metadata": {},
     "output_type": "execute_result"
    },
    {
     "name": "stdout",
     "output_type": "stream",
     "text": [
      "Elapsed time  0.6111371517181396\n"
     ]
    },
    {
     "data": {
      "text/plain": [
       "105"
      ]
     },
     "execution_count": 65,
     "metadata": {},
     "output_type": "execute_result"
    },
    {
     "name": "stdout",
     "output_type": "stream",
     "text": [
      "Elapsed time  0.5951888561248779\n"
     ]
    },
    {
     "data": {
      "text/plain": [
       "106"
      ]
     },
     "execution_count": 65,
     "metadata": {},
     "output_type": "execute_result"
    },
    {
     "name": "stdout",
     "output_type": "stream",
     "text": [
      "Elapsed time  0.5981347560882568\n"
     ]
    },
    {
     "data": {
      "text/plain": [
       "107"
      ]
     },
     "execution_count": 65,
     "metadata": {},
     "output_type": "execute_result"
    },
    {
     "name": "stdout",
     "output_type": "stream",
     "text": [
      "Elapsed time  0.5921332836151123\n"
     ]
    },
    {
     "data": {
      "text/plain": [
       "108"
      ]
     },
     "execution_count": 65,
     "metadata": {},
     "output_type": "execute_result"
    },
    {
     "name": "stdout",
     "output_type": "stream",
     "text": [
      "Elapsed time  0.5862851142883301\n"
     ]
    },
    {
     "data": {
      "text/plain": [
       "109"
      ]
     },
     "execution_count": 65,
     "metadata": {},
     "output_type": "execute_result"
    },
    {
     "name": "stdout",
     "output_type": "stream",
     "text": [
      "Elapsed time  0.5921339988708496\n"
     ]
    },
    {
     "data": {
      "text/plain": [
       "110"
      ]
     },
     "execution_count": 65,
     "metadata": {},
     "output_type": "execute_result"
    },
    {
     "name": "stdout",
     "output_type": "stream",
     "text": [
      "Elapsed time  0.5841314792633057\n"
     ]
    },
    {
     "data": {
      "text/plain": [
       "111"
      ]
     },
     "execution_count": 65,
     "metadata": {},
     "output_type": "execute_result"
    },
    {
     "name": "stdout",
     "output_type": "stream",
     "text": [
      "Elapsed time  0.5851316452026367\n"
     ]
    },
    {
     "data": {
      "text/plain": [
       "112"
      ]
     },
     "execution_count": 65,
     "metadata": {},
     "output_type": "execute_result"
    },
    {
     "name": "stdout",
     "output_type": "stream",
     "text": [
      "Elapsed time  0.5841314792633057\n"
     ]
    },
    {
     "data": {
      "text/plain": [
       "113"
      ]
     },
     "execution_count": 65,
     "metadata": {},
     "output_type": "execute_result"
    },
    {
     "name": "stdout",
     "output_type": "stream",
     "text": [
      "Elapsed time  0.582129716873169\n"
     ]
    },
    {
     "data": {
      "text/plain": [
       "114"
      ]
     },
     "execution_count": 65,
     "metadata": {},
     "output_type": "execute_result"
    },
    {
     "name": "stdout",
     "output_type": "stream",
     "text": [
      "Elapsed time  0.5811309814453125\n"
     ]
    },
    {
     "data": {
      "text/plain": [
       "115"
      ]
     },
     "execution_count": 65,
     "metadata": {},
     "output_type": "execute_result"
    },
    {
     "name": "stdout",
     "output_type": "stream",
     "text": [
      "Elapsed time  0.5771303176879883\n"
     ]
    },
    {
     "data": {
      "text/plain": [
       "116"
      ]
     },
     "execution_count": 65,
     "metadata": {},
     "output_type": "execute_result"
    },
    {
     "name": "stdout",
     "output_type": "stream",
     "text": [
      "Elapsed time  0.5753612518310547\n"
     ]
    },
    {
     "data": {
      "text/plain": [
       "117"
      ]
     },
     "execution_count": 65,
     "metadata": {},
     "output_type": "execute_result"
    },
    {
     "name": "stdout",
     "output_type": "stream",
     "text": [
      "Elapsed time  0.5691359043121338\n"
     ]
    },
    {
     "data": {
      "text/plain": [
       "118"
      ]
     },
     "execution_count": 65,
     "metadata": {},
     "output_type": "execute_result"
    },
    {
     "name": "stdout",
     "output_type": "stream",
     "text": [
      "Elapsed time  0.5661189556121826\n"
     ]
    },
    {
     "data": {
      "text/plain": [
       "119"
      ]
     },
     "execution_count": 65,
     "metadata": {},
     "output_type": "execute_result"
    },
    {
     "name": "stdout",
     "output_type": "stream",
     "text": [
      "Elapsed time  0.5701284408569336\n"
     ]
    },
    {
     "data": {
      "text/plain": [
       "120"
      ]
     },
     "execution_count": 65,
     "metadata": {},
     "output_type": "execute_result"
    },
    {
     "name": "stdout",
     "output_type": "stream",
     "text": [
      "Elapsed time  0.5587368011474609\n"
     ]
    },
    {
     "data": {
      "text/plain": [
       "121"
      ]
     },
     "execution_count": 65,
     "metadata": {},
     "output_type": "execute_result"
    },
    {
     "name": "stdout",
     "output_type": "stream",
     "text": [
      "Elapsed time  0.5661275386810303\n"
     ]
    },
    {
     "data": {
      "text/plain": [
       "122"
      ]
     },
     "execution_count": 65,
     "metadata": {},
     "output_type": "execute_result"
    },
    {
     "name": "stdout",
     "output_type": "stream",
     "text": [
      "Elapsed time  0.5591254234313965\n"
     ]
    },
    {
     "data": {
      "text/plain": [
       "123"
      ]
     },
     "execution_count": 65,
     "metadata": {},
     "output_type": "execute_result"
    },
    {
     "name": "stdout",
     "output_type": "stream",
     "text": [
      "Elapsed time  0.5531246662139893\n"
     ]
    },
    {
     "data": {
      "text/plain": [
       "124"
      ]
     },
     "execution_count": 65,
     "metadata": {},
     "output_type": "execute_result"
    },
    {
     "name": "stdout",
     "output_type": "stream",
     "text": [
      "Elapsed time  0.5561254024505615\n"
     ]
    },
    {
     "data": {
      "text/plain": [
       "125"
      ]
     },
     "execution_count": 65,
     "metadata": {},
     "output_type": "execute_result"
    },
    {
     "name": "stdout",
     "output_type": "stream",
     "text": [
      "Elapsed time  0.556124210357666\n"
     ]
    },
    {
     "data": {
      "text/plain": [
       "126"
      ]
     },
     "execution_count": 65,
     "metadata": {},
     "output_type": "execute_result"
    },
    {
     "name": "stdout",
     "output_type": "stream",
     "text": [
      "Elapsed time  0.5510303974151611\n"
     ]
    },
    {
     "data": {
      "text/plain": [
       "127"
      ]
     },
     "execution_count": 65,
     "metadata": {},
     "output_type": "execute_result"
    },
    {
     "name": "stdout",
     "output_type": "stream",
     "text": [
      "Elapsed time  0.5471229553222656\n"
     ]
    },
    {
     "data": {
      "text/plain": [
       "128"
      ]
     },
     "execution_count": 65,
     "metadata": {},
     "output_type": "execute_result"
    },
    {
     "name": "stdout",
     "output_type": "stream",
     "text": [
      "Elapsed time  0.5441229343414307\n"
     ]
    },
    {
     "data": {
      "text/plain": [
       "129"
      ]
     },
     "execution_count": 65,
     "metadata": {},
     "output_type": "execute_result"
    },
    {
     "name": "stdout",
     "output_type": "stream",
     "text": [
      "Elapsed time  0.5451302528381348\n"
     ]
    },
    {
     "data": {
      "text/plain": [
       "130"
      ]
     },
     "execution_count": 65,
     "metadata": {},
     "output_type": "execute_result"
    },
    {
     "name": "stdout",
     "output_type": "stream",
     "text": [
      "Elapsed time  0.5421140193939209\n"
     ]
    },
    {
     "data": {
      "text/plain": [
       "131"
      ]
     },
     "execution_count": 65,
     "metadata": {},
     "output_type": "execute_result"
    },
    {
     "name": "stdout",
     "output_type": "stream",
     "text": [
      "Elapsed time  0.5378963947296143\n"
     ]
    },
    {
     "data": {
      "text/plain": [
       "132"
      ]
     },
     "execution_count": 65,
     "metadata": {},
     "output_type": "execute_result"
    },
    {
     "name": "stdout",
     "output_type": "stream",
     "text": [
      "Elapsed time  0.544114351272583\n"
     ]
    },
    {
     "data": {
      "text/plain": [
       "133"
      ]
     },
     "execution_count": 65,
     "metadata": {},
     "output_type": "execute_result"
    },
    {
     "name": "stdout",
     "output_type": "stream",
     "text": [
      "Elapsed time  0.5375156402587891\n"
     ]
    },
    {
     "data": {
      "text/plain": [
       "134"
      ]
     },
     "execution_count": 65,
     "metadata": {},
     "output_type": "execute_result"
    },
    {
     "name": "stdout",
     "output_type": "stream",
     "text": [
      "Elapsed time  0.5341119766235352\n"
     ]
    },
    {
     "data": {
      "text/plain": [
       "135"
      ]
     },
     "execution_count": 65,
     "metadata": {},
     "output_type": "execute_result"
    },
    {
     "name": "stdout",
     "output_type": "stream",
     "text": [
      "Elapsed time  0.5311193466186523\n"
     ]
    },
    {
     "data": {
      "text/plain": [
       "136"
      ]
     },
     "execution_count": 65,
     "metadata": {},
     "output_type": "execute_result"
    },
    {
     "name": "stdout",
     "output_type": "stream",
     "text": [
      "Elapsed time  0.5311195850372314\n"
     ]
    },
    {
     "data": {
      "text/plain": [
       "137"
      ]
     },
     "execution_count": 65,
     "metadata": {},
     "output_type": "execute_result"
    },
    {
     "name": "stdout",
     "output_type": "stream",
     "text": [
      "Elapsed time  0.5301191806793213\n"
     ]
    },
    {
     "data": {
      "text/plain": [
       "138"
      ]
     },
     "execution_count": 65,
     "metadata": {},
     "output_type": "execute_result"
    },
    {
     "name": "stdout",
     "output_type": "stream",
     "text": [
      "Elapsed time  0.5251185894012451\n"
     ]
    },
    {
     "data": {
      "text/plain": [
       "139"
      ]
     },
     "execution_count": 65,
     "metadata": {},
     "output_type": "execute_result"
    },
    {
     "name": "stdout",
     "output_type": "stream",
     "text": [
      "Elapsed time  0.5281188488006592\n"
     ]
    }
   ],
   "source": [
    "ix_s =  flag.index[flag.iloc[:]==3].to_numpy()\n",
    "ix_f = (flag.index[flag.iloc[:]==4]-1).to_numpy()\n",
    "ix_s\n",
    "ix_f\n",
    "\n",
    "eps = []\n",
    "eps_max = []\n",
    "\n",
    "for j in np.arange(0,len(ix_s)):\n",
    "    t = time.time()\n",
    "    j\n",
    "    \n",
    "    ixL = ix_s[j]\n",
    "    nMax = ix_f[j]\n",
    "    test2 = dataset.iloc[ixL:ixL+1,:].copy()\n",
    "    for i in np.arange(ixL,int(nMax)):\n",
    "        test2.loc[i,'y'] = model.predict(test2.loc[i:i+1,:].drop('y',axis=1))-mean/180\n",
    "        if i != int(nMax-1):\n",
    "            test2.loc[i+1,0:nPast] = test2.loc[i,:].shift(-1)\n",
    "            test2.loc[i+1,'e'] = test2.loc[i,'e']\n",
    "    eps.append(test2.iloc[-1,-2])\n",
    "    eps_max.append((test2.loc[:,'y']-dataset.loc[ixL:nMax,'y']).max())\n",
    "    \n",
    "    print('Elapsed time ', (time.time()-t))"
   ]
  },
  {
   "cell_type": "code",
   "execution_count": 110,
   "metadata": {},
   "outputs": [
    {
     "name": "stdout",
     "output_type": "stream",
     "text": [
      "Using matplotlib backend: Qt5Agg\n"
     ]
    },
    {
     "data": {
      "text/plain": [
       "[<matplotlib.lines.Line2D at 0x1bca86fb688>]"
      ]
     },
     "execution_count": 110,
     "metadata": {},
     "output_type": "execute_result"
    }
   ],
   "source": [
    "#dataset.iloc[ix_s,-1]\n",
    "#np.multiply(eps_max,180)\n",
    "%matplotlib \n",
    "plt.plot(dataset.iloc[ix_s,-1], np.multiply(eps-dataset.iloc[ix_f,-2],180)) #dataset.iloc[ix_s,-1] #ix_f-ix_s #eps-dataset.iloc[ix_f,-2] #np.multiply(eps-dataset.iloc[ix_f,-2],1)\n",
    "_ = plt.ylabel(\"Prediction Error at End [deg]\")\n",
    "_ = plt.xlabel(\"Eccentricity\")\n",
    "#eps-dataset.iloc[ix_f,-2]\n",
    "#ix_f-ix_s"
   ]
  },
  {
   "cell_type": "code",
   "execution_count": 98,
   "metadata": {},
   "outputs": [
    {
     "name": "stdout",
     "output_type": "stream",
     "text": [
      "Elapsed time  0.0\n"
     ]
    }
   ],
   "source": [
    "ixL = 20019\n",
    "nMax = 20524-ixL\n",
    "test2 = dataset.iloc[ixL:ixL+1,:].copy()\n",
    "\n",
    "t = time.time()\n",
    "\n",
    "for i in np.arange(ixL,int(nMax)):\n",
    "    test2.loc[i,'y'] = model.predict(test2.loc[i:i+1,:].drop('y',axis=1))-mean/180\n",
    "    if i != int(nMax-1):\n",
    "        test2.loc[i+1,0:nPast] = test2.loc[i,:].shift(-1)\n",
    "        test2.loc[i+1,'e'] = test2.loc[i,'e']\n",
    "# test2\n",
    "print('Elapsed time ', (time.time()-t))"
   ]
  },
  {
   "cell_type": "code",
   "execution_count": 99,
   "metadata": {
    "scrolled": true
   },
   "outputs": [
    {
     "data": {
      "text/plain": [
       "[<matplotlib.lines.Line2D at 0x1bca92fbe08>]"
      ]
     },
     "execution_count": 99,
     "metadata": {},
     "output_type": "execute_result"
    },
    {
     "data": {
      "text/plain": [
       "[<matplotlib.lines.Line2D at 0x1bca90c9208>]"
      ]
     },
     "execution_count": 99,
     "metadata": {},
     "output_type": "execute_result"
    },
    {
     "data": {
      "text/plain": [
       "<matplotlib.legend.Legend at 0x1bca9302108>"
      ]
     },
     "execution_count": 99,
     "metadata": {},
     "output_type": "execute_result"
    },
    {
     "data": {
      "image/png": "[encoded data removed]",
      "text/plain": [
       "<Figure size 432x288 with 1 Axes>"
      ]
     },
     "metadata": {
      "needs_background": "light"
     },
     "output_type": "display_data"
    }
   ],
   "source": [
    "%matplotlib inline\n",
    "plt.plot(dataset.loc[ixL:nMax,'y']*180)\n",
    "plt.plot(test2['y']*180)\n",
    "plt.legend(['data','test'],loc='lower right')"
   ]
  },
  {
   "cell_type": "code",
   "execution_count": 100,
   "metadata": {},
   "outputs": [
    {
     "data": {
      "text/plain": [
       "[<matplotlib.lines.Line2D at 0x1bca90d41c8>]"
      ]
     },
     "execution_count": 100,
     "metadata": {},
     "output_type": "execute_result"
    },
    {
     "data": {
      "text/plain": [
       "<matplotlib.legend.Legend at 0x1bca91e21c8>"
      ]
     },
     "execution_count": 100,
     "metadata": {},
     "output_type": "execute_result"
    },
    {
     "data": {
      "image/png": "[encoded data removed]",
      "text/plain": [
       "<Figure size 432x288 with 1 Axes>"
      ]
     },
     "metadata": {
      "needs_background": "light"
     },
     "output_type": "display_data"
    }
   ],
   "source": [
    "%matplotlib inline\n",
    "plt.plot((dataset.loc[ixL:nMax,'y']-test2['y'])*180)\n",
    "plt.legend(['Diff. test'],loc='lower right')\n"
   ]
  },
  {
   "cell_type": "code",
   "execution_count": null,
   "metadata": {},
   "outputs": [],
   "source": []
  }
 ],
 "metadata": {
  "kernelspec": {
   "display_name": "Python 3",
   "language": "python",
   "name": "python3"
  },
  "language_info": {
   "codemirror_mode": {
    "name": "ipython",
    "version": 3
   },
   "file_extension": ".py",
   "mimetype": "text/x-python",
   "name": "python",
   "nbconvert_exporter": "python",
   "pygments_lexer": "ipython3",
   "version": "3.7.6"
  }
 },
 "nbformat": 4,
 "nbformat_minor": 4
}
